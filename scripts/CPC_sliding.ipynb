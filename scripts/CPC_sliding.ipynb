{
 "cells": [
  {
   "cell_type": "code",
   "execution_count": 1,
   "id": "dc157c11-3b30-4f1f-a6d6-eb70d767bbf1",
   "metadata": {},
   "outputs": [
    {
     "name": "stdout",
     "output_type": "stream",
     "text": [
      "pandas 2.0.0.\n",
      "seaborn 0.12.2.\n",
      "numpy 1.24.1.\n",
      "dill 0.3.6.\n"
     ]
    }
   ],
   "source": [
    "import pandas as pd\n",
    "print('pandas {}.'.format(pd.__version__))\n",
    "import seaborn as sns\n",
    "print('seaborn {}.'.format(sns.__version__))\n",
    "%matplotlib inline\n",
    "import matplotlib.pyplot as plt\n",
    "import numpy as np\n",
    "print('numpy {}.'.format(np.__version__))\n",
    "from sklearn.utils import shuffle\n",
    "import dill\n",
    "print('dill {}.'.format(dill.__version__))"
   ]
  },
  {
   "cell_type": "code",
   "execution_count": 2,
   "id": "68761d9e-c12a-49f0-a628-cc7a0151e7e7",
   "metadata": {},
   "outputs": [
    {
     "name": "stderr",
     "output_type": "stream",
     "text": [
      "C:\\Users\\ACER\\AppData\\Local\\Temp\\ipykernel_9564\\2277245211.py:1: DtypeWarning: Columns (34) have mixed types. Specify dtype option on import or set low_memory=False.\n",
      "  df_clickhouse = pd.read_csv('../internship/clickhouse.csv')\n"
     ]
    },
    {
     "data": {
      "text/plain": [
       "(5889167, 39)"
      ]
     },
     "execution_count": 2,
     "metadata": {},
     "output_type": "execute_result"
    }
   ],
   "source": [
    "df_clickhouse = pd.read_csv('../internship/clickhouse.csv')\n",
    "df_clickhouse.shape"
   ]
  },
  {
   "cell_type": "code",
   "execution_count": 15,
   "id": "f9d55117-91a6-421e-9c87-41d40705bbf5",
   "metadata": {},
   "outputs": [
    {
     "data": {
      "text/html": [
       "<div>\n",
       "<style scoped>\n",
       "    .dataframe tbody tr th:only-of-type {\n",
       "        vertical-align: middle;\n",
       "    }\n",
       "\n",
       "    .dataframe tbody tr th {\n",
       "        vertical-align: top;\n",
       "    }\n",
       "\n",
       "    .dataframe thead th {\n",
       "        text-align: right;\n",
       "    }\n",
       "</style>\n",
       "<table border=\"1\" class=\"dataframe\">\n",
       "  <thead>\n",
       "    <tr style=\"text-align: right;\">\n",
       "      <th></th>\n",
       "      <th>auction_date_time</th>\n",
       "      <th>impression_hash</th>\n",
       "      <th>ssp</th>\n",
       "      <th>auction_id</th>\n",
       "      <th>impression_id</th>\n",
       "      <th>bid_id</th>\n",
       "      <th>auction_type</th>\n",
       "      <th>bid_floor</th>\n",
       "      <th>bid_price</th>\n",
       "      <th>loss_reason</th>\n",
       "      <th>...</th>\n",
       "      <th>site_id</th>\n",
       "      <th>tag_id</th>\n",
       "      <th>iab_category</th>\n",
       "      <th>ab_test</th>\n",
       "      <th>enter_utm_source</th>\n",
       "      <th>enter_utm_campaign</th>\n",
       "      <th>enter_utm_medium</th>\n",
       "      <th>enter_utm_content</th>\n",
       "      <th>enter_utm_term</th>\n",
       "      <th>event_date_time</th>\n",
       "    </tr>\n",
       "  </thead>\n",
       "  <tbody>\n",
       "    <tr>\n",
       "      <th>0</th>\n",
       "      <td>2024-01-10 15:15:34</td>\n",
       "      <td>3595129331408507136</td>\n",
       "      <td>7</td>\n",
       "      <td>cmf8kpg76rmanjkfhlh0</td>\n",
       "      <td>mobicbottomx2002_1</td>\n",
       "      <td>3Y1MGDSF4DZ45TYK3J8BXRZH</td>\n",
       "      <td>fst_price</td>\n",
       "      <td>0.01</td>\n",
       "      <td>107056393</td>\n",
       "      <td>10</td>\n",
       "      <td>...</td>\n",
       "      <td>01gm531atx</td>\n",
       "      <td>mobicbottomx2002</td>\n",
       "      <td>[]</td>\n",
       "      <td>automl</td>\n",
       "      <td>rtb_24smi</td>\n",
       "      <td>86</td>\n",
       "      <td>bidml</td>\n",
       "      <td>7f73d0f3b178</td>\n",
       "      <td>13926_25077</td>\n",
       "      <td>2024-01-10 15:15:45</td>\n",
       "    </tr>\n",
       "    <tr>\n",
       "      <th>1</th>\n",
       "      <td>2024-01-22 15:49:37</td>\n",
       "      <td>5501180719971990097</td>\n",
       "      <td>7</td>\n",
       "      <td>cmn68o876rmanjm2to9g</td>\n",
       "      <td>v45h0s63cj3bst4e_2</td>\n",
       "      <td>3Z0K7D4EPZH05TQNXA6PK9EF</td>\n",
       "      <td>fst_price</td>\n",
       "      <td>0.01</td>\n",
       "      <td>61879580</td>\n",
       "      <td>19</td>\n",
       "      <td>...</td>\n",
       "      <td>01hew0ev25</td>\n",
       "      <td>v45h0s63cj3bst4e</td>\n",
       "      <td>[]</td>\n",
       "      <td>automl</td>\n",
       "      <td>rtb_24smi</td>\n",
       "      <td>86</td>\n",
       "      <td>bidml</td>\n",
       "      <td>0a395fe6dd05</td>\n",
       "      <td>16608_16536</td>\n",
       "      <td>2024-01-22 15:49:43</td>\n",
       "    </tr>\n",
       "    <tr>\n",
       "      <th>2</th>\n",
       "      <td>2024-01-11 21:47:01</td>\n",
       "      <td>8997213320937048206</td>\n",
       "      <td>7</td>\n",
       "      <td>cmg3f9876rmanjgkth00</td>\n",
       "      <td>tk6eb5nq1w1sxmt2_4</td>\n",
       "      <td>3Y4X9XT2D7CZD3GSM1E7PD2E</td>\n",
       "      <td>fst_price</td>\n",
       "      <td>0.01</td>\n",
       "      <td>22018806</td>\n",
       "      <td>0</td>\n",
       "      <td>...</td>\n",
       "      <td>01hew0ev25</td>\n",
       "      <td>tk6eb5nq1w1sxmt2</td>\n",
       "      <td>[]</td>\n",
       "      <td>catboost</td>\n",
       "      <td>rtb_24smi</td>\n",
       "      <td>86</td>\n",
       "      <td>bidml</td>\n",
       "      <td>04376a608224</td>\n",
       "      <td>22858_25378</td>\n",
       "      <td>2024-01-11 21:47:02</td>\n",
       "    </tr>\n",
       "    <tr>\n",
       "      <th>3</th>\n",
       "      <td>2024-01-14 16:57:24</td>\n",
       "      <td>-6183089819839663183</td>\n",
       "      <td>7</td>\n",
       "      <td>cmhugh076rmanjice1i0</td>\n",
       "      <td>au2d6d7cjcpefc00_2</td>\n",
       "      <td>3YC3XSA2HXEBN986JGKHKEJ2</td>\n",
       "      <td>fst_price</td>\n",
       "      <td>0.01</td>\n",
       "      <td>68345961</td>\n",
       "      <td>2</td>\n",
       "      <td>...</td>\n",
       "      <td>01gm531atx</td>\n",
       "      <td>au2d6d7cjcpefc00</td>\n",
       "      <td>[]</td>\n",
       "      <td>automl</td>\n",
       "      <td>rtb_24smi</td>\n",
       "      <td>86</td>\n",
       "      <td>bidml</td>\n",
       "      <td>9b209a09a68a</td>\n",
       "      <td>30261_24285</td>\n",
       "      <td>2024-01-14 16:57:26</td>\n",
       "    </tr>\n",
       "    <tr>\n",
       "      <th>4</th>\n",
       "      <td>2024-01-16 13:12:22</td>\n",
       "      <td>2397132522009946486</td>\n",
       "      <td>7</td>\n",
       "      <td>cmj5d1g76rmanjgu50og</td>\n",
       "      <td>ou9j4n9sqtfe8400_1</td>\n",
       "      <td>3YGVV5E15PV4P9MCA4PR4APY</td>\n",
       "      <td>fst_price</td>\n",
       "      <td>0.01</td>\n",
       "      <td>16396436</td>\n",
       "      <td>0</td>\n",
       "      <td>...</td>\n",
       "      <td>01gm531atx</td>\n",
       "      <td>ou9j4n9sqtfe8400</td>\n",
       "      <td>[]</td>\n",
       "      <td>automl</td>\n",
       "      <td>rtb_24smi</td>\n",
       "      <td>86</td>\n",
       "      <td>bidml</td>\n",
       "      <td>8d65123ad67e</td>\n",
       "      <td>15975_15005</td>\n",
       "      <td>2024-01-16 13:12:22</td>\n",
       "    </tr>\n",
       "  </tbody>\n",
       "</table>\n",
       "<p>5 rows × 39 columns</p>\n",
       "</div>"
      ],
      "text/plain": [
       "     auction_date_time      impression_hash  ssp            auction_id   \n",
       "0  2024-01-10 15:15:34  3595129331408507136    7  cmf8kpg76rmanjkfhlh0  \\\n",
       "1  2024-01-22 15:49:37  5501180719971990097    7  cmn68o876rmanjm2to9g   \n",
       "2  2024-01-11 21:47:01  8997213320937048206    7  cmg3f9876rmanjgkth00   \n",
       "3  2024-01-14 16:57:24 -6183089819839663183    7  cmhugh076rmanjice1i0   \n",
       "4  2024-01-16 13:12:22  2397132522009946486    7  cmj5d1g76rmanjgu50og   \n",
       "\n",
       "        impression_id                    bid_id auction_type  bid_floor   \n",
       "0  mobicbottomx2002_1  3Y1MGDSF4DZ45TYK3J8BXRZH    fst_price       0.01  \\\n",
       "1  v45h0s63cj3bst4e_2  3Z0K7D4EPZH05TQNXA6PK9EF    fst_price       0.01   \n",
       "2  tk6eb5nq1w1sxmt2_4  3Y4X9XT2D7CZD3GSM1E7PD2E    fst_price       0.01   \n",
       "3  au2d6d7cjcpefc00_2  3YC3XSA2HXEBN986JGKHKEJ2    fst_price       0.01   \n",
       "4  ou9j4n9sqtfe8400_1  3YGVV5E15PV4P9MCA4PR4APY    fst_price       0.01   \n",
       "\n",
       "   bid_price  loss_reason  ...     site_id            tag_id  iab_category   \n",
       "0  107056393           10  ...  01gm531atx  mobicbottomx2002            []  \\\n",
       "1   61879580           19  ...  01hew0ev25  v45h0s63cj3bst4e            []   \n",
       "2   22018806            0  ...  01hew0ev25  tk6eb5nq1w1sxmt2            []   \n",
       "3   68345961            2  ...  01gm531atx  au2d6d7cjcpefc00            []   \n",
       "4   16396436            0  ...  01gm531atx  ou9j4n9sqtfe8400            []   \n",
       "\n",
       "    ab_test  enter_utm_source  enter_utm_campaign enter_utm_medium   \n",
       "0    automl         rtb_24smi                  86            bidml  \\\n",
       "1    automl         rtb_24smi                  86            bidml   \n",
       "2  catboost         rtb_24smi                  86            bidml   \n",
       "3    automl         rtb_24smi                  86            bidml   \n",
       "4    automl         rtb_24smi                  86            bidml   \n",
       "\n",
       "  enter_utm_content  enter_utm_term      event_date_time  \n",
       "0      7f73d0f3b178     13926_25077  2024-01-10 15:15:45  \n",
       "1      0a395fe6dd05     16608_16536  2024-01-22 15:49:43  \n",
       "2      04376a608224     22858_25378  2024-01-11 21:47:02  \n",
       "3      9b209a09a68a     30261_24285  2024-01-14 16:57:26  \n",
       "4      8d65123ad67e     15975_15005  2024-01-16 13:12:22  \n",
       "\n",
       "[5 rows x 39 columns]"
      ]
     },
     "execution_count": 15,
     "metadata": {},
     "output_type": "execute_result"
    }
   ],
   "source": [
    "df_clickhouse.head()"
   ]
  },
  {
   "cell_type": "code",
   "execution_count": 16,
   "id": "b025c872-5978-499d-be0b-59425a3aef32",
   "metadata": {},
   "outputs": [
    {
     "data": {
      "text/plain": [
       "Index(['auction_date_time', 'impression_hash', 'ssp', 'auction_id',\n",
       "       'impression_id', 'bid_id', 'auction_type', 'bid_floor', 'bid_price',\n",
       "       'loss_reason', 'is_win', 'pay_price', 'is_pay', 'view', 'place_number',\n",
       "       'click', 'ssp_user_id', 'creative_id', 'campaign_id', 'stream_id',\n",
       "       'link_id', 'format', 'device', 'OS', 'browser', 'geo_country',\n",
       "       'geo_city', 'ip_v4', 'ip_v6', 'site_id', 'tag_id', 'iab_category',\n",
       "       'ab_test', 'enter_utm_source', 'enter_utm_campaign', 'enter_utm_medium',\n",
       "       'enter_utm_content', 'enter_utm_term', 'event_date_time'],\n",
       "      dtype='object')"
      ]
     },
     "execution_count": 16,
     "metadata": {},
     "output_type": "execute_result"
    }
   ],
   "source": [
    "df_clickhouse.columns"
   ]
  },
  {
   "cell_type": "code",
   "execution_count": 24,
   "id": "d1fed760-49e7-4940-ad5f-085f008e1bd6",
   "metadata": {},
   "outputs": [
    {
     "ename": "KeyError",
     "evalue": "\"['impression_hash', 'ssp', 'auction_id', 'bid_id', 'auction_type', 'bid_floor', 'bid_price', 'is_win', 'pay_price', 'is_pay', 'ssp_user_id', 'campaign_id', 'stream_id', 'link_id', 'ip_v4', 'ip_v6', 'site_id', 'iab_category', 'ab_test', 'enter_utm_source', 'enter_utm_campaign', 'enter_utm_medium', 'enter_utm_content', 'enter_utm_term', 'auction_date_time'] not found in axis\"",
     "output_type": "error",
     "traceback": [
      "\u001b[1;31m---------------------------------------------------------------------------\u001b[0m",
      "\u001b[1;31mKeyError\u001b[0m                                  Traceback (most recent call last)",
      "Cell \u001b[1;32mIn[24], line 1\u001b[0m\n\u001b[1;32m----> 1\u001b[0m \u001b[43mdf_clickhouse\u001b[49m\u001b[38;5;241;43m.\u001b[39;49m\u001b[43mdrop\u001b[49m\u001b[43m(\u001b[49m\u001b[43m[\u001b[49m\u001b[38;5;124;43m'\u001b[39;49m\u001b[38;5;124;43mimpression_hash\u001b[39;49m\u001b[38;5;124;43m'\u001b[39;49m\u001b[43m,\u001b[49m\u001b[43m \u001b[49m\u001b[38;5;124;43m'\u001b[39;49m\u001b[38;5;124;43mssp\u001b[39;49m\u001b[38;5;124;43m'\u001b[39;49m\u001b[43m,\u001b[49m\u001b[43m \u001b[49m\u001b[38;5;124;43m'\u001b[39;49m\u001b[38;5;124;43mauction_id\u001b[39;49m\u001b[38;5;124;43m'\u001b[39;49m\u001b[43m,\u001b[49m\u001b[43m \u001b[49m\u001b[38;5;124;43m'\u001b[39;49m\u001b[38;5;124;43mbid_id\u001b[39;49m\u001b[38;5;124;43m'\u001b[39;49m\u001b[43m,\u001b[49m\u001b[43m \u001b[49m\u001b[38;5;124;43m'\u001b[39;49m\u001b[38;5;124;43mauction_type\u001b[39;49m\u001b[38;5;124;43m'\u001b[39;49m\u001b[43m,\u001b[49m\u001b[43m \u001b[49m\u001b[38;5;124;43m'\u001b[39;49m\u001b[38;5;124;43mbid_floor\u001b[39;49m\u001b[38;5;124;43m'\u001b[39;49m\u001b[43m,\u001b[49m\u001b[43m \u001b[49m\u001b[38;5;124;43m'\u001b[39;49m\u001b[38;5;124;43mbid_price\u001b[39;49m\u001b[38;5;124;43m'\u001b[39;49m\u001b[43m,\u001b[49m\u001b[43m \u001b[49m\u001b[38;5;124;43m'\u001b[39;49m\u001b[38;5;124;43mis_win\u001b[39;49m\u001b[38;5;124;43m'\u001b[39;49m\u001b[43m,\u001b[49m\u001b[43m \u001b[49m\u001b[38;5;124;43m'\u001b[39;49m\u001b[38;5;124;43mpay_price\u001b[39;49m\u001b[38;5;124;43m'\u001b[39;49m\u001b[43m,\u001b[49m\u001b[43m \u001b[49m\u001b[38;5;124;43m'\u001b[39;49m\u001b[38;5;124;43mis_pay\u001b[39;49m\u001b[38;5;124;43m'\u001b[39;49m\u001b[43m,\u001b[49m\u001b[43m \u001b[49m\u001b[38;5;124;43m'\u001b[39;49m\u001b[38;5;124;43mssp_user_id\u001b[39;49m\u001b[38;5;124;43m'\u001b[39;49m\u001b[43m,\u001b[49m\u001b[43m \u001b[49m\u001b[38;5;124;43m'\u001b[39;49m\u001b[38;5;124;43mcampaign_id\u001b[39;49m\u001b[38;5;124;43m'\u001b[39;49m\u001b[43m,\u001b[49m\u001b[43m \u001b[49m\u001b[38;5;124;43m'\u001b[39;49m\u001b[38;5;124;43mstream_id\u001b[39;49m\u001b[38;5;124;43m'\u001b[39;49m\u001b[43m,\u001b[49m\u001b[43m \u001b[49m\u001b[38;5;124;43m'\u001b[39;49m\u001b[38;5;124;43mlink_id\u001b[39;49m\u001b[38;5;124;43m'\u001b[39;49m\u001b[43m,\u001b[49m\u001b[43m \u001b[49m\u001b[38;5;124;43m'\u001b[39;49m\u001b[38;5;124;43mip_v4\u001b[39;49m\u001b[38;5;124;43m'\u001b[39;49m\u001b[43m,\u001b[49m\u001b[43m \u001b[49m\u001b[38;5;124;43m'\u001b[39;49m\u001b[38;5;124;43mip_v6\u001b[39;49m\u001b[38;5;124;43m'\u001b[39;49m\u001b[43m,\u001b[49m\u001b[43m \u001b[49m\u001b[38;5;124;43m'\u001b[39;49m\u001b[38;5;124;43msite_id\u001b[39;49m\u001b[38;5;124;43m'\u001b[39;49m\u001b[43m,\u001b[49m\u001b[43m \u001b[49m\u001b[38;5;124;43m'\u001b[39;49m\u001b[38;5;124;43miab_category\u001b[39;49m\u001b[38;5;124;43m'\u001b[39;49m\u001b[43m,\u001b[49m\u001b[43m \u001b[49m\u001b[38;5;124;43m'\u001b[39;49m\u001b[38;5;124;43mab_test\u001b[39;49m\u001b[38;5;124;43m'\u001b[39;49m\u001b[43m,\u001b[49m\u001b[43m \u001b[49m\u001b[38;5;124;43m'\u001b[39;49m\u001b[38;5;124;43menter_utm_source\u001b[39;49m\u001b[38;5;124;43m'\u001b[39;49m\u001b[43m,\u001b[49m\u001b[43m \u001b[49m\u001b[38;5;124;43m'\u001b[39;49m\u001b[38;5;124;43menter_utm_campaign\u001b[39;49m\u001b[38;5;124;43m'\u001b[39;49m\u001b[43m,\u001b[49m\u001b[43m \u001b[49m\u001b[38;5;124;43m'\u001b[39;49m\u001b[38;5;124;43menter_utm_medium\u001b[39;49m\u001b[38;5;124;43m'\u001b[39;49m\u001b[43m,\u001b[49m\u001b[43m \u001b[49m\u001b[38;5;124;43m'\u001b[39;49m\u001b[38;5;124;43menter_utm_content\u001b[39;49m\u001b[38;5;124;43m'\u001b[39;49m\u001b[43m,\u001b[49m\u001b[43m \u001b[49m\u001b[38;5;124;43m'\u001b[39;49m\u001b[38;5;124;43menter_utm_term\u001b[39;49m\u001b[38;5;124;43m'\u001b[39;49m\u001b[43m,\u001b[49m\u001b[43m \u001b[49m\u001b[38;5;124;43m'\u001b[39;49m\u001b[38;5;124;43mauction_date_time\u001b[39;49m\u001b[38;5;124;43m'\u001b[39;49m\u001b[43m]\u001b[49m\u001b[43m,\u001b[49m\u001b[43m \u001b[49m\u001b[43maxis\u001b[49m\u001b[43m \u001b[49m\u001b[38;5;241;43m=\u001b[39;49m\u001b[43m \u001b[49m\u001b[38;5;241;43m1\u001b[39;49m\u001b[43m,\u001b[49m\u001b[43m \u001b[49m\u001b[43minplace\u001b[49m\u001b[43m \u001b[49m\u001b[38;5;241;43m=\u001b[39;49m\u001b[43m \u001b[49m\u001b[38;5;28;43;01mTrue\u001b[39;49;00m\u001b[43m)\u001b[49m\n",
      "File \u001b[1;32m~\\AppData\\Roaming\\Python\\Python311\\site-packages\\pandas\\core\\frame.py:5266\u001b[0m, in \u001b[0;36mDataFrame.drop\u001b[1;34m(self, labels, axis, index, columns, level, inplace, errors)\u001b[0m\n\u001b[0;32m   5118\u001b[0m \u001b[38;5;28;01mdef\u001b[39;00m \u001b[38;5;21mdrop\u001b[39m(\n\u001b[0;32m   5119\u001b[0m     \u001b[38;5;28mself\u001b[39m,\n\u001b[0;32m   5120\u001b[0m     labels: IndexLabel \u001b[38;5;241m=\u001b[39m \u001b[38;5;28;01mNone\u001b[39;00m,\n\u001b[1;32m   (...)\u001b[0m\n\u001b[0;32m   5127\u001b[0m     errors: IgnoreRaise \u001b[38;5;241m=\u001b[39m \u001b[38;5;124m\"\u001b[39m\u001b[38;5;124mraise\u001b[39m\u001b[38;5;124m\"\u001b[39m,\n\u001b[0;32m   5128\u001b[0m ) \u001b[38;5;241m-\u001b[39m\u001b[38;5;241m>\u001b[39m DataFrame \u001b[38;5;241m|\u001b[39m \u001b[38;5;28;01mNone\u001b[39;00m:\n\u001b[0;32m   5129\u001b[0m \u001b[38;5;250m    \u001b[39m\u001b[38;5;124;03m\"\"\"\u001b[39;00m\n\u001b[0;32m   5130\u001b[0m \u001b[38;5;124;03m    Drop specified labels from rows or columns.\u001b[39;00m\n\u001b[0;32m   5131\u001b[0m \n\u001b[1;32m   (...)\u001b[0m\n\u001b[0;32m   5264\u001b[0m \u001b[38;5;124;03m            weight  1.0     0.8\u001b[39;00m\n\u001b[0;32m   5265\u001b[0m \u001b[38;5;124;03m    \"\"\"\u001b[39;00m\n\u001b[1;32m-> 5266\u001b[0m     \u001b[38;5;28;01mreturn\u001b[39;00m \u001b[38;5;28;43msuper\u001b[39;49m\u001b[43m(\u001b[49m\u001b[43m)\u001b[49m\u001b[38;5;241;43m.\u001b[39;49m\u001b[43mdrop\u001b[49m\u001b[43m(\u001b[49m\n\u001b[0;32m   5267\u001b[0m \u001b[43m        \u001b[49m\u001b[43mlabels\u001b[49m\u001b[38;5;241;43m=\u001b[39;49m\u001b[43mlabels\u001b[49m\u001b[43m,\u001b[49m\n\u001b[0;32m   5268\u001b[0m \u001b[43m        \u001b[49m\u001b[43maxis\u001b[49m\u001b[38;5;241;43m=\u001b[39;49m\u001b[43maxis\u001b[49m\u001b[43m,\u001b[49m\n\u001b[0;32m   5269\u001b[0m \u001b[43m        \u001b[49m\u001b[43mindex\u001b[49m\u001b[38;5;241;43m=\u001b[39;49m\u001b[43mindex\u001b[49m\u001b[43m,\u001b[49m\n\u001b[0;32m   5270\u001b[0m \u001b[43m        \u001b[49m\u001b[43mcolumns\u001b[49m\u001b[38;5;241;43m=\u001b[39;49m\u001b[43mcolumns\u001b[49m\u001b[43m,\u001b[49m\n\u001b[0;32m   5271\u001b[0m \u001b[43m        \u001b[49m\u001b[43mlevel\u001b[49m\u001b[38;5;241;43m=\u001b[39;49m\u001b[43mlevel\u001b[49m\u001b[43m,\u001b[49m\n\u001b[0;32m   5272\u001b[0m \u001b[43m        \u001b[49m\u001b[43minplace\u001b[49m\u001b[38;5;241;43m=\u001b[39;49m\u001b[43minplace\u001b[49m\u001b[43m,\u001b[49m\n\u001b[0;32m   5273\u001b[0m \u001b[43m        \u001b[49m\u001b[43merrors\u001b[49m\u001b[38;5;241;43m=\u001b[39;49m\u001b[43merrors\u001b[49m\u001b[43m,\u001b[49m\n\u001b[0;32m   5274\u001b[0m \u001b[43m    \u001b[49m\u001b[43m)\u001b[49m\n",
      "File \u001b[1;32m~\\AppData\\Roaming\\Python\\Python311\\site-packages\\pandas\\core\\generic.py:4549\u001b[0m, in \u001b[0;36mNDFrame.drop\u001b[1;34m(self, labels, axis, index, columns, level, inplace, errors)\u001b[0m\n\u001b[0;32m   4547\u001b[0m \u001b[38;5;28;01mfor\u001b[39;00m axis, labels \u001b[38;5;129;01min\u001b[39;00m axes\u001b[38;5;241m.\u001b[39mitems():\n\u001b[0;32m   4548\u001b[0m     \u001b[38;5;28;01mif\u001b[39;00m labels \u001b[38;5;129;01mis\u001b[39;00m \u001b[38;5;129;01mnot\u001b[39;00m \u001b[38;5;28;01mNone\u001b[39;00m:\n\u001b[1;32m-> 4549\u001b[0m         obj \u001b[38;5;241m=\u001b[39m \u001b[43mobj\u001b[49m\u001b[38;5;241;43m.\u001b[39;49m\u001b[43m_drop_axis\u001b[49m\u001b[43m(\u001b[49m\u001b[43mlabels\u001b[49m\u001b[43m,\u001b[49m\u001b[43m \u001b[49m\u001b[43maxis\u001b[49m\u001b[43m,\u001b[49m\u001b[43m \u001b[49m\u001b[43mlevel\u001b[49m\u001b[38;5;241;43m=\u001b[39;49m\u001b[43mlevel\u001b[49m\u001b[43m,\u001b[49m\u001b[43m \u001b[49m\u001b[43merrors\u001b[49m\u001b[38;5;241;43m=\u001b[39;49m\u001b[43merrors\u001b[49m\u001b[43m)\u001b[49m\n\u001b[0;32m   4551\u001b[0m \u001b[38;5;28;01mif\u001b[39;00m inplace:\n\u001b[0;32m   4552\u001b[0m     \u001b[38;5;28mself\u001b[39m\u001b[38;5;241m.\u001b[39m_update_inplace(obj)\n",
      "File \u001b[1;32m~\\AppData\\Roaming\\Python\\Python311\\site-packages\\pandas\\core\\generic.py:4591\u001b[0m, in \u001b[0;36mNDFrame._drop_axis\u001b[1;34m(self, labels, axis, level, errors, only_slice)\u001b[0m\n\u001b[0;32m   4589\u001b[0m         new_axis \u001b[38;5;241m=\u001b[39m axis\u001b[38;5;241m.\u001b[39mdrop(labels, level\u001b[38;5;241m=\u001b[39mlevel, errors\u001b[38;5;241m=\u001b[39merrors)\n\u001b[0;32m   4590\u001b[0m     \u001b[38;5;28;01melse\u001b[39;00m:\n\u001b[1;32m-> 4591\u001b[0m         new_axis \u001b[38;5;241m=\u001b[39m \u001b[43maxis\u001b[49m\u001b[38;5;241;43m.\u001b[39;49m\u001b[43mdrop\u001b[49m\u001b[43m(\u001b[49m\u001b[43mlabels\u001b[49m\u001b[43m,\u001b[49m\u001b[43m \u001b[49m\u001b[43merrors\u001b[49m\u001b[38;5;241;43m=\u001b[39;49m\u001b[43merrors\u001b[49m\u001b[43m)\u001b[49m\n\u001b[0;32m   4592\u001b[0m     indexer \u001b[38;5;241m=\u001b[39m axis\u001b[38;5;241m.\u001b[39mget_indexer(new_axis)\n\u001b[0;32m   4594\u001b[0m \u001b[38;5;66;03m# Case for non-unique axis\u001b[39;00m\n\u001b[0;32m   4595\u001b[0m \u001b[38;5;28;01melse\u001b[39;00m:\n",
      "File \u001b[1;32m~\\AppData\\Roaming\\Python\\Python311\\site-packages\\pandas\\core\\indexes\\base.py:6696\u001b[0m, in \u001b[0;36mIndex.drop\u001b[1;34m(self, labels, errors)\u001b[0m\n\u001b[0;32m   6694\u001b[0m \u001b[38;5;28;01mif\u001b[39;00m mask\u001b[38;5;241m.\u001b[39many():\n\u001b[0;32m   6695\u001b[0m     \u001b[38;5;28;01mif\u001b[39;00m errors \u001b[38;5;241m!=\u001b[39m \u001b[38;5;124m\"\u001b[39m\u001b[38;5;124mignore\u001b[39m\u001b[38;5;124m\"\u001b[39m:\n\u001b[1;32m-> 6696\u001b[0m         \u001b[38;5;28;01mraise\u001b[39;00m \u001b[38;5;167;01mKeyError\u001b[39;00m(\u001b[38;5;124mf\u001b[39m\u001b[38;5;124m\"\u001b[39m\u001b[38;5;132;01m{\u001b[39;00m\u001b[38;5;28mlist\u001b[39m(labels[mask])\u001b[38;5;132;01m}\u001b[39;00m\u001b[38;5;124m not found in axis\u001b[39m\u001b[38;5;124m\"\u001b[39m)\n\u001b[0;32m   6697\u001b[0m     indexer \u001b[38;5;241m=\u001b[39m indexer[\u001b[38;5;241m~\u001b[39mmask]\n\u001b[0;32m   6698\u001b[0m \u001b[38;5;28;01mreturn\u001b[39;00m \u001b[38;5;28mself\u001b[39m\u001b[38;5;241m.\u001b[39mdelete(indexer)\n",
      "\u001b[1;31mKeyError\u001b[0m: \"['impression_hash', 'ssp', 'auction_id', 'bid_id', 'auction_type', 'bid_floor', 'bid_price', 'is_win', 'pay_price', 'is_pay', 'ssp_user_id', 'campaign_id', 'stream_id', 'link_id', 'ip_v4', 'ip_v6', 'site_id', 'iab_category', 'ab_test', 'enter_utm_source', 'enter_utm_campaign', 'enter_utm_medium', 'enter_utm_content', 'enter_utm_term', 'auction_date_time'] not found in axis\""
     ]
    }
   ],
   "source": [
    "df_clickhouse.drop(['impression_hash', 'ssp', 'auction_id', 'bid_id', 'auction_type', 'bid_floor', 'bid_price', 'is_win', 'pay_price', 'is_pay', 'ssp_user_id', 'campaign_id', 'stream_id', 'link_id', 'ip_v4', 'ip_v6', 'site_id', 'iab_category', 'ab_test', 'enter_utm_source', 'enter_utm_campaign', 'enter_utm_medium', 'enter_utm_content', 'enter_utm_term', 'auction_date_time'], axis = 1, inplace = True)"
   ]
  },
  {
   "cell_type": "code",
   "execution_count": null,
   "id": "65ddd42e-372e-4997-9bb0-695cfbceca0c",
   "metadata": {},
   "outputs": [],
   "source": [
    "df_creatives = pd.read_csv('../internship/creatives.csv')\n",
    "df_creatives.shape"
   ]
  },
  {
   "cell_type": "code",
   "execution_count": 25,
   "id": "2fdaa40b-6e18-41bc-9cea-70e99f28c7c6",
   "metadata": {},
   "outputs": [
    {
     "data": {
      "text/html": [
       "<div>\n",
       "<style scoped>\n",
       "    .dataframe tbody tr th:only-of-type {\n",
       "        vertical-align: middle;\n",
       "    }\n",
       "\n",
       "    .dataframe tbody tr th {\n",
       "        vertical-align: top;\n",
       "    }\n",
       "\n",
       "    .dataframe thead th {\n",
       "        text-align: right;\n",
       "    }\n",
       "</style>\n",
       "<table border=\"1\" class=\"dataframe\">\n",
       "  <thead>\n",
       "    <tr style=\"text-align: right;\">\n",
       "      <th></th>\n",
       "      <th>creative_id</th>\n",
       "      <th>status</th>\n",
       "      <th>is_deleted</th>\n",
       "      <th>campaign_id</th>\n",
       "      <th>user_id</th>\n",
       "      <th>stream_id</th>\n",
       "      <th>theme</th>\n",
       "      <th>second_theme</th>\n",
       "      <th>iab_category</th>\n",
       "      <th>image</th>\n",
       "      <th>image_extension</th>\n",
       "      <th>mime_type</th>\n",
       "      <th>image_tag</th>\n",
       "      <th>created_at</th>\n",
       "      <th>updated_at</th>\n",
       "    </tr>\n",
       "  </thead>\n",
       "  <tbody>\n",
       "    <tr>\n",
       "      <th>0</th>\n",
       "      <td>00796183dbef</td>\n",
       "      <td>paused</td>\n",
       "      <td>0</td>\n",
       "      <td>77</td>\n",
       "      <td>9</td>\n",
       "      <td>77</td>\n",
       "      <td>default</td>\n",
       "      <td>default</td>\n",
       "      <td>NaN</td>\n",
       "      <td>2cdfef1f0f412dd8f49de2fb</td>\n",
       "      <td>png</td>\n",
       "      <td>image/png</td>\n",
       "      <td>default</td>\n",
       "      <td>2023-09-07 16:22:59</td>\n",
       "      <td>2024-01-16 00:47:06</td>\n",
       "    </tr>\n",
       "    <tr>\n",
       "      <th>1</th>\n",
       "      <td>0381d514fa62</td>\n",
       "      <td>active</td>\n",
       "      <td>0</td>\n",
       "      <td>77</td>\n",
       "      <td>9</td>\n",
       "      <td>114</td>\n",
       "      <td>default</td>\n",
       "      <td>default</td>\n",
       "      <td>IAB7</td>\n",
       "      <td>c1debb134e564e2bc17a394c</td>\n",
       "      <td>jpg</td>\n",
       "      <td>image/jpeg</td>\n",
       "      <td>default</td>\n",
       "      <td>2023-08-23 10:35:02</td>\n",
       "      <td>2023-08-23 10:35:02</td>\n",
       "    </tr>\n",
       "    <tr>\n",
       "      <th>2</th>\n",
       "      <td>076906b2d8dc</td>\n",
       "      <td>active</td>\n",
       "      <td>0</td>\n",
       "      <td>77</td>\n",
       "      <td>9</td>\n",
       "      <td>86</td>\n",
       "      <td>нутра</td>\n",
       "      <td>жкт</td>\n",
       "      <td>IAB7</td>\n",
       "      <td>78cf565dd54d54250b103e20</td>\n",
       "      <td>jpg</td>\n",
       "      <td>image/jpeg</td>\n",
       "      <td>разное</td>\n",
       "      <td>2023-07-14 01:19:05</td>\n",
       "      <td>2023-09-20 14:24:51</td>\n",
       "    </tr>\n",
       "    <tr>\n",
       "      <th>3</th>\n",
       "      <td>0d6718e579f3</td>\n",
       "      <td>active</td>\n",
       "      <td>0</td>\n",
       "      <td>77</td>\n",
       "      <td>9</td>\n",
       "      <td>102</td>\n",
       "      <td>нутра</td>\n",
       "      <td>очищение</td>\n",
       "      <td>IAB7</td>\n",
       "      <td>55edaefd1fbbf8a02dcfff6b</td>\n",
       "      <td>jpg</td>\n",
       "      <td>image/jpeg</td>\n",
       "      <td>разное</td>\n",
       "      <td>2023-07-14 02:10:49</td>\n",
       "      <td>2023-07-14 02:10:49</td>\n",
       "    </tr>\n",
       "    <tr>\n",
       "      <th>4</th>\n",
       "      <td>0dca3845ddd4</td>\n",
       "      <td>active</td>\n",
       "      <td>0</td>\n",
       "      <td>77</td>\n",
       "      <td>9</td>\n",
       "      <td>80</td>\n",
       "      <td>нутра</td>\n",
       "      <td>паразиты</td>\n",
       "      <td>IAB7-19</td>\n",
       "      <td>3849d8af671a70dcfac42116</td>\n",
       "      <td>jpg</td>\n",
       "      <td>image/jpeg</td>\n",
       "      <td>папилломы</td>\n",
       "      <td>2023-07-14 02:09:30</td>\n",
       "      <td>2023-07-14 02:09:30</td>\n",
       "    </tr>\n",
       "  </tbody>\n",
       "</table>\n",
       "</div>"
      ],
      "text/plain": [
       "    creative_id  status  is_deleted  campaign_id  user_id  stream_id    theme   \n",
       "0  00796183dbef  paused           0           77        9         77  default  \\\n",
       "1  0381d514fa62  active           0           77        9        114  default   \n",
       "2  076906b2d8dc  active           0           77        9         86    нутра   \n",
       "3  0d6718e579f3  active           0           77        9        102    нутра   \n",
       "4  0dca3845ddd4  active           0           77        9         80    нутра   \n",
       "\n",
       "  second_theme iab_category                     image image_extension   \n",
       "0      default          NaN  2cdfef1f0f412dd8f49de2fb             png  \\\n",
       "1      default         IAB7  c1debb134e564e2bc17a394c             jpg   \n",
       "2          жкт         IAB7  78cf565dd54d54250b103e20             jpg   \n",
       "3     очищение         IAB7  55edaefd1fbbf8a02dcfff6b             jpg   \n",
       "4     паразиты      IAB7-19  3849d8af671a70dcfac42116             jpg   \n",
       "\n",
       "    mime_type  image_tag           created_at           updated_at  \n",
       "0   image/png    default  2023-09-07 16:22:59  2024-01-16 00:47:06  \n",
       "1  image/jpeg    default  2023-08-23 10:35:02  2023-08-23 10:35:02  \n",
       "2  image/jpeg     разное  2023-07-14 01:19:05  2023-09-20 14:24:51  \n",
       "3  image/jpeg     разное  2023-07-14 02:10:49  2023-07-14 02:10:49  \n",
       "4  image/jpeg  папилломы  2023-07-14 02:09:30  2023-07-14 02:09:30  "
      ]
     },
     "execution_count": 25,
     "metadata": {},
     "output_type": "execute_result"
    }
   ],
   "source": [
    "df_creatives.head()"
   ]
  },
  {
   "cell_type": "code",
   "execution_count": 26,
   "id": "8316c110-c61f-4d3c-9ffb-f84b40256215",
   "metadata": {},
   "outputs": [
    {
     "data": {
      "text/plain": [
       "(627, 20)"
      ]
     },
     "execution_count": 26,
     "metadata": {},
     "output_type": "execute_result"
    }
   ],
   "source": [
    "df_leads = pd.read_csv('../internship/leads.csv')\n",
    "df_leads.shape"
   ]
  },
  {
   "cell_type": "code",
   "execution_count": 27,
   "id": "bced70c3-f04e-40a0-899f-791530d23056",
   "metadata": {},
   "outputs": [],
   "source": [
    "df_creatives = df_creatives.rename(columns={'id': 'creative_id'})"
   ]
  },
  {
   "cell_type": "code",
   "execution_count": 28,
   "id": "ba8f2348-2880-4a49-8afd-428fdcd25e56",
   "metadata": {},
   "outputs": [
    {
     "data": {
      "text/plain": [
       "(5889167, 28)"
      ]
     },
     "execution_count": 28,
     "metadata": {},
     "output_type": "execute_result"
    }
   ],
   "source": [
    "df = pd.merge(df_clickhouse, df_creatives, on=\"creative_id\")\n",
    "df.shape"
   ]
  },
  {
   "cell_type": "code",
   "execution_count": 29,
   "id": "4edc30e8-46f1-4be7-be59-e94263c9a0c7",
   "metadata": {},
   "outputs": [
    {
     "data": {
      "text/html": [
       "<div>\n",
       "<style scoped>\n",
       "    .dataframe tbody tr th:only-of-type {\n",
       "        vertical-align: middle;\n",
       "    }\n",
       "\n",
       "    .dataframe tbody tr th {\n",
       "        vertical-align: top;\n",
       "    }\n",
       "\n",
       "    .dataframe thead th {\n",
       "        text-align: right;\n",
       "    }\n",
       "</style>\n",
       "<table border=\"1\" class=\"dataframe\">\n",
       "  <thead>\n",
       "    <tr style=\"text-align: right;\">\n",
       "      <th></th>\n",
       "      <th>impression_id</th>\n",
       "      <th>loss_reason</th>\n",
       "      <th>view</th>\n",
       "      <th>place_number</th>\n",
       "      <th>click</th>\n",
       "      <th>creative_id</th>\n",
       "      <th>format</th>\n",
       "      <th>device</th>\n",
       "      <th>OS</th>\n",
       "      <th>browser</th>\n",
       "      <th>...</th>\n",
       "      <th>stream_id</th>\n",
       "      <th>theme</th>\n",
       "      <th>second_theme</th>\n",
       "      <th>iab_category</th>\n",
       "      <th>image</th>\n",
       "      <th>image_extension</th>\n",
       "      <th>mime_type</th>\n",
       "      <th>image_tag</th>\n",
       "      <th>created_at</th>\n",
       "      <th>updated_at</th>\n",
       "    </tr>\n",
       "  </thead>\n",
       "  <tbody>\n",
       "    <tr>\n",
       "      <th>0</th>\n",
       "      <td>mobicbottomx2002_1</td>\n",
       "      <td>10</td>\n",
       "      <td>1</td>\n",
       "      <td>2</td>\n",
       "      <td>0</td>\n",
       "      <td>6b6df5b1f938</td>\n",
       "      <td>native</td>\n",
       "      <td>4</td>\n",
       "      <td>Android</td>\n",
       "      <td>Chrome</td>\n",
       "      <td>...</td>\n",
       "      <td>111</td>\n",
       "      <td>default</td>\n",
       "      <td>default</td>\n",
       "      <td>IAB7</td>\n",
       "      <td>b22f3655f7be6cd9d37e9b44</td>\n",
       "      <td>jpg</td>\n",
       "      <td>image/jpeg</td>\n",
       "      <td>default</td>\n",
       "      <td>2023-10-11 12:32:35</td>\n",
       "      <td>2023-11-08 13:23:02</td>\n",
       "    </tr>\n",
       "    <tr>\n",
       "      <th>1</th>\n",
       "      <td>a6wc7yy2pvd9rfng_2</td>\n",
       "      <td>19</td>\n",
       "      <td>0</td>\n",
       "      <td>3</td>\n",
       "      <td>0</td>\n",
       "      <td>6b6df5b1f938</td>\n",
       "      <td>native</td>\n",
       "      <td>2</td>\n",
       "      <td>Win10</td>\n",
       "      <td>Edge</td>\n",
       "      <td>...</td>\n",
       "      <td>111</td>\n",
       "      <td>default</td>\n",
       "      <td>default</td>\n",
       "      <td>IAB7</td>\n",
       "      <td>b22f3655f7be6cd9d37e9b44</td>\n",
       "      <td>jpg</td>\n",
       "      <td>image/jpeg</td>\n",
       "      <td>default</td>\n",
       "      <td>2023-10-11 12:32:35</td>\n",
       "      <td>2023-11-08 13:23:02</td>\n",
       "    </tr>\n",
       "    <tr>\n",
       "      <th>2</th>\n",
       "      <td>tk6eb5nq1w1sxmt2_1</td>\n",
       "      <td>19</td>\n",
       "      <td>0</td>\n",
       "      <td>2</td>\n",
       "      <td>0</td>\n",
       "      <td>6b6df5b1f938</td>\n",
       "      <td>native</td>\n",
       "      <td>4</td>\n",
       "      <td>Android</td>\n",
       "      <td>Chrome</td>\n",
       "      <td>...</td>\n",
       "      <td>111</td>\n",
       "      <td>default</td>\n",
       "      <td>default</td>\n",
       "      <td>IAB7</td>\n",
       "      <td>b22f3655f7be6cd9d37e9b44</td>\n",
       "      <td>jpg</td>\n",
       "      <td>image/jpeg</td>\n",
       "      <td>default</td>\n",
       "      <td>2023-10-11 12:32:35</td>\n",
       "      <td>2023-11-08 13:23:02</td>\n",
       "    </tr>\n",
       "    <tr>\n",
       "      <th>3</th>\n",
       "      <td>ou9j4n9sqtfe8400_5</td>\n",
       "      <td>19</td>\n",
       "      <td>0</td>\n",
       "      <td>6</td>\n",
       "      <td>0</td>\n",
       "      <td>6b6df5b1f938</td>\n",
       "      <td>native</td>\n",
       "      <td>4</td>\n",
       "      <td>Android</td>\n",
       "      <td>Samsung Browser</td>\n",
       "      <td>...</td>\n",
       "      <td>111</td>\n",
       "      <td>default</td>\n",
       "      <td>default</td>\n",
       "      <td>IAB7</td>\n",
       "      <td>b22f3655f7be6cd9d37e9b44</td>\n",
       "      <td>jpg</td>\n",
       "      <td>image/jpeg</td>\n",
       "      <td>default</td>\n",
       "      <td>2023-10-11 12:32:35</td>\n",
       "      <td>2023-11-08 13:23:02</td>\n",
       "    </tr>\n",
       "    <tr>\n",
       "      <th>4</th>\n",
       "      <td>ou9j4n9sqtfe8400_0</td>\n",
       "      <td>6</td>\n",
       "      <td>1</td>\n",
       "      <td>1</td>\n",
       "      <td>0</td>\n",
       "      <td>6b6df5b1f938</td>\n",
       "      <td>native</td>\n",
       "      <td>4</td>\n",
       "      <td>Android</td>\n",
       "      <td>Chrome</td>\n",
       "      <td>...</td>\n",
       "      <td>111</td>\n",
       "      <td>default</td>\n",
       "      <td>default</td>\n",
       "      <td>IAB7</td>\n",
       "      <td>b22f3655f7be6cd9d37e9b44</td>\n",
       "      <td>jpg</td>\n",
       "      <td>image/jpeg</td>\n",
       "      <td>default</td>\n",
       "      <td>2023-10-11 12:32:35</td>\n",
       "      <td>2023-11-08 13:23:02</td>\n",
       "    </tr>\n",
       "  </tbody>\n",
       "</table>\n",
       "<p>5 rows × 28 columns</p>\n",
       "</div>"
      ],
      "text/plain": [
       "        impression_id  loss_reason  view  place_number  click   creative_id   \n",
       "0  mobicbottomx2002_1           10     1             2      0  6b6df5b1f938  \\\n",
       "1  a6wc7yy2pvd9rfng_2           19     0             3      0  6b6df5b1f938   \n",
       "2  tk6eb5nq1w1sxmt2_1           19     0             2      0  6b6df5b1f938   \n",
       "3  ou9j4n9sqtfe8400_5           19     0             6      0  6b6df5b1f938   \n",
       "4  ou9j4n9sqtfe8400_0            6     1             1      0  6b6df5b1f938   \n",
       "\n",
       "   format  device       OS          browser  ... stream_id    theme   \n",
       "0  native       4  Android           Chrome  ...       111  default  \\\n",
       "1  native       2    Win10             Edge  ...       111  default   \n",
       "2  native       4  Android           Chrome  ...       111  default   \n",
       "3  native       4  Android  Samsung Browser  ...       111  default   \n",
       "4  native       4  Android           Chrome  ...       111  default   \n",
       "\n",
       "  second_theme iab_category                     image  image_extension   \n",
       "0      default         IAB7  b22f3655f7be6cd9d37e9b44              jpg  \\\n",
       "1      default         IAB7  b22f3655f7be6cd9d37e9b44              jpg   \n",
       "2      default         IAB7  b22f3655f7be6cd9d37e9b44              jpg   \n",
       "3      default         IAB7  b22f3655f7be6cd9d37e9b44              jpg   \n",
       "4      default         IAB7  b22f3655f7be6cd9d37e9b44              jpg   \n",
       "\n",
       "    mime_type  image_tag           created_at           updated_at  \n",
       "0  image/jpeg    default  2023-10-11 12:32:35  2023-11-08 13:23:02  \n",
       "1  image/jpeg    default  2023-10-11 12:32:35  2023-11-08 13:23:02  \n",
       "2  image/jpeg    default  2023-10-11 12:32:35  2023-11-08 13:23:02  \n",
       "3  image/jpeg    default  2023-10-11 12:32:35  2023-11-08 13:23:02  \n",
       "4  image/jpeg    default  2023-10-11 12:32:35  2023-11-08 13:23:02  \n",
       "\n",
       "[5 rows x 28 columns]"
      ]
     },
     "execution_count": 29,
     "metadata": {},
     "output_type": "execute_result"
    }
   ],
   "source": [
    "df.head()"
   ]
  },
  {
   "cell_type": "code",
   "execution_count": 30,
   "id": "ebab5719-474d-44b0-986a-50f8bef3e4c8",
   "metadata": {},
   "outputs": [],
   "source": [
    "# df[(df['view'] == 0) & (df['click'] == 1)][['auction_date_time', 'creative_id', 'view', 'click']]"
   ]
  },
  {
   "cell_type": "code",
   "execution_count": 31,
   "id": "f4399d94-7c29-4227-bb8f-c4f0dc9b98bf",
   "metadata": {},
   "outputs": [],
   "source": [
    "def nan_viewed__deleting(X, y = None):\n",
    "    X = X[X['view'] != 0]\n",
    "    return X "
   ]
  },
  {
   "cell_type": "code",
   "execution_count": 32,
   "id": "4ffbe1a1-1b41-4acf-bd5b-d56dd01bc377",
   "metadata": {},
   "outputs": [
    {
     "data": {
      "text/plain": [
       "(2991847, 28)"
      ]
     },
     "execution_count": 32,
     "metadata": {},
     "output_type": "execute_result"
    }
   ],
   "source": [
    "df = nan_viewed__deleting(df)\n",
    "df.shape"
   ]
  },
  {
   "cell_type": "code",
   "execution_count": 33,
   "id": "bc438e65-8fff-4011-a485-ed8e702fda04",
   "metadata": {},
   "outputs": [
    {
     "data": {
      "text/plain": [
       "Index(['impression_id', 'loss_reason', 'view', 'place_number', 'click',\n",
       "       'creative_id', 'format', 'device', 'OS', 'browser', 'geo_country',\n",
       "       'geo_city', 'tag_id', 'event_date_time', 'status', 'is_deleted',\n",
       "       'campaign_id', 'user_id', 'stream_id', 'theme', 'second_theme',\n",
       "       'iab_category', 'image', 'image_extension', 'mime_type', 'image_tag',\n",
       "       'created_at', 'updated_at'],\n",
       "      dtype='object')"
      ]
     },
     "execution_count": 33,
     "metadata": {},
     "output_type": "execute_result"
    }
   ],
   "source": [
    "new_df = df.copy()\n",
    "new_df.columns"
   ]
  },
  {
   "cell_type": "code",
   "execution_count": 34,
   "id": "fea3e122-20ca-487c-a6cb-253f200873cd",
   "metadata": {},
   "outputs": [],
   "source": [
    "new_df.drop(['impression_id', 'loss_reason', 'view', 'place_number', 'format', 'device', 'OS', 'browser', 'geo_country', 'geo_city', 'status', 'is_deleted', 'campaign_id', 'user_id', 'stream_id', 'theme', 'second_theme', 'image', 'iab_category', 'image_extension', 'mime_type', 'image_tag', 'created_at', 'updated_at'], axis = 1, inplace = True)"
   ]
  },
  {
   "cell_type": "code",
   "execution_count": 35,
   "id": "4d831e6a-1f65-4490-9572-61d457ff8e79",
   "metadata": {},
   "outputs": [],
   "source": [
    "# new_df = new_df.groupby(['creative_id', 'tag_id'])['click'].agg('sum')\n",
    "# new_df"
   ]
  },
  {
   "cell_type": "code",
   "execution_count": 36,
   "id": "d260e48a-5c31-44d4-a0ad-cea6c0412bbf",
   "metadata": {},
   "outputs": [],
   "source": [
    "# new_df[(new_df['creative_id'] == 'fe183340ada3') & (new_df['tag_id'] == 'xuad69a9hb9hkbz9') & (new_df['click'] == 1)][['creative_id', 'tag_id', 'click']]"
   ]
  },
  {
   "cell_type": "code",
   "execution_count": 55,
   "id": "bca8ee6b-0af4-4b81-aac1-8c57e9e44b7f",
   "metadata": {},
   "outputs": [
    {
     "name": "stdout",
     "output_type": "stream",
     "text": [
      "<class 'pandas.core.frame.DataFrame'>\n",
      "Index: 2991847 entries, 0 to 5889165\n",
      "Data columns (total 4 columns):\n",
      " #   Column           Dtype \n",
      "---  ------           ----- \n",
      " 0   click            int64 \n",
      " 1   creative_id      object\n",
      " 2   tag_id           object\n",
      " 3   event_date_time  object\n",
      "dtypes: int64(1), object(3)\n",
      "memory usage: 114.1+ MB\n"
     ]
    }
   ],
   "source": [
    "new_df.info()"
   ]
  },
  {
   "cell_type": "code",
   "execution_count": 60,
   "id": "bd4f793c-9932-437c-8937-919a83c4b67f",
   "metadata": {},
   "outputs": [],
   "source": [
    "new_df['event_date_time'] = pd.to_datetime(new_df['event_date_time'], format='%Y-%m-%d %H:%M:%S').dt.date"
   ]
  },
  {
   "cell_type": "code",
   "execution_count": 62,
   "id": "fce977ec-9048-4299-b52a-38e5a85abb1a",
   "metadata": {},
   "outputs": [
    {
     "data": {
      "text/plain": [
       "(2991847, 4)"
      ]
     },
     "execution_count": 62,
     "metadata": {},
     "output_type": "execute_result"
    }
   ],
   "source": [
    "new_df.shape"
   ]
  },
  {
   "cell_type": "code",
   "execution_count": 61,
   "id": "53c6c7ed-c7e1-4cf2-8903-b7de6de6d72c",
   "metadata": {},
   "outputs": [
    {
     "data": {
      "text/html": [
       "<div>\n",
       "<style scoped>\n",
       "    .dataframe tbody tr th:only-of-type {\n",
       "        vertical-align: middle;\n",
       "    }\n",
       "\n",
       "    .dataframe tbody tr th {\n",
       "        vertical-align: top;\n",
       "    }\n",
       "\n",
       "    .dataframe thead th {\n",
       "        text-align: right;\n",
       "    }\n",
       "</style>\n",
       "<table border=\"1\" class=\"dataframe\">\n",
       "  <thead>\n",
       "    <tr style=\"text-align: right;\">\n",
       "      <th></th>\n",
       "      <th>click</th>\n",
       "      <th>creative_id</th>\n",
       "      <th>tag_id</th>\n",
       "      <th>event_date_time</th>\n",
       "    </tr>\n",
       "  </thead>\n",
       "  <tbody>\n",
       "    <tr>\n",
       "      <th>0</th>\n",
       "      <td>0</td>\n",
       "      <td>6b6df5b1f938</td>\n",
       "      <td>mobicbottomx2002</td>\n",
       "      <td>2024-01-10</td>\n",
       "    </tr>\n",
       "    <tr>\n",
       "      <th>4</th>\n",
       "      <td>0</td>\n",
       "      <td>6b6df5b1f938</td>\n",
       "      <td>ou9j4n9sqtfe8400</td>\n",
       "      <td>2024-01-15</td>\n",
       "    </tr>\n",
       "    <tr>\n",
       "      <th>8</th>\n",
       "      <td>0</td>\n",
       "      <td>6b6df5b1f938</td>\n",
       "      <td>my0fq2bg0twts35c</td>\n",
       "      <td>2024-01-14</td>\n",
       "    </tr>\n",
       "    <tr>\n",
       "      <th>9</th>\n",
       "      <td>0</td>\n",
       "      <td>6b6df5b1f938</td>\n",
       "      <td>mobicbottomx2002</td>\n",
       "      <td>2024-01-18</td>\n",
       "    </tr>\n",
       "    <tr>\n",
       "      <th>10</th>\n",
       "      <td>1</td>\n",
       "      <td>6b6df5b1f938</td>\n",
       "      <td>ou9j4n9sqtfe8400</td>\n",
       "      <td>2024-01-10</td>\n",
       "    </tr>\n",
       "  </tbody>\n",
       "</table>\n",
       "</div>"
      ],
      "text/plain": [
       "    click   creative_id            tag_id event_date_time\n",
       "0       0  6b6df5b1f938  mobicbottomx2002      2024-01-10\n",
       "4       0  6b6df5b1f938  ou9j4n9sqtfe8400      2024-01-15\n",
       "8       0  6b6df5b1f938  my0fq2bg0twts35c      2024-01-14\n",
       "9       0  6b6df5b1f938  mobicbottomx2002      2024-01-18\n",
       "10      1  6b6df5b1f938  ou9j4n9sqtfe8400      2024-01-10"
      ]
     },
     "execution_count": 61,
     "metadata": {},
     "output_type": "execute_result"
    }
   ],
   "source": [
    "new_df.head()"
   ]
  },
  {
   "cell_type": "code",
   "execution_count": 86,
   "id": "20852013-f122-48cf-8c94-ab31383d8de4",
   "metadata": {},
   "outputs": [],
   "source": [
    "new_df['event_date_time'] = pd.to_datetime(new_df['event_date_time'], format='%Y-%m-%d')"
   ]
  },
  {
   "cell_type": "code",
   "execution_count": 87,
   "id": "89e253e7-cdb6-4945-a348-7888e13edb84",
   "metadata": {},
   "outputs": [],
   "source": [
    "new_df_sum_by_click = new_df.groupby(['creative_id', 'tag_id', 'event_date_time'])['click'].agg('sum').reset_index()"
   ]
  },
  {
   "cell_type": "code",
   "execution_count": 88,
   "id": "be9241f6-1d90-4661-b5c9-615576aab4da",
   "metadata": {},
   "outputs": [
    {
     "data": {
      "text/plain": [
       "(94951, 4)"
      ]
     },
     "execution_count": 88,
     "metadata": {},
     "output_type": "execute_result"
    }
   ],
   "source": [
    "new_df_sum_by_click.shape"
   ]
  },
  {
   "cell_type": "code",
   "execution_count": 89,
   "id": "bce13606-80f0-4e94-af31-c84c03c719fb",
   "metadata": {},
   "outputs": [
    {
     "data": {
      "text/html": [
       "<div>\n",
       "<style scoped>\n",
       "    .dataframe tbody tr th:only-of-type {\n",
       "        vertical-align: middle;\n",
       "    }\n",
       "\n",
       "    .dataframe tbody tr th {\n",
       "        vertical-align: top;\n",
       "    }\n",
       "\n",
       "    .dataframe thead th {\n",
       "        text-align: right;\n",
       "    }\n",
       "</style>\n",
       "<table border=\"1\" class=\"dataframe\">\n",
       "  <thead>\n",
       "    <tr style=\"text-align: right;\">\n",
       "      <th></th>\n",
       "      <th>creative_id</th>\n",
       "      <th>tag_id</th>\n",
       "      <th>event_date_time</th>\n",
       "      <th>click</th>\n",
       "    </tr>\n",
       "  </thead>\n",
       "  <tbody>\n",
       "    <tr>\n",
       "      <th>0</th>\n",
       "      <td>00796183dbef</td>\n",
       "      <td>a6wc7yy2pvd9rfng</td>\n",
       "      <td>2024-01-11</td>\n",
       "      <td>0</td>\n",
       "    </tr>\n",
       "    <tr>\n",
       "      <th>1</th>\n",
       "      <td>00796183dbef</td>\n",
       "      <td>a6wc7yy2pvd9rfng</td>\n",
       "      <td>2024-01-12</td>\n",
       "      <td>0</td>\n",
       "    </tr>\n",
       "    <tr>\n",
       "      <th>2</th>\n",
       "      <td>00796183dbef</td>\n",
       "      <td>a6wc7yy2pvd9rfng</td>\n",
       "      <td>2024-01-14</td>\n",
       "      <td>0</td>\n",
       "    </tr>\n",
       "    <tr>\n",
       "      <th>3</th>\n",
       "      <td>00796183dbef</td>\n",
       "      <td>au2d6d7cjcpefc00</td>\n",
       "      <td>2024-01-11</td>\n",
       "      <td>0</td>\n",
       "    </tr>\n",
       "    <tr>\n",
       "      <th>4</th>\n",
       "      <td>00796183dbef</td>\n",
       "      <td>au2d6d7cjcpefc00</td>\n",
       "      <td>2024-01-14</td>\n",
       "      <td>0</td>\n",
       "    </tr>\n",
       "  </tbody>\n",
       "</table>\n",
       "</div>"
      ],
      "text/plain": [
       "    creative_id            tag_id event_date_time  click\n",
       "0  00796183dbef  a6wc7yy2pvd9rfng      2024-01-11      0\n",
       "1  00796183dbef  a6wc7yy2pvd9rfng      2024-01-12      0\n",
       "2  00796183dbef  a6wc7yy2pvd9rfng      2024-01-14      0\n",
       "3  00796183dbef  au2d6d7cjcpefc00      2024-01-11      0\n",
       "4  00796183dbef  au2d6d7cjcpefc00      2024-01-14      0"
      ]
     },
     "execution_count": 89,
     "metadata": {},
     "output_type": "execute_result"
    }
   ],
   "source": [
    "new_df_sum_by_click.head()"
   ]
  },
  {
   "cell_type": "code",
   "execution_count": 90,
   "id": "4f3fa7dd-2435-4c42-a259-e056b1835dc6",
   "metadata": {},
   "outputs": [],
   "source": [
    "new_df_agg_coef = new_df_sum_by_click.copy()"
   ]
  },
  {
   "cell_type": "code",
   "execution_count": 70,
   "id": "ddf7d690-a06d-4ed5-87c6-976eb4e1169b",
   "metadata": {},
   "outputs": [],
   "source": [
    "import datetime"
   ]
  },
  {
   "cell_type": "code",
   "execution_count": 94,
   "id": "788fd41f-5f9a-439c-8c85-60483842aa02",
   "metadata": {},
   "outputs": [
    {
     "name": "stdout",
     "output_type": "stream",
     "text": [
      "2024-02-16 10:57:03.621576\n",
      "<class 'datetime.datetime'>\n"
     ]
    }
   ],
   "source": [
    "now = datetime.datetime.now()\n",
    "print(now)\n",
    "print(type(now))"
   ]
  },
  {
   "cell_type": "code",
   "execution_count": 119,
   "id": "b6ac578c-b0c6-4578-89f7-b6f79c1440d9",
   "metadata": {},
   "outputs": [],
   "source": [
    "new_df_agg_coef['coef'] = 1 -( (now - new_df_agg_coef['event_date_time']).dt.days / 100)"
   ]
  },
  {
   "cell_type": "code",
   "execution_count": 120,
   "id": "cd3bf84d-9bec-4a0f-a4ca-4f385f8b0dbd",
   "metadata": {},
   "outputs": [
    {
     "name": "stdout",
     "output_type": "stream",
     "text": [
      "<class 'pandas.core.frame.DataFrame'>\n",
      "RangeIndex: 94951 entries, 0 to 94950\n",
      "Data columns (total 5 columns):\n",
      " #   Column           Non-Null Count  Dtype         \n",
      "---  ------           --------------  -----         \n",
      " 0   creative_id      94951 non-null  object        \n",
      " 1   tag_id           94951 non-null  object        \n",
      " 2   event_date_time  94951 non-null  datetime64[ns]\n",
      " 3   click            94951 non-null  int64         \n",
      " 4   coef             94951 non-null  float64       \n",
      "dtypes: datetime64[ns](1), float64(1), int64(1), object(2)\n",
      "memory usage: 3.6+ MB\n"
     ]
    }
   ],
   "source": [
    "new_df_agg_coef.info()"
   ]
  },
  {
   "cell_type": "code",
   "execution_count": 121,
   "id": "e4293e29-8c34-4926-ade6-f7b5c77c5c6b",
   "metadata": {},
   "outputs": [
    {
     "data": {
      "text/html": [
       "<div>\n",
       "<style scoped>\n",
       "    .dataframe tbody tr th:only-of-type {\n",
       "        vertical-align: middle;\n",
       "    }\n",
       "\n",
       "    .dataframe tbody tr th {\n",
       "        vertical-align: top;\n",
       "    }\n",
       "\n",
       "    .dataframe thead th {\n",
       "        text-align: right;\n",
       "    }\n",
       "</style>\n",
       "<table border=\"1\" class=\"dataframe\">\n",
       "  <thead>\n",
       "    <tr style=\"text-align: right;\">\n",
       "      <th></th>\n",
       "      <th>creative_id</th>\n",
       "      <th>tag_id</th>\n",
       "      <th>event_date_time</th>\n",
       "      <th>click</th>\n",
       "      <th>coef</th>\n",
       "    </tr>\n",
       "  </thead>\n",
       "  <tbody>\n",
       "    <tr>\n",
       "      <th>0</th>\n",
       "      <td>00796183dbef</td>\n",
       "      <td>a6wc7yy2pvd9rfng</td>\n",
       "      <td>2024-01-11</td>\n",
       "      <td>0</td>\n",
       "      <td>0.64</td>\n",
       "    </tr>\n",
       "    <tr>\n",
       "      <th>1</th>\n",
       "      <td>00796183dbef</td>\n",
       "      <td>a6wc7yy2pvd9rfng</td>\n",
       "      <td>2024-01-12</td>\n",
       "      <td>0</td>\n",
       "      <td>0.65</td>\n",
       "    </tr>\n",
       "    <tr>\n",
       "      <th>2</th>\n",
       "      <td>00796183dbef</td>\n",
       "      <td>a6wc7yy2pvd9rfng</td>\n",
       "      <td>2024-01-14</td>\n",
       "      <td>0</td>\n",
       "      <td>0.67</td>\n",
       "    </tr>\n",
       "    <tr>\n",
       "      <th>3</th>\n",
       "      <td>00796183dbef</td>\n",
       "      <td>au2d6d7cjcpefc00</td>\n",
       "      <td>2024-01-11</td>\n",
       "      <td>0</td>\n",
       "      <td>0.64</td>\n",
       "    </tr>\n",
       "    <tr>\n",
       "      <th>4</th>\n",
       "      <td>00796183dbef</td>\n",
       "      <td>au2d6d7cjcpefc00</td>\n",
       "      <td>2024-01-14</td>\n",
       "      <td>0</td>\n",
       "      <td>0.67</td>\n",
       "    </tr>\n",
       "    <tr>\n",
       "      <th>...</th>\n",
       "      <td>...</td>\n",
       "      <td>...</td>\n",
       "      <td>...</td>\n",
       "      <td>...</td>\n",
       "      <td>...</td>\n",
       "    </tr>\n",
       "    <tr>\n",
       "      <th>94946</th>\n",
       "      <td>fe183340ada3</td>\n",
       "      <td>zmxsk6zf7v3svqq6</td>\n",
       "      <td>2024-01-19</td>\n",
       "      <td>0</td>\n",
       "      <td>0.72</td>\n",
       "    </tr>\n",
       "    <tr>\n",
       "      <th>94947</th>\n",
       "      <td>fe183340ada3</td>\n",
       "      <td>zmxsk6zf7v3svqq6</td>\n",
       "      <td>2024-01-20</td>\n",
       "      <td>0</td>\n",
       "      <td>0.73</td>\n",
       "    </tr>\n",
       "    <tr>\n",
       "      <th>94948</th>\n",
       "      <td>fe183340ada3</td>\n",
       "      <td>zmxsk6zf7v3svqq6</td>\n",
       "      <td>2024-01-21</td>\n",
       "      <td>0</td>\n",
       "      <td>0.74</td>\n",
       "    </tr>\n",
       "    <tr>\n",
       "      <th>94949</th>\n",
       "      <td>fe183340ada3</td>\n",
       "      <td>zmxsk6zf7v3svqq6</td>\n",
       "      <td>2024-01-22</td>\n",
       "      <td>0</td>\n",
       "      <td>0.75</td>\n",
       "    </tr>\n",
       "    <tr>\n",
       "      <th>94950</th>\n",
       "      <td>fe183340ada3</td>\n",
       "      <td>zmxsk6zf7v3svqq6</td>\n",
       "      <td>2024-01-23</td>\n",
       "      <td>1</td>\n",
       "      <td>0.76</td>\n",
       "    </tr>\n",
       "  </tbody>\n",
       "</table>\n",
       "<p>94951 rows × 5 columns</p>\n",
       "</div>"
      ],
      "text/plain": [
       "        creative_id            tag_id event_date_time  click  coef\n",
       "0      00796183dbef  a6wc7yy2pvd9rfng      2024-01-11      0  0.64\n",
       "1      00796183dbef  a6wc7yy2pvd9rfng      2024-01-12      0  0.65\n",
       "2      00796183dbef  a6wc7yy2pvd9rfng      2024-01-14      0  0.67\n",
       "3      00796183dbef  au2d6d7cjcpefc00      2024-01-11      0  0.64\n",
       "4      00796183dbef  au2d6d7cjcpefc00      2024-01-14      0  0.67\n",
       "...             ...               ...             ...    ...   ...\n",
       "94946  fe183340ada3  zmxsk6zf7v3svqq6      2024-01-19      0  0.72\n",
       "94947  fe183340ada3  zmxsk6zf7v3svqq6      2024-01-20      0  0.73\n",
       "94948  fe183340ada3  zmxsk6zf7v3svqq6      2024-01-21      0  0.74\n",
       "94949  fe183340ada3  zmxsk6zf7v3svqq6      2024-01-22      0  0.75\n",
       "94950  fe183340ada3  zmxsk6zf7v3svqq6      2024-01-23      1  0.76\n",
       "\n",
       "[94951 rows x 5 columns]"
      ]
     },
     "execution_count": 121,
     "metadata": {},
     "output_type": "execute_result"
    }
   ],
   "source": [
    "new_df_agg_coef"
   ]
  },
  {
   "cell_type": "code",
   "execution_count": 122,
   "id": "0273c406-523e-4356-b1ef-a5fb96ec8869",
   "metadata": {},
   "outputs": [],
   "source": [
    "# new_df = pd.DataFrame({'creative_id':new_df.index, 'click_count':new_df.values})"
   ]
  },
  {
   "cell_type": "code",
   "execution_count": 123,
   "id": "9b0068b4-c017-45b8-bbfa-77da94e01c2a",
   "metadata": {},
   "outputs": [],
   "source": [
    "new_df_sum_by_click = new_df_agg_coef.copy()"
   ]
  },
  {
   "cell_type": "code",
   "execution_count": 124,
   "id": "8a9e9898-9e82-4132-8b1c-65e6f87d3b3b",
   "metadata": {},
   "outputs": [
    {
     "data": {
      "text/html": [
       "<div>\n",
       "<style scoped>\n",
       "    .dataframe tbody tr th:only-of-type {\n",
       "        vertical-align: middle;\n",
       "    }\n",
       "\n",
       "    .dataframe tbody tr th {\n",
       "        vertical-align: top;\n",
       "    }\n",
       "\n",
       "    .dataframe thead th {\n",
       "        text-align: right;\n",
       "    }\n",
       "</style>\n",
       "<table border=\"1\" class=\"dataframe\">\n",
       "  <thead>\n",
       "    <tr style=\"text-align: right;\">\n",
       "      <th></th>\n",
       "      <th>creative_id</th>\n",
       "      <th>tag_id</th>\n",
       "      <th>event_date_time</th>\n",
       "      <th>click</th>\n",
       "      <th>coef</th>\n",
       "    </tr>\n",
       "  </thead>\n",
       "  <tbody>\n",
       "    <tr>\n",
       "      <th>0</th>\n",
       "      <td>00796183dbef</td>\n",
       "      <td>a6wc7yy2pvd9rfng</td>\n",
       "      <td>2024-01-11</td>\n",
       "      <td>0</td>\n",
       "      <td>0.64</td>\n",
       "    </tr>\n",
       "    <tr>\n",
       "      <th>1</th>\n",
       "      <td>00796183dbef</td>\n",
       "      <td>a6wc7yy2pvd9rfng</td>\n",
       "      <td>2024-01-12</td>\n",
       "      <td>0</td>\n",
       "      <td>0.65</td>\n",
       "    </tr>\n",
       "    <tr>\n",
       "      <th>2</th>\n",
       "      <td>00796183dbef</td>\n",
       "      <td>a6wc7yy2pvd9rfng</td>\n",
       "      <td>2024-01-14</td>\n",
       "      <td>0</td>\n",
       "      <td>0.67</td>\n",
       "    </tr>\n",
       "    <tr>\n",
       "      <th>3</th>\n",
       "      <td>00796183dbef</td>\n",
       "      <td>au2d6d7cjcpefc00</td>\n",
       "      <td>2024-01-11</td>\n",
       "      <td>0</td>\n",
       "      <td>0.64</td>\n",
       "    </tr>\n",
       "    <tr>\n",
       "      <th>4</th>\n",
       "      <td>00796183dbef</td>\n",
       "      <td>au2d6d7cjcpefc00</td>\n",
       "      <td>2024-01-14</td>\n",
       "      <td>0</td>\n",
       "      <td>0.67</td>\n",
       "    </tr>\n",
       "  </tbody>\n",
       "</table>\n",
       "</div>"
      ],
      "text/plain": [
       "    creative_id            tag_id event_date_time  click  coef\n",
       "0  00796183dbef  a6wc7yy2pvd9rfng      2024-01-11      0  0.64\n",
       "1  00796183dbef  a6wc7yy2pvd9rfng      2024-01-12      0  0.65\n",
       "2  00796183dbef  a6wc7yy2pvd9rfng      2024-01-14      0  0.67\n",
       "3  00796183dbef  au2d6d7cjcpefc00      2024-01-11      0  0.64\n",
       "4  00796183dbef  au2d6d7cjcpefc00      2024-01-14      0  0.67"
      ]
     },
     "execution_count": 124,
     "metadata": {},
     "output_type": "execute_result"
    }
   ],
   "source": [
    "new_df_sum_by_click.head()"
   ]
  },
  {
   "cell_type": "markdown",
   "id": "8c8be03e-2468-4e34-bddc-1a354f6a89a3",
   "metadata": {},
   "source": [
    "Оставить только где order_status == 1"
   ]
  },
  {
   "cell_type": "code",
   "execution_count": 41,
   "id": "874e8372-3a1e-4c8d-91ae-cc47d54d232f",
   "metadata": {},
   "outputs": [
    {
     "data": {
      "text/plain": [
       "(627, 20)"
      ]
     },
     "execution_count": 41,
     "metadata": {},
     "output_type": "execute_result"
    }
   ],
   "source": [
    "df_leads.shape"
   ]
  },
  {
   "cell_type": "code",
   "execution_count": 125,
   "id": "3b816827-c9fa-4e95-925b-cc4db75dcdc2",
   "metadata": {},
   "outputs": [
    {
     "data": {
      "text/plain": [
       "(197, 20)"
      ]
     },
     "execution_count": 125,
     "metadata": {},
     "output_type": "execute_result"
    }
   ],
   "source": [
    "df_leads = df_leads[df_leads['order_status'] == 1]\n",
    "df_leads.shape"
   ]
  },
  {
   "cell_type": "code",
   "execution_count": 126,
   "id": "c332366a-b1af-42f2-a32b-34437b1231dc",
   "metadata": {},
   "outputs": [
    {
     "data": {
      "text/html": [
       "<div>\n",
       "<style scoped>\n",
       "    .dataframe tbody tr th:only-of-type {\n",
       "        vertical-align: middle;\n",
       "    }\n",
       "\n",
       "    .dataframe tbody tr th {\n",
       "        vertical-align: top;\n",
       "    }\n",
       "\n",
       "    .dataframe thead th {\n",
       "        text-align: right;\n",
       "    }\n",
       "</style>\n",
       "<table border=\"1\" class=\"dataframe\">\n",
       "  <thead>\n",
       "    <tr style=\"text-align: right;\">\n",
       "      <th></th>\n",
       "      <th>creative_id</th>\n",
       "      <th>tag_id</th>\n",
       "      <th>profit</th>\n",
       "    </tr>\n",
       "  </thead>\n",
       "  <tbody>\n",
       "    <tr>\n",
       "      <th>0</th>\n",
       "      <td>0f5ad4107130</td>\n",
       "      <td>mobicbottom00000</td>\n",
       "      <td>1407.36</td>\n",
       "    </tr>\n",
       "    <tr>\n",
       "      <th>3</th>\n",
       "      <td>71ffc4d8760b</td>\n",
       "      <td>xuad69a9hb9hkbz9</td>\n",
       "      <td>1800.00</td>\n",
       "    </tr>\n",
       "    <tr>\n",
       "      <th>5</th>\n",
       "      <td>d7f85e832625</td>\n",
       "      <td>b7hw8pcjw0n5f60v</td>\n",
       "      <td>1408.48</td>\n",
       "    </tr>\n",
       "    <tr>\n",
       "      <th>6</th>\n",
       "      <td>71ffc4d8760b</td>\n",
       "      <td>ou9j4n9sqtfe8406</td>\n",
       "      <td>1800.00</td>\n",
       "    </tr>\n",
       "    <tr>\n",
       "      <th>8</th>\n",
       "      <td>10a81a65eaf0</td>\n",
       "      <td>ou9j4n9sqtfe8403</td>\n",
       "      <td>1900.00</td>\n",
       "    </tr>\n",
       "    <tr>\n",
       "      <th>...</th>\n",
       "      <td>...</td>\n",
       "      <td>...</td>\n",
       "      <td>...</td>\n",
       "    </tr>\n",
       "    <tr>\n",
       "      <th>611</th>\n",
       "      <td>32264536a436</td>\n",
       "      <td>ou9j4n9sqtfe8400</td>\n",
       "      <td>1674.09</td>\n",
       "    </tr>\n",
       "    <tr>\n",
       "      <th>613</th>\n",
       "      <td>32264536a436</td>\n",
       "      <td>ou9j4n9sqtfe8400</td>\n",
       "      <td>1431.20</td>\n",
       "    </tr>\n",
       "    <tr>\n",
       "      <th>616</th>\n",
       "      <td>aabb916b3651</td>\n",
       "      <td>hvbyt95qx9rch01g</td>\n",
       "      <td>1700.00</td>\n",
       "    </tr>\n",
       "    <tr>\n",
       "      <th>623</th>\n",
       "      <td>d7f85e832625</td>\n",
       "      <td>ou9j4n9sqtfe8401</td>\n",
       "      <td>1418.24</td>\n",
       "    </tr>\n",
       "    <tr>\n",
       "      <th>625</th>\n",
       "      <td>d7f85e832625</td>\n",
       "      <td>mf4be14r1r2wkpaw</td>\n",
       "      <td>1409.76</td>\n",
       "    </tr>\n",
       "  </tbody>\n",
       "</table>\n",
       "<p>197 rows × 3 columns</p>\n",
       "</div>"
      ],
      "text/plain": [
       "      creative_id            tag_id   profit\n",
       "0    0f5ad4107130  mobicbottom00000  1407.36\n",
       "3    71ffc4d8760b  xuad69a9hb9hkbz9  1800.00\n",
       "5    d7f85e832625  b7hw8pcjw0n5f60v  1408.48\n",
       "6    71ffc4d8760b  ou9j4n9sqtfe8406  1800.00\n",
       "8    10a81a65eaf0  ou9j4n9sqtfe8403  1900.00\n",
       "..            ...               ...      ...\n",
       "611  32264536a436  ou9j4n9sqtfe8400  1674.09\n",
       "613  32264536a436  ou9j4n9sqtfe8400  1431.20\n",
       "616  aabb916b3651  hvbyt95qx9rch01g  1700.00\n",
       "623  d7f85e832625  ou9j4n9sqtfe8401  1418.24\n",
       "625  d7f85e832625  mf4be14r1r2wkpaw  1409.76\n",
       "\n",
       "[197 rows x 3 columns]"
      ]
     },
     "execution_count": 126,
     "metadata": {},
     "output_type": "execute_result"
    }
   ],
   "source": [
    "df_leads_new = df_leads[['creative_id','tag_id', 'profit']]\n",
    "df_leads_new"
   ]
  },
  {
   "cell_type": "code",
   "execution_count": 127,
   "id": "828db8ce-30c3-4eae-ab08-5d120b523a0a",
   "metadata": {},
   "outputs": [
    {
     "data": {
      "text/html": [
       "<div>\n",
       "<style scoped>\n",
       "    .dataframe tbody tr th:only-of-type {\n",
       "        vertical-align: middle;\n",
       "    }\n",
       "\n",
       "    .dataframe tbody tr th {\n",
       "        vertical-align: top;\n",
       "    }\n",
       "\n",
       "    .dataframe thead th {\n",
       "        text-align: right;\n",
       "    }\n",
       "</style>\n",
       "<table border=\"1\" class=\"dataframe\">\n",
       "  <thead>\n",
       "    <tr style=\"text-align: right;\">\n",
       "      <th></th>\n",
       "      <th>creative_id</th>\n",
       "      <th>tag_id</th>\n",
       "      <th>profit</th>\n",
       "    </tr>\n",
       "  </thead>\n",
       "  <tbody>\n",
       "    <tr>\n",
       "      <th>0</th>\n",
       "      <td>0381d514fa62</td>\n",
       "      <td>mobicbottomx2002</td>\n",
       "      <td>1800.00</td>\n",
       "    </tr>\n",
       "    <tr>\n",
       "      <th>1</th>\n",
       "      <td>0d6718e579f3</td>\n",
       "      <td>tk6eb5nq1w1sxmt2</td>\n",
       "      <td>1600.00</td>\n",
       "    </tr>\n",
       "    <tr>\n",
       "      <th>2</th>\n",
       "      <td>0f5ad4107130</td>\n",
       "      <td>d4zc0rh1hsk442ck</td>\n",
       "      <td>1672.76</td>\n",
       "    </tr>\n",
       "    <tr>\n",
       "      <th>3</th>\n",
       "      <td>0f5ad4107130</td>\n",
       "      <td>mobicbottom00000</td>\n",
       "      <td>1407.36</td>\n",
       "    </tr>\n",
       "    <tr>\n",
       "      <th>4</th>\n",
       "      <td>10a81a65eaf0</td>\n",
       "      <td>mobicbottomx2002</td>\n",
       "      <td>1900.00</td>\n",
       "    </tr>\n",
       "  </tbody>\n",
       "</table>\n",
       "</div>"
      ],
      "text/plain": [
       "    creative_id            tag_id   profit\n",
       "0  0381d514fa62  mobicbottomx2002  1800.00\n",
       "1  0d6718e579f3  tk6eb5nq1w1sxmt2  1600.00\n",
       "2  0f5ad4107130  d4zc0rh1hsk442ck  1672.76\n",
       "3  0f5ad4107130  mobicbottom00000  1407.36\n",
       "4  10a81a65eaf0  mobicbottomx2002  1900.00"
      ]
     },
     "execution_count": 127,
     "metadata": {},
     "output_type": "execute_result"
    }
   ],
   "source": [
    "df_leads_new = df_leads_new.groupby(['creative_id','tag_id'])['profit'].agg('sum').reset_index()\n",
    "df_leads_new.head()"
   ]
  },
  {
   "cell_type": "code",
   "execution_count": 128,
   "id": "ae0903f5-4239-4b54-b92f-2fec383b1232",
   "metadata": {},
   "outputs": [
    {
     "data": {
      "text/plain": [
       "(111, 3)"
      ]
     },
     "execution_count": 128,
     "metadata": {},
     "output_type": "execute_result"
    }
   ],
   "source": [
    "df_leads_new.shape"
   ]
  },
  {
   "cell_type": "code",
   "execution_count": 110,
   "id": "09cf1248-a91d-4ca7-82b3-e4d4792ca769",
   "metadata": {},
   "outputs": [],
   "source": [
    "# df_leads_new = pd.DataFrame({'creative_id':df_leads_new.index, 'profit_sum':df_leads_new.values})\n",
    "# df_leads_new"
   ]
  },
  {
   "cell_type": "code",
   "execution_count": null,
   "id": "0ff9a59e-825e-444b-8a33-b6d33f5b4e3f",
   "metadata": {},
   "outputs": [],
   "source": []
  },
  {
   "cell_type": "code",
   "execution_count": 129,
   "id": "f1c2acb2-41cc-4231-8323-ef011c6de344",
   "metadata": {},
   "outputs": [
    {
     "data": {
      "text/plain": [
       "(1517, 6)"
      ]
     },
     "execution_count": 129,
     "metadata": {},
     "output_type": "execute_result"
    }
   ],
   "source": [
    "df = pd.merge(new_df_sum_by_click, df_leads_new, on = ['creative_id','tag_id'])\n",
    "df.shape"
   ]
  },
  {
   "cell_type": "code",
   "execution_count": 130,
   "id": "3a91598a-dbb5-4f2a-8b87-5bd1f13b1cfa",
   "metadata": {},
   "outputs": [
    {
     "data": {
      "text/html": [
       "<div>\n",
       "<style scoped>\n",
       "    .dataframe tbody tr th:only-of-type {\n",
       "        vertical-align: middle;\n",
       "    }\n",
       "\n",
       "    .dataframe tbody tr th {\n",
       "        vertical-align: top;\n",
       "    }\n",
       "\n",
       "    .dataframe thead th {\n",
       "        text-align: right;\n",
       "    }\n",
       "</style>\n",
       "<table border=\"1\" class=\"dataframe\">\n",
       "  <thead>\n",
       "    <tr style=\"text-align: right;\">\n",
       "      <th></th>\n",
       "      <th>creative_id</th>\n",
       "      <th>tag_id</th>\n",
       "      <th>event_date_time</th>\n",
       "      <th>click</th>\n",
       "      <th>coef</th>\n",
       "      <th>profit</th>\n",
       "    </tr>\n",
       "  </thead>\n",
       "  <tbody>\n",
       "    <tr>\n",
       "      <th>0</th>\n",
       "      <td>0381d514fa62</td>\n",
       "      <td>mobicbottomx2002</td>\n",
       "      <td>2024-01-09</td>\n",
       "      <td>13</td>\n",
       "      <td>0.62</td>\n",
       "      <td>1800.0</td>\n",
       "    </tr>\n",
       "    <tr>\n",
       "      <th>1</th>\n",
       "      <td>0381d514fa62</td>\n",
       "      <td>mobicbottomx2002</td>\n",
       "      <td>2024-01-10</td>\n",
       "      <td>9</td>\n",
       "      <td>0.63</td>\n",
       "      <td>1800.0</td>\n",
       "    </tr>\n",
       "    <tr>\n",
       "      <th>2</th>\n",
       "      <td>0381d514fa62</td>\n",
       "      <td>mobicbottomx2002</td>\n",
       "      <td>2024-01-11</td>\n",
       "      <td>7</td>\n",
       "      <td>0.64</td>\n",
       "      <td>1800.0</td>\n",
       "    </tr>\n",
       "    <tr>\n",
       "      <th>3</th>\n",
       "      <td>0381d514fa62</td>\n",
       "      <td>mobicbottomx2002</td>\n",
       "      <td>2024-01-12</td>\n",
       "      <td>3</td>\n",
       "      <td>0.65</td>\n",
       "      <td>1800.0</td>\n",
       "    </tr>\n",
       "    <tr>\n",
       "      <th>4</th>\n",
       "      <td>0381d514fa62</td>\n",
       "      <td>mobicbottomx2002</td>\n",
       "      <td>2024-01-13</td>\n",
       "      <td>0</td>\n",
       "      <td>0.66</td>\n",
       "      <td>1800.0</td>\n",
       "    </tr>\n",
       "  </tbody>\n",
       "</table>\n",
       "</div>"
      ],
      "text/plain": [
       "    creative_id            tag_id event_date_time  click  coef  profit\n",
       "0  0381d514fa62  mobicbottomx2002      2024-01-09     13  0.62  1800.0\n",
       "1  0381d514fa62  mobicbottomx2002      2024-01-10      9  0.63  1800.0\n",
       "2  0381d514fa62  mobicbottomx2002      2024-01-11      7  0.64  1800.0\n",
       "3  0381d514fa62  mobicbottomx2002      2024-01-12      3  0.65  1800.0\n",
       "4  0381d514fa62  mobicbottomx2002      2024-01-13      0  0.66  1800.0"
      ]
     },
     "execution_count": 130,
     "metadata": {},
     "output_type": "execute_result"
    }
   ],
   "source": [
    "df.head()"
   ]
  },
  {
   "cell_type": "code",
   "execution_count": 131,
   "id": "0aa74592-6365-455f-accd-350cd56b60c9",
   "metadata": {},
   "outputs": [
    {
     "name": "stdout",
     "output_type": "stream",
     "text": [
      "<class 'pandas.core.frame.DataFrame'>\n",
      "RangeIndex: 1517 entries, 0 to 1516\n",
      "Data columns (total 6 columns):\n",
      " #   Column           Non-Null Count  Dtype         \n",
      "---  ------           --------------  -----         \n",
      " 0   creative_id      1517 non-null   object        \n",
      " 1   tag_id           1517 non-null   object        \n",
      " 2   event_date_time  1517 non-null   datetime64[ns]\n",
      " 3   click            1517 non-null   int64         \n",
      " 4   coef             1517 non-null   float64       \n",
      " 5   profit           1517 non-null   float64       \n",
      "dtypes: datetime64[ns](1), float64(2), int64(1), object(2)\n",
      "memory usage: 71.2+ KB\n"
     ]
    }
   ],
   "source": [
    "df.info()"
   ]
  },
  {
   "cell_type": "code",
   "execution_count": 132,
   "id": "befc3ed2-19d9-4356-b850-ea1dde9043e1",
   "metadata": {},
   "outputs": [
    {
     "data": {
      "text/html": [
       "<div>\n",
       "<style scoped>\n",
       "    .dataframe tbody tr th:only-of-type {\n",
       "        vertical-align: middle;\n",
       "    }\n",
       "\n",
       "    .dataframe tbody tr th {\n",
       "        vertical-align: top;\n",
       "    }\n",
       "\n",
       "    .dataframe thead th {\n",
       "        text-align: right;\n",
       "    }\n",
       "</style>\n",
       "<table border=\"1\" class=\"dataframe\">\n",
       "  <thead>\n",
       "    <tr style=\"text-align: right;\">\n",
       "      <th></th>\n",
       "      <th>creative_id</th>\n",
       "      <th>tag_id</th>\n",
       "      <th>event_date_time</th>\n",
       "      <th>click</th>\n",
       "      <th>coef</th>\n",
       "      <th>profit</th>\n",
       "      <th>profit_by_coef</th>\n",
       "    </tr>\n",
       "  </thead>\n",
       "  <tbody>\n",
       "    <tr>\n",
       "      <th>0</th>\n",
       "      <td>0381d514fa62</td>\n",
       "      <td>mobicbottomx2002</td>\n",
       "      <td>2024-01-09</td>\n",
       "      <td>13</td>\n",
       "      <td>0.62</td>\n",
       "      <td>1800.0</td>\n",
       "      <td>1116.0</td>\n",
       "    </tr>\n",
       "    <tr>\n",
       "      <th>1</th>\n",
       "      <td>0381d514fa62</td>\n",
       "      <td>mobicbottomx2002</td>\n",
       "      <td>2024-01-10</td>\n",
       "      <td>9</td>\n",
       "      <td>0.63</td>\n",
       "      <td>1800.0</td>\n",
       "      <td>1134.0</td>\n",
       "    </tr>\n",
       "    <tr>\n",
       "      <th>2</th>\n",
       "      <td>0381d514fa62</td>\n",
       "      <td>mobicbottomx2002</td>\n",
       "      <td>2024-01-11</td>\n",
       "      <td>7</td>\n",
       "      <td>0.64</td>\n",
       "      <td>1800.0</td>\n",
       "      <td>1152.0</td>\n",
       "    </tr>\n",
       "    <tr>\n",
       "      <th>3</th>\n",
       "      <td>0381d514fa62</td>\n",
       "      <td>mobicbottomx2002</td>\n",
       "      <td>2024-01-12</td>\n",
       "      <td>3</td>\n",
       "      <td>0.65</td>\n",
       "      <td>1800.0</td>\n",
       "      <td>1170.0</td>\n",
       "    </tr>\n",
       "    <tr>\n",
       "      <th>4</th>\n",
       "      <td>0381d514fa62</td>\n",
       "      <td>mobicbottomx2002</td>\n",
       "      <td>2024-01-13</td>\n",
       "      <td>0</td>\n",
       "      <td>0.66</td>\n",
       "      <td>1800.0</td>\n",
       "      <td>1188.0</td>\n",
       "    </tr>\n",
       "  </tbody>\n",
       "</table>\n",
       "</div>"
      ],
      "text/plain": [
       "    creative_id            tag_id event_date_time  click  coef  profit   \n",
       "0  0381d514fa62  mobicbottomx2002      2024-01-09     13  0.62  1800.0  \\\n",
       "1  0381d514fa62  mobicbottomx2002      2024-01-10      9  0.63  1800.0   \n",
       "2  0381d514fa62  mobicbottomx2002      2024-01-11      7  0.64  1800.0   \n",
       "3  0381d514fa62  mobicbottomx2002      2024-01-12      3  0.65  1800.0   \n",
       "4  0381d514fa62  mobicbottomx2002      2024-01-13      0  0.66  1800.0   \n",
       "\n",
       "   profit_by_coef  \n",
       "0          1116.0  \n",
       "1          1134.0  \n",
       "2          1152.0  \n",
       "3          1170.0  \n",
       "4          1188.0  "
      ]
     },
     "execution_count": 132,
     "metadata": {},
     "output_type": "execute_result"
    }
   ],
   "source": [
    "df['profit_by_coef'] = df['profit'] * df['coef']\n",
    "df.head()"
   ]
  },
  {
   "cell_type": "code",
   "execution_count": 144,
   "id": "8d8a4955-ac1a-4d0b-bbd4-83f44648904f",
   "metadata": {},
   "outputs": [],
   "source": [
    "df_final = df.groupby(['creative_id','tag_id'])[['click', 'profit_by_coef']].agg('sum').reset_index()"
   ]
  },
  {
   "cell_type": "code",
   "execution_count": 145,
   "id": "7b7eb374-e92e-4ef4-8cc5-ee41adca99e4",
   "metadata": {},
   "outputs": [
    {
     "data": {
      "text/html": [
       "<div>\n",
       "<style scoped>\n",
       "    .dataframe tbody tr th:only-of-type {\n",
       "        vertical-align: middle;\n",
       "    }\n",
       "\n",
       "    .dataframe tbody tr th {\n",
       "        vertical-align: top;\n",
       "    }\n",
       "\n",
       "    .dataframe thead th {\n",
       "        text-align: right;\n",
       "    }\n",
       "</style>\n",
       "<table border=\"1\" class=\"dataframe\">\n",
       "  <thead>\n",
       "    <tr style=\"text-align: right;\">\n",
       "      <th></th>\n",
       "      <th>creative_id</th>\n",
       "      <th>tag_id</th>\n",
       "      <th>click</th>\n",
       "      <th>profit_by_coef</th>\n",
       "    </tr>\n",
       "  </thead>\n",
       "  <tbody>\n",
       "    <tr>\n",
       "      <th>0</th>\n",
       "      <td>0381d514fa62</td>\n",
       "      <td>mobicbottomx2002</td>\n",
       "      <td>49</td>\n",
       "      <td>18630.0000</td>\n",
       "    </tr>\n",
       "    <tr>\n",
       "      <th>1</th>\n",
       "      <td>0d6718e579f3</td>\n",
       "      <td>tk6eb5nq1w1sxmt2</td>\n",
       "      <td>189</td>\n",
       "      <td>16560.0000</td>\n",
       "    </tr>\n",
       "    <tr>\n",
       "      <th>2</th>\n",
       "      <td>0f5ad4107130</td>\n",
       "      <td>d4zc0rh1hsk442ck</td>\n",
       "      <td>1</td>\n",
       "      <td>4349.1760</td>\n",
       "    </tr>\n",
       "    <tr>\n",
       "      <th>3</th>\n",
       "      <td>0f5ad4107130</td>\n",
       "      <td>mobicbottom00000</td>\n",
       "      <td>3</td>\n",
       "      <td>5573.1456</td>\n",
       "    </tr>\n",
       "    <tr>\n",
       "      <th>4</th>\n",
       "      <td>10a81a65eaf0</td>\n",
       "      <td>mobicbottomx2002</td>\n",
       "      <td>76</td>\n",
       "      <td>19665.0000</td>\n",
       "    </tr>\n",
       "  </tbody>\n",
       "</table>\n",
       "</div>"
      ],
      "text/plain": [
       "    creative_id            tag_id  click  profit_by_coef\n",
       "0  0381d514fa62  mobicbottomx2002     49      18630.0000\n",
       "1  0d6718e579f3  tk6eb5nq1w1sxmt2    189      16560.0000\n",
       "2  0f5ad4107130  d4zc0rh1hsk442ck      1       4349.1760\n",
       "3  0f5ad4107130  mobicbottom00000      3       5573.1456\n",
       "4  10a81a65eaf0  mobicbottomx2002     76      19665.0000"
      ]
     },
     "execution_count": 145,
     "metadata": {},
     "output_type": "execute_result"
    }
   ],
   "source": [
    "df_final.head()"
   ]
  },
  {
   "cell_type": "code",
   "execution_count": 146,
   "id": "23992c8f-2e5d-43b4-89f0-cfbd135d5c85",
   "metadata": {},
   "outputs": [
    {
     "data": {
      "text/html": [
       "<div>\n",
       "<style scoped>\n",
       "    .dataframe tbody tr th:only-of-type {\n",
       "        vertical-align: middle;\n",
       "    }\n",
       "\n",
       "    .dataframe tbody tr th {\n",
       "        vertical-align: top;\n",
       "    }\n",
       "\n",
       "    .dataframe thead th {\n",
       "        text-align: right;\n",
       "    }\n",
       "</style>\n",
       "<table border=\"1\" class=\"dataframe\">\n",
       "  <thead>\n",
       "    <tr style=\"text-align: right;\">\n",
       "      <th></th>\n",
       "      <th>creative_id</th>\n",
       "      <th>tag_id</th>\n",
       "      <th>click</th>\n",
       "      <th>profit_by_coef</th>\n",
       "      <th>click_profit</th>\n",
       "    </tr>\n",
       "  </thead>\n",
       "  <tbody>\n",
       "    <tr>\n",
       "      <th>46</th>\n",
       "      <td>59c2ae0feee8</td>\n",
       "      <td>pcicbottomx20002</td>\n",
       "      <td>1</td>\n",
       "      <td>17680.0</td>\n",
       "      <td>17680.000000</td>\n",
       "    </tr>\n",
       "    <tr>\n",
       "      <th>79</th>\n",
       "      <td>aabb916b3651</td>\n",
       "      <td>hvbyt95qx9rch01g</td>\n",
       "      <td>1</td>\n",
       "      <td>17595.0</td>\n",
       "      <td>17595.000000</td>\n",
       "    </tr>\n",
       "    <tr>\n",
       "      <th>67</th>\n",
       "      <td>84cbfabe2c00</td>\n",
       "      <td>jgxem6q2fc5vtq93</td>\n",
       "      <td>1</td>\n",
       "      <td>16560.0</td>\n",
       "      <td>16560.000000</td>\n",
       "    </tr>\n",
       "    <tr>\n",
       "      <th>76</th>\n",
       "      <td>95a50ce2b4ea</td>\n",
       "      <td>mobicbottompc000</td>\n",
       "      <td>3</td>\n",
       "      <td>17680.0</td>\n",
       "      <td>5893.333333</td>\n",
       "    </tr>\n",
       "    <tr>\n",
       "      <th>106</th>\n",
       "      <td>eed0464861ff</td>\n",
       "      <td>lu1fyz262952yqdw</td>\n",
       "      <td>4</td>\n",
       "      <td>19665.0</td>\n",
       "      <td>4916.250000</td>\n",
       "    </tr>\n",
       "  </tbody>\n",
       "</table>\n",
       "</div>"
      ],
      "text/plain": [
       "      creative_id            tag_id  click  profit_by_coef  click_profit\n",
       "46   59c2ae0feee8  pcicbottomx20002      1         17680.0  17680.000000\n",
       "79   aabb916b3651  hvbyt95qx9rch01g      1         17595.0  17595.000000\n",
       "67   84cbfabe2c00  jgxem6q2fc5vtq93      1         16560.0  16560.000000\n",
       "76   95a50ce2b4ea  mobicbottompc000      3         17680.0   5893.333333\n",
       "106  eed0464861ff  lu1fyz262952yqdw      4         19665.0   4916.250000"
      ]
     },
     "execution_count": 146,
     "metadata": {},
     "output_type": "execute_result"
    }
   ],
   "source": [
    "df_final['click_profit'] = df_final['profit_by_coef'] / df_final['click']\n",
    "df_final.sort_values('click_profit', ascending=False).head()"
   ]
  },
  {
   "cell_type": "code",
   "execution_count": 138,
   "id": "43d1ef43-088d-4b66-9fe7-da7209d57742",
   "metadata": {},
   "outputs": [
    {
     "data": {
      "text/plain": [
       "(111, 5)"
      ]
     },
     "execution_count": 138,
     "metadata": {},
     "output_type": "execute_result"
    }
   ],
   "source": [
    "df_final.shape"
   ]
  },
  {
   "cell_type": "code",
   "execution_count": 147,
   "id": "74bb8042-ae30-4e38-bf4e-bc807f0a89d3",
   "metadata": {},
   "outputs": [],
   "source": [
    "cpc_dict = {}\n",
    "cpc_dict['cpc_df'] = df_final.drop(['click', 'profit_by_coef'], axis = 1)\n",
    "\n",
    "\n",
    "with open(\"../pickles/cpc_with_weight.pkl\", \"wb\") as f:\n",
    "        dill.Pickler(f, recurse=True).dump(cpc_dict)"
   ]
  },
  {
   "cell_type": "code",
   "execution_count": null,
   "id": "b1acdad3-e06b-4438-ae0f-5e296b7d399a",
   "metadata": {},
   "outputs": [],
   "source": []
  }
 ],
 "metadata": {
  "kernelspec": {
   "display_name": "Python 3 (ipykernel)",
   "language": "python",
   "name": "python3"
  },
  "language_info": {
   "codemirror_mode": {
    "name": "ipython",
    "version": 3
   },
   "file_extension": ".py",
   "mimetype": "text/x-python",
   "name": "python",
   "nbconvert_exporter": "python",
   "pygments_lexer": "ipython3",
   "version": "3.11.5"
  }
 },
 "nbformat": 4,
 "nbformat_minor": 5
}
