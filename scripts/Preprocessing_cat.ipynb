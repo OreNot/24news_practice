{
 "cells": [
  {
   "cell_type": "markdown",
   "id": "6f40b814-a18b-49c9-ac44-3282a3040fa2",
   "metadata": {},
   "source": [
    "# Подготовка данных"
   ]
  },
  {
   "cell_type": "markdown",
   "id": "e2a4956e-877e-41ba-9ff1-968452af59c2",
   "metadata": {},
   "source": [
    "# 0. Импорт сторонних библиотек"
   ]
  },
  {
   "cell_type": "code",
   "execution_count": 1,
   "id": "ea199209-5d87-46a8-a2b3-bbb7b50e78c8",
   "metadata": {},
   "outputs": [
    {
     "name": "stdout",
     "output_type": "stream",
     "text": [
      "pandas 2.0.0.\n",
      "numpy 1.24.1.\n",
      "dill 0.3.6.\n",
      "sklearn 1.3.2.\n"
     ]
    }
   ],
   "source": [
    "import pandas as pd\n",
    "print('pandas {}.'.format(pd.__version__))\n",
    "import numpy as np\n",
    "print('numpy {}.'.format(np.__version__))\n",
    "from datetime import datetime\n",
    "import pickle\n",
    "import dill\n",
    "print('dill {}.'.format(dill.__version__))\n",
    "from sklearn.preprocessing import OneHotEncoder, StandardScaler\n",
    "from sklearn.model_selection import train_test_split\n",
    "from sklearn.pipeline import Pipeline\n",
    "from sklearn.preprocessing import FunctionTransformer\n",
    "\n",
    "from sklearn.ensemble import HistGradientBoostingClassifier\n",
    "from sklearn.metrics import accuracy_score, f1_score, roc_auc_score\n",
    "import sklearn\n",
    "print('sklearn {}.'.format(sklearn.__version__))\n",
    "pd.options.display.max_columns = None\n",
    "import gc \n",
    "\n",
    "import warnings\n",
    "warnings.filterwarnings('ignore')"
   ]
  },
  {
   "cell_type": "markdown",
   "id": "24d2c6bc-10e1-42f5-857f-f3b1ed5d1d3b",
   "metadata": {},
   "source": [
    "## 0.1 Настройки среды, объявление глобальных переменных"
   ]
  },
  {
   "cell_type": "code",
   "execution_count": 2,
   "id": "85b9281d-f184-4f54-aca2-9f69a069c8ae",
   "metadata": {},
   "outputs": [],
   "source": [
    "pd.set_option('display.max_rows', 500)\n",
    "pd.set_option('display.max_columns', 500)\n",
    "pd.set_option('display.width', 1000)\n",
    "\n",
    "RANDOM_SEED = 42"
   ]
  },
  {
   "cell_type": "markdown",
   "id": "10e233e1-fccc-449b-9b46-f5a3aded74c2",
   "metadata": {},
   "source": [
    "## 0.2 Описание функций"
   ]
  },
  {
   "cell_type": "code",
   "execution_count": 3,
   "id": "1eddd5ff-0b90-440c-b9ab-e00bd23d0c99",
   "metadata": {},
   "outputs": [],
   "source": [
    "BYTES_TO_MB_DIV = 0.000001\n",
    "def print_memory_usage_of_data_frame(df):\n",
    "        mem = round(df.memory_usage().sum() * BYTES_TO_MB_DIV, 3) \n",
    "        print(\"Memory usage is \" + str(mem) + \" MB\")"
   ]
  },
  {
   "cell_type": "code",
   "execution_count": 4,
   "id": "50943b73-1210-46b4-b49f-01708c9562f6",
   "metadata": {},
   "outputs": [],
   "source": [
    "def nan_click_viewed__deleting(X, y = None):\n",
    "    X = X[X['click'].isna() == False]\n",
    "    X = X[X['view'] != 0]\n",
    "    return X "
   ]
  },
  {
   "cell_type": "code",
   "execution_count": 5,
   "id": "e65dbf96-d551-4d96-b637-0482eb6942b1",
   "metadata": {},
   "outputs": [],
   "source": [
    "def dub_dropping(X, y = None):\n",
    "    X =  X.drop_duplicates()                              \n",
    "    return X"
   ]
  },
  {
   "cell_type": "code",
   "execution_count": 6,
   "id": "6ae749e6-35ad-4b26-95c5-d7590ac65127",
   "metadata": {},
   "outputs": [],
   "source": [
    "def dub_dropping(X, y = None):\n",
    "    X =  X.drop_duplicates()                              \n",
    "    return X"
   ]
  },
  {
   "cell_type": "code",
   "execution_count": 7,
   "id": "a1ec4323-5383-4c89-a740-22c928d66b1d",
   "metadata": {},
   "outputs": [],
   "source": [
    "def nan_filling(X, y = None):\n",
    "    nan_cols = {}\n",
    "    for col in X.columns:\n",
    "        nan_count = X[col].isna().sum()\n",
    "        if nan_count != 0:\n",
    "            per = np.round((nan_count / df.shape[0]) * 100, 2)\n",
    "            nan_cols[col] = per\n",
    "                       \n",
    "    for col, per in nan_cols.items():\n",
    "        if per < 5:\n",
    "            X = X[X[col].isna() == False]\n",
    "        else:\n",
    "            X[col] = X[col].fillna('unknown')\n",
    "            \n",
    "    return X"
   ]
  },
  {
   "cell_type": "markdown",
   "id": "8cb1a566-7657-4b89-914b-945f3a89de1c",
   "metadata": {},
   "source": [
    "# 1. Чтение исходных датасетов"
   ]
  },
  {
   "cell_type": "code",
   "execution_count": 8,
   "id": "de1a940e-202d-4e8e-a5ed-ec1d7803e79f",
   "metadata": {},
   "outputs": [
    {
     "data": {
      "text/plain": [
       "(5889167, 39)"
      ]
     },
     "execution_count": 8,
     "metadata": {},
     "output_type": "execute_result"
    }
   ],
   "source": [
    "df_clickhouse = pd.read_csv('../internship/clickhouse.csv')\n",
    "df_clickhouse.shape"
   ]
  },
  {
   "cell_type": "code",
   "execution_count": 9,
   "id": "59aeb961-0777-4c47-9f2f-fb2f32a82f73",
   "metadata": {},
   "outputs": [],
   "source": [
    "req_df_columns = df_clickhouse.columns"
   ]
  },
  {
   "cell_type": "code",
   "execution_count": 10,
   "id": "f1c44663-3736-419c-8c77-921e4715bd81",
   "metadata": {},
   "outputs": [
    {
     "data": {
      "text/plain": [
       "(132, 15)"
      ]
     },
     "execution_count": 10,
     "metadata": {},
     "output_type": "execute_result"
    }
   ],
   "source": [
    "df_creatives = pd.read_csv('../internship/creatives.csv')\n",
    "df_creatives.shape"
   ]
  },
  {
   "cell_type": "code",
   "execution_count": 11,
   "id": "65f22948-7c1a-40a8-a52c-dedf264e0930",
   "metadata": {},
   "outputs": [],
   "source": [
    "df_creatives = df_creatives.rename(columns={'id': 'creative_id'})"
   ]
  },
  {
   "cell_type": "markdown",
   "id": "929a48f0-b824-414c-9cf5-a3ffe33c885c",
   "metadata": {},
   "source": [
    "# 2. Объединение датасетов"
   ]
  },
  {
   "cell_type": "code",
   "execution_count": 12,
   "id": "a8965f1f-db57-478a-981d-ac1ce8bb2d5b",
   "metadata": {},
   "outputs": [
    {
     "data": {
      "text/plain": [
       "(5889167, 53)"
      ]
     },
     "execution_count": 12,
     "metadata": {},
     "output_type": "execute_result"
    }
   ],
   "source": [
    "df = pd.merge(df_clickhouse, df_creatives, on=\"creative_id\")\n",
    "df.shape"
   ]
  },
  {
   "cell_type": "markdown",
   "id": "95e33da5-5a2d-402f-846b-7e5c6c6d68ed",
   "metadata": {},
   "source": [
    "# 3. Предобработка объединённого датасета"
   ]
  },
  {
   "cell_type": "code",
   "execution_count": 13,
   "id": "0302238a-360d-4806-999a-54916ef82c20",
   "metadata": {},
   "outputs": [],
   "source": [
    "df = nan_filling(dub_dropping(nan_click_viewed__deleting(df)))"
   ]
  },
  {
   "cell_type": "markdown",
   "id": "0b124e88-dd1a-4359-93ca-40e796de98e1",
   "metadata": {},
   "source": [
    "# 4. Разбиение датасета на X и y"
   ]
  },
  {
   "cell_type": "code",
   "execution_count": 14,
   "id": "e47928bc-9f81-4e77-8063-60a173ad31a2",
   "metadata": {},
   "outputs": [],
   "source": [
    "X_train = df.drop('click', axis = 1)\n",
    "y_train = df['click']"
   ]
  },
  {
   "cell_type": "markdown",
   "id": "fbf4684f-3f5b-4f0a-bf69-a29584b0ab90",
   "metadata": {},
   "source": [
    "# 5. Описание функций для предпроцессинга"
   ]
  },
  {
   "cell_type": "code",
   "execution_count": 31,
   "id": "739566df-78fe-41c1-9de1-f841e672e615",
   "metadata": {},
   "outputs": [],
   "source": [
    "def column_deleting(X, y = None):\n",
    "    columns_for_drop = ['auction_date_time', 'impression_hash', 'ssp', 'is_pay',  'pay_price', 'auction_id', 'bid_id', 'auction_type', 'bid_floor', 'bid_price', 'is_win', 'view', 'place_number', 'ssp_user_id', 'campaign_id_x', 'enter_utm_campaign',  'stream_id_x', 'link_id', 'format', 'ip_v4', 'ip_v6', 'iab_category_x', 'ab_test', 'campaign_id_y', 'user_id', 'stream_id_y', 'is_deleted', 'image', 'created_at', 'updated_at']\n",
    "    X = X.drop(columns_for_drop, axis = 1)\n",
    "    X.reset_index(drop=True, inplace=True)\n",
    "    return X"
   ]
  },
  {
   "cell_type": "code",
   "execution_count": 32,
   "id": "8bae5c48-190f-4a0d-8c51-91a92bf0fee5",
   "metadata": {},
   "outputs": [],
   "source": [
    "def feature_reduction(X, y = None):\n",
    "    X['browser'] = X['browser'].apply(lambda x : 'Chrome' if x == 'Google' else x)\n",
    "    X['browser'] = X['browser'].apply(lambda x : 'Yandex Browser' if x == 'Yandex' else x)\n",
    "    X.reset_index(drop=True, inplace=True)\n",
    "    return X"
   ]
  },
  {
   "cell_type": "code",
   "execution_count": 33,
   "id": "3fc65ee1-ccf3-4da7-b0b1-82a357cac460",
   "metadata": {},
   "outputs": [],
   "source": [
    "def date_time_col_transformation(X, y = None):\n",
    "    X['req_date_time'] = pd.to_datetime(X['event_date_time'], format='%Y-%m-%d %H:%M:%S')\n",
    "    X['day'] =  X['req_date_time'].dt.day\n",
    "    X['month'] =  X['req_date_time'].dt.month\n",
    "    X['year'] =  X['req_date_time'].dt.year\n",
    "    X['hour'] =  X['req_date_time'].dt.hour\n",
    "    X['day_of_week'] = X['event_date_time'].apply(lambda x : datetime.strptime(x, \"%Y-%m-%d %H:%M:%S\").weekday())\n",
    "    X['is_holyday'] = X['day_of_week'].apply(lambda x : 1 if x in [5 , 6] else 0)\n",
    "    X['is_friday'] = X['day_of_week'].apply(lambda x : 1 if x == 4 else 0)\n",
    "    X['is_monday'] = X['day_of_week'].apply(lambda x : 1 if x == 0 else 0)\n",
    "    X['day_part'] = X['hour'].apply(lambda x : 'Night' if x >= 22 and x < 5 else ('Morning' if x >= 5 and x < 12 else ('Day' if x >= 12 and x < 17 else 'Evening')))\n",
    "    X['year_part'] = X['month'].apply(lambda x : 'Winter' if x in [12, 1, 2] else ('Spring' if x in [3, 4, 5] else ('Summer' if x in [6, 7, 8] else 'Autumn')))\n",
    "    X = X.drop(['event_date_time', 'req_date_time', 'year'], axis = 1)\n",
    "    X.reset_index(drop=True, inplace=True)\n",
    "    return X"
   ]
  },
  {
   "cell_type": "code",
   "execution_count": 34,
   "id": "9ce6cf53-b790-44e9-9db1-6a601852dd79",
   "metadata": {},
   "outputs": [],
   "source": [
    "def type_transformation(X, y = None):\n",
    "    X['loss_reason'] = X['loss_reason'].astype('int8')\n",
    "    X['device'] = X['device'].astype('int8')\n",
    "    X['day'] = X['day'].astype('int8')\n",
    "    X['month'] = X['month'].astype('int8')\n",
    "    X['hour'] = X['hour'].astype('int8')\n",
    "    X['day_of_week'] = X['day_of_week'].astype('int8')\n",
    "    X['is_holyday'] = X['is_holyday'].astype('int8')\n",
    "    X['is_friday'] = X['is_friday'].astype('int8')\n",
    "    X['is_monday'] = X['is_monday'].astype('int8')\n",
    "    X.reset_index(drop=True, inplace=True)\n",
    "    return X"
   ]
  },
  {
   "cell_type": "markdown",
   "id": "644ba10e-4d31-483f-8d95-d52fa41f5f2f",
   "metadata": {},
   "source": [
    "Обьявление Encoder:"
   ]
  },
  {
   "cell_type": "code",
   "execution_count": 35,
   "id": "4aabdea5-3e1c-4ac2-a8e2-205bd3fe4b5c",
   "metadata": {},
   "outputs": [],
   "source": [
    "ohe = OneHotEncoder(sparse = True, max_categories = None, handle_unknown = 'ignore')\n"
   ]
  },
  {
   "cell_type": "code",
   "execution_count": 42,
   "id": "7c451de1-c6ca-4bc2-bb5d-781423b7e429",
   "metadata": {},
   "outputs": [],
   "source": [
    "def cat_encoding(X, y = None):\n",
    "\n",
    "    cat_cols = X.columns\n",
    "    #ohe.fit(X[cat_cols])\n",
    "    X.reset_index(drop=True, inplace=True)\n",
    "    ft = ohe.transform(X[cat_cols])\n",
    "\n",
    "    X = ft\n",
    "    \n",
    "    return X"
   ]
  },
  {
   "cell_type": "markdown",
   "id": "59a31109-11e6-4ba8-84b2-b14dbb248538",
   "metadata": {},
   "source": [
    "# 6. Создание пайплайна препроцессинга"
   ]
  },
  {
   "cell_type": "code",
   "execution_count": 43,
   "id": "1ae598e1-fe69-460b-86be-360f42036ad3",
   "metadata": {},
   "outputs": [],
   "source": [
    "preprocessor = Pipeline(\n",
    "    steps=\n",
    "    [\n",
    "        ('column_deleting', FunctionTransformer(func=column_deleting)),\n",
    "        ('feature_reduction', FunctionTransformer(func=feature_reduction)),\n",
    "        ('date_time_col_transformation', FunctionTransformer(func=date_time_col_transformation)),\n",
    "        ('type_transformation', FunctionTransformer(func=type_transformation)),\n",
    "        ('cat_encoding', FunctionTransformer(func=cat_encoding)),\n",
    "        \n",
    "    ]\n",
    ")"
   ]
  },
  {
   "cell_type": "markdown",
   "id": "d8a4ccda-5636-4db8-9380-598be2fc9079",
   "metadata": {},
   "source": [
    "# 7. Препроцессинг обучающей выборки X"
   ]
  },
  {
   "cell_type": "code",
   "execution_count": 41,
   "id": "ca396639-0e31-42b2-b1c9-da9fb0e4af72",
   "metadata": {},
   "outputs": [],
   "source": [
    "X_train_prep = preprocessor.fit_transform(X_train, y_train)"
   ]
  },
  {
   "cell_type": "markdown",
   "id": "c3bb88c3-62c8-4ed4-a71a-ed2dd04cd2c6",
   "metadata": {},
   "source": [
    "Сохранение энкодера и списка параметров объединенного датасета:"
   ]
  },
  {
   "cell_type": "code",
   "execution_count": 44,
   "id": "6eceea71-2639-4af8-be78-0ff54892dd19",
   "metadata": {},
   "outputs": [],
   "source": [
    "preprocessing_dict = {'encoder': ohe}\n",
    "preprocessing_dict['req_df_columns'] = req_df_columns"
   ]
  },
  {
   "cell_type": "code",
   "execution_count": null,
   "id": "68579f95-f136-48c7-a637-e8933e415733",
   "metadata": {},
   "outputs": [],
   "source": [
    "req_df_columns"
   ]
  },
  {
   "cell_type": "code",
   "execution_count": 45,
   "id": "93e1ff7e-ac21-4729-9030-433ed6a5df09",
   "metadata": {},
   "outputs": [],
   "source": [
    "with open('../pickles/preprocessing_dict_cat_2.pickle', 'wb') as f:\n",
    "    dill.Pickler(f, recurse=True).dump(preprocessing_dict)\n",
    "   # pickle.dump(preprocessing_dict, handle, protocol=pickle.HIGHEST_PROTOCOL)"
   ]
  },
  {
   "cell_type": "markdown",
   "id": "5096e7c0-0afd-4b3e-9635-0536f48e800b",
   "metadata": {},
   "source": [
    "Сохранение препроцессора:"
   ]
  },
  {
   "cell_type": "code",
   "execution_count": 46,
   "id": "dcddaa9b-a466-493f-bd13-98c726fb4a25",
   "metadata": {},
   "outputs": [],
   "source": [
    "preprocessor_pipline_dict = {}\n",
    "preprocessor_pipline_dict['preprocessor'] = preprocessor"
   ]
  },
  {
   "cell_type": "code",
   "execution_count": 47,
   "id": "4905f7ba-9766-4ae9-a604-7f33a30cd7a7",
   "metadata": {},
   "outputs": [],
   "source": [
    "with open(\"../pickles/preprocessor_cat_pipline_dict_2.pkl\", \"wb\") as f:\n",
    "        dill.Pickler(f, recurse=True).dump(preprocessor_pipline_dict)"
   ]
  },
  {
   "cell_type": "code",
   "execution_count": 48,
   "id": "156fc7fa-e868-4ae4-997a-78bc0431370f",
   "metadata": {},
   "outputs": [
    {
     "ename": "AttributeError",
     "evalue": "'csr_matrix' object has no attribute 'memory_usage'",
     "output_type": "error",
     "traceback": [
      "\u001b[1;31m---------------------------------------------------------------------------\u001b[0m",
      "\u001b[1;31mAttributeError\u001b[0m                            Traceback (most recent call last)",
      "Cell \u001b[1;32mIn[48], line 1\u001b[0m\n\u001b[1;32m----> 1\u001b[0m \u001b[43mprint_memory_usage_of_data_frame\u001b[49m\u001b[43m(\u001b[49m\u001b[43mX_train_prep\u001b[49m\u001b[43m)\u001b[49m\n",
      "Cell \u001b[1;32mIn[3], line 3\u001b[0m, in \u001b[0;36mprint_memory_usage_of_data_frame\u001b[1;34m(df)\u001b[0m\n\u001b[0;32m      2\u001b[0m \u001b[38;5;28;01mdef\u001b[39;00m \u001b[38;5;21mprint_memory_usage_of_data_frame\u001b[39m(df):\n\u001b[1;32m----> 3\u001b[0m         mem \u001b[38;5;241m=\u001b[39m \u001b[38;5;28mround\u001b[39m(\u001b[43mdf\u001b[49m\u001b[38;5;241;43m.\u001b[39;49m\u001b[43mmemory_usage\u001b[49m()\u001b[38;5;241m.\u001b[39msum() \u001b[38;5;241m*\u001b[39m BYTES_TO_MB_DIV, \u001b[38;5;241m3\u001b[39m) \n\u001b[0;32m      4\u001b[0m         \u001b[38;5;28mprint\u001b[39m(\u001b[38;5;124m\"\u001b[39m\u001b[38;5;124mMemory usage is \u001b[39m\u001b[38;5;124m\"\u001b[39m \u001b[38;5;241m+\u001b[39m \u001b[38;5;28mstr\u001b[39m(mem) \u001b[38;5;241m+\u001b[39m \u001b[38;5;124m\"\u001b[39m\u001b[38;5;124m MB\u001b[39m\u001b[38;5;124m\"\u001b[39m)\n",
      "\u001b[1;31mAttributeError\u001b[0m: 'csr_matrix' object has no attribute 'memory_usage'"
     ]
    }
   ],
   "source": [
    "print_memory_usage_of_data_frame(X_train_prep)"
   ]
  },
  {
   "cell_type": "markdown",
   "id": "903a7f6e-583d-4d44-ab36-f3be47907230",
   "metadata": {},
   "source": [
    "# 8. Определение модели"
   ]
  },
  {
   "cell_type": "code",
   "execution_count": 28,
   "id": "63abd63c-554f-4898-ae7b-66cd73dc1150",
   "metadata": {},
   "outputs": [
    {
     "name": "stdout",
     "output_type": "stream",
     "text": [
      "Модель: HistGradientBoostingClassifier\n",
      "ROC_AUC: 0.670343702685418\n",
      "\n",
      "CPU times: total: 40min 35s\n",
      "Wall time: 10min 48s\n"
     ]
    }
   ],
   "source": [
    "%%time\n",
    "hgbc_model = HistGradientBoostingClassifier(scoring = 'roc_auc', random_state=RANDOM_SEED)\n",
    "hgbc_model.fit(X_train_prep.toarray(), y_train)\n",
    "y_pred_prob_test = hgbc_model.predict_proba(X_test_prep.toarray()) \n",
    "roc_auc_test = roc_auc_score(y_test, y_pred_prob_test[:, 1])\n",
    "    \n",
    "print(f'Модель: {type(hgbc_model).__name__}\\nROC_AUC: {roc_auc_test}\\n')"
   ]
  },
  {
   "cell_type": "markdown",
   "id": "ef388c3f-d338-4f96-b559-966d7ad5dfcf",
   "metadata": {},
   "source": [
    "# 9. Тюннинг модели"
   ]
  },
  {
   "cell_type": "code",
   "execution_count": null,
   "id": "120f78ba-56ea-4aec-bae1-0b0758a2af39",
   "metadata": {},
   "outputs": [],
   "source": [
    "%%time\n",
    "hgbc_model = HistGradientBoostingClassifier(l2_regularization = 0.487, learning_rate = 0.065, max_depth = 49, max_leaf_nodes = 91,  scoring = 'roc_auc', random_state=RANDOM_SEED)\n",
    "hgbc_model.fit(X_train_prep.toarray(), y_train)\n",
    "# y_pred_prob_test = hgbc_model.predict_proba(X_test_prep.toarray()) \n",
    "# roc_auc_test = roc_auc_score(y_test, y_pred_prob_test[:, 1])\n",
    "    \n",
    "# print(f'Модель: {type(hgbc_model).__name__}\\nROC_AUC: {roc_auc_test}\\n')"
   ]
  },
  {
   "cell_type": "code",
   "execution_count": 48,
   "id": "5defdac8-5935-43e9-a109-954c4944d325",
   "metadata": {},
   "outputs": [
    {
     "data": {
      "text/plain": [
       "array([[0.9684323 , 0.0315677 ],\n",
       "       [0.9684323 , 0.0315677 ],\n",
       "       [0.97534416, 0.02465584],\n",
       "       [0.97534416, 0.02465584],\n",
       "       [0.98825991, 0.01174009],\n",
       "       [0.98825991, 0.01174009],\n",
       "       [0.97627256, 0.02372744],\n",
       "       [0.97627256, 0.02372744],\n",
       "       [0.98620594, 0.01379406],\n",
       "       [0.98239241, 0.01760759],\n",
       "       [0.94606829, 0.05393171],\n",
       "       [0.97727549, 0.02272451],\n",
       "       [0.97583572, 0.02416428],\n",
       "       [0.9753912 , 0.0246088 ]])"
      ]
     },
     "execution_count": 48,
     "metadata": {},
     "output_type": "execute_result"
    }
   ],
   "source": [
    "y_pred_prob_test = hgbc_model.predict_proba(X_test_prep.toarray()) \n",
    "y_pred_prob_test"
   ]
  },
  {
   "cell_type": "markdown",
   "id": "568a2be4-1bc1-4688-8cdf-788c8376547c",
   "metadata": {},
   "source": [
    "# 10. Сохранение обученной модели"
   ]
  },
  {
   "cell_type": "code",
   "execution_count": 36,
   "id": "71602819-5393-47ec-a57c-b0c68d9a243f",
   "metadata": {},
   "outputs": [],
   "source": [
    "model_dict = {}\n",
    "\n",
    "model_dict['metadata'] = 'Модель: HistGradientBoostingClassifier, ROC_AUC test: 0.6728202352712497'\n",
    "model_dict['model'] = hgbc_model\n",
    "with open(\"../pickles/model_cat_dict_2.pkl\", \"wb\") as f:\n",
    "        dill.Pickler(f, recurse=True).dump(model_dict)"
   ]
  },
  {
   "cell_type": "code",
   "execution_count": null,
   "id": "c8dc665d-5ac8-4221-86c2-f5e2a021879f",
   "metadata": {},
   "outputs": [],
   "source": []
  },
  {
   "cell_type": "code",
   "execution_count": null,
   "id": "33b83bc7-335d-4a9a-8241-81b3ada028f7",
   "metadata": {},
   "outputs": [],
   "source": []
  }
 ],
 "metadata": {
  "kernelspec": {
   "display_name": "Python 3 (ipykernel)",
   "language": "python",
   "name": "python3"
  },
  "language_info": {
   "codemirror_mode": {
    "name": "ipython",
    "version": 3
   },
   "file_extension": ".py",
   "mimetype": "text/x-python",
   "name": "python",
   "nbconvert_exporter": "python",
   "pygments_lexer": "ipython3",
   "version": "3.11.5"
  }
 },
 "nbformat": 4,
 "nbformat_minor": 5
}
