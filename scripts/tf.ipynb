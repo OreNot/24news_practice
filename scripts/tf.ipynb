{
 "cells": [
  {
   "cell_type": "code",
   "execution_count": 6,
   "id": "ad208db8-e8c3-4c7f-a622-08ba872a1702",
   "metadata": {},
   "outputs": [
    {
     "name": "stdout",
     "output_type": "stream",
     "text": [
      "TensorFlow version: 2.12.0\n",
      "[name: \"/device:CPU:0\"\n",
      "device_type: \"CPU\"\n",
      "memory_limit: 268435456\n",
      "locality {\n",
      "}\n",
      "incarnation: 8491533649543682592\n",
      "xla_global_id: -1\n",
      "]\n"
     ]
    }
   ],
   "source": [
    "import numpy as np\n",
    "import pandas as pd\n",
    "import matplotlib as plt\n",
    "from sklearn.model_selection import train_test_split, KFold, cross_val_score\n",
    "from sklearn.utils import class_weight\n",
    "import tensorflow as tf\n",
    "from scikeras.wrappers import KerasClassifier\n",
    "from sklearn.model_selection import GridSearchCV\n",
    "from sklearn.metrics import accuracy_score, roc_auc_score, confusion_matrix \n",
    "print(\"TensorFlow version:\", tf.__version__)\n",
    "from tensorflow.python.client import device_lib\n",
    "print(device_lib.list_local_devices())\n",
    "from sklearn.preprocessing import OneHotEncoder\n",
    "from sklearn.pipeline import Pipeline\n",
    "from sklearn.preprocessing import FunctionTransformer\n",
    "from datetime import datetime\n",
    "from sklearn.metrics import accuracy_score, classification_report\n",
    "import keras\n",
    "import gc\n",
    "import warnings\n",
    "warnings.filterwarnings('ignore')"
   ]
  },
  {
   "cell_type": "code",
   "execution_count": 7,
   "id": "f5755d64-c5d3-490f-be09-adb13987b9ac",
   "metadata": {},
   "outputs": [
    {
     "name": "stdout",
     "output_type": "stream",
     "text": [
      "Python 3.11.5\n"
     ]
    }
   ],
   "source": [
    "!python --version"
   ]
  },
  {
   "cell_type": "code",
   "execution_count": 8,
   "id": "ff1c8745-2f2a-41da-acef-53386376b420",
   "metadata": {},
   "outputs": [],
   "source": [
    "pd.set_option('display.max_rows', 500)\n",
    "pd.set_option('display.max_columns', 500)\n",
    "pd.set_option('display.width', 1000)\n",
    "\n",
    "RANDOM_SEED = 42"
   ]
  },
  {
   "cell_type": "code",
   "execution_count": 9,
   "id": "33874bcf-fc5e-4cb7-b64c-73e75065431c",
   "metadata": {},
   "outputs": [
    {
     "data": {
      "text/plain": [
       "False"
      ]
     },
     "execution_count": 9,
     "metadata": {},
     "output_type": "execute_result"
    }
   ],
   "source": [
    "tf.test.is_built_with_cuda()"
   ]
  },
  {
   "cell_type": "code",
   "execution_count": 10,
   "id": "95d6e7d6-1e7f-468a-81ce-a47c3aff6884",
   "metadata": {},
   "outputs": [
    {
     "name": "stdout",
     "output_type": "stream",
     "text": [
      "Num GPUs Available:  0\n",
      "GPU name:  []\n"
     ]
    }
   ],
   "source": [
    "print(\"Num GPUs Available: \", len(tf.config.list_physical_devices('GPU')))\n",
    "print('GPU name: ', tf.config.experimental.list_physical_devices('GPU'))"
   ]
  },
  {
   "cell_type": "code",
   "execution_count": 11,
   "id": "0fc35c65-478f-43f3-afda-c4e62acf8bed",
   "metadata": {},
   "outputs": [],
   "source": [
    "BYTES_TO_MB_DIV = 0.000001\n",
    "def print_memory_usage_of_data_frame(df):\n",
    "        mem = round(df.memory_usage().sum() * BYTES_TO_MB_DIV, 3) \n",
    "        print(\"Memory usage is \" + str(mem) + \" MB\")"
   ]
  },
  {
   "cell_type": "code",
   "execution_count": 12,
   "id": "a0b1a5e6-9aeb-436b-b88d-e63fb504e8eb",
   "metadata": {},
   "outputs": [],
   "source": [
    "def nan_click_viewed__deleting(X, y = None):\n",
    "    X = X[X['click'].isna() == False]\n",
    "    X = X[X['view'] != 0]\n",
    "    return X "
   ]
  },
  {
   "cell_type": "code",
   "execution_count": 13,
   "id": "88a63f2a-a8ba-4104-8471-7959a775da84",
   "metadata": {},
   "outputs": [],
   "source": [
    "def dub_dropping(X, y = None):\n",
    "    X =  X.drop_duplicates()                              \n",
    "    return X"
   ]
  },
  {
   "cell_type": "code",
   "execution_count": 14,
   "id": "559e7ead-0ca4-4b1d-855f-14b62e0d2762",
   "metadata": {},
   "outputs": [],
   "source": [
    "def paused_status_dropping(X, y = None):\n",
    "    X.drop(X.loc[X['status'] == 'paused'].index, inplace=True)\n",
    "    return X"
   ]
  },
  {
   "cell_type": "code",
   "execution_count": 15,
   "id": "63c2f43c-cd24-4dcd-a199-a07efbf4c1a7",
   "metadata": {},
   "outputs": [],
   "source": [
    "def place_number_decrease(X, y = None):\n",
    "    X = X[X['place_number'] > 0]\n",
    "    X['place_number'] = X['place_number'] - 1\n",
    "    return X"
   ]
  },
  {
   "cell_type": "code",
   "execution_count": 16,
   "id": "3f6b1418-bf4c-4778-8bfd-743b5b55f631",
   "metadata": {},
   "outputs": [],
   "source": [
    "def nan_filling(X, y = None):\n",
    "    nan_cols = {}\n",
    "    for col in X.columns:\n",
    "        nan_count = X[col].isna().sum()\n",
    "        if nan_count != 0:\n",
    "            per = np.round((nan_count / df.shape[0]) * 100, 2)\n",
    "            nan_cols[col] = per\n",
    "                       \n",
    "    for col, per in nan_cols.items():\n",
    "        if per < 5:\n",
    "            X = X[X[col].isna() == False]\n",
    "        else:\n",
    "            X[col] = X[col].fillna('unknown')\n",
    "            \n",
    "    return X"
   ]
  },
  {
   "cell_type": "code",
   "execution_count": 17,
   "id": "8ebbae5c-08a1-417c-8b33-de27123c0ab8",
   "metadata": {},
   "outputs": [
    {
     "data": {
      "text/plain": [
       "(5889167, 39)"
      ]
     },
     "execution_count": 17,
     "metadata": {},
     "output_type": "execute_result"
    }
   ],
   "source": [
    "df_clickhouse = pd.read_csv('../internship/clickhouse.csv')\n",
    "df_clickhouse.shape"
   ]
  },
  {
   "cell_type": "code",
   "execution_count": 18,
   "id": "349b2de0-9dba-4f7c-836f-0759514e6be0",
   "metadata": {},
   "outputs": [],
   "source": [
    "req_df_columns = df_clickhouse.columns.drop('click')\n",
    "prep_tools_dict = {'req_df_columns' : req_df_columns}"
   ]
  },
  {
   "cell_type": "code",
   "execution_count": 19,
   "id": "bab813a2-7135-4e46-ba13-60713db28299",
   "metadata": {},
   "outputs": [
    {
     "data": {
      "text/plain": [
       "(132, 15)"
      ]
     },
     "execution_count": 19,
     "metadata": {},
     "output_type": "execute_result"
    }
   ],
   "source": [
    "df_creatives = pd.read_csv('../internship/creatives.csv')\n",
    "df_creatives.shape"
   ]
  },
  {
   "cell_type": "code",
   "execution_count": 20,
   "id": "abc3d7a7-1686-4a7c-b0d5-2fbc7c904995",
   "metadata": {},
   "outputs": [],
   "source": [
    "df_creatives = df_creatives.rename(columns={'id': 'creative_id'})"
   ]
  },
  {
   "cell_type": "code",
   "execution_count": 21,
   "id": "03d2cd59-cd30-47d8-ab98-352fc183c872",
   "metadata": {},
   "outputs": [
    {
     "data": {
      "text/plain": [
       "(5889167, 53)"
      ]
     },
     "execution_count": 21,
     "metadata": {},
     "output_type": "execute_result"
    }
   ],
   "source": [
    "df = pd.merge(df_clickhouse, df_creatives, on=\"creative_id\")\n",
    "df.shape"
   ]
  },
  {
   "cell_type": "code",
   "execution_count": 22,
   "id": "1e07ad31-07dd-4f44-860b-71811c1b18c7",
   "metadata": {},
   "outputs": [],
   "source": [
    "df = paused_status_dropping(df)"
   ]
  },
  {
   "cell_type": "code",
   "execution_count": 23,
   "id": "2d1505ee-985a-4580-b58a-e6f36aff844f",
   "metadata": {},
   "outputs": [
    {
     "data": {
      "text/plain": [
       "(2797034, 53)"
      ]
     },
     "execution_count": 23,
     "metadata": {},
     "output_type": "execute_result"
    }
   ],
   "source": [
    "df = nan_filling(dub_dropping(nan_click_viewed__deleting(df)))\n",
    "df.shape"
   ]
  },
  {
   "cell_type": "code",
   "execution_count": 24,
   "id": "5be65a19-c14b-4656-a3d0-c413e95afe0e",
   "metadata": {},
   "outputs": [
    {
     "data": {
      "text/plain": [
       "(2793412, 53)"
      ]
     },
     "execution_count": 24,
     "metadata": {},
     "output_type": "execute_result"
    }
   ],
   "source": [
    "df = place_number_decrease(df)\n",
    "df.shape"
   ]
  },
  {
   "cell_type": "code",
   "execution_count": 25,
   "id": "115b1fb4-71ba-4762-89dd-beffd5865019",
   "metadata": {},
   "outputs": [
    {
     "data": {
      "text/html": [
       "<div>\n",
       "<style scoped>\n",
       "    .dataframe tbody tr th:only-of-type {\n",
       "        vertical-align: middle;\n",
       "    }\n",
       "\n",
       "    .dataframe tbody tr th {\n",
       "        vertical-align: top;\n",
       "    }\n",
       "\n",
       "    .dataframe thead th {\n",
       "        text-align: right;\n",
       "    }\n",
       "</style>\n",
       "<table border=\"1\" class=\"dataframe\">\n",
       "  <thead>\n",
       "    <tr style=\"text-align: right;\">\n",
       "      <th></th>\n",
       "      <th>auction_date_time</th>\n",
       "      <th>impression_hash</th>\n",
       "      <th>ssp</th>\n",
       "      <th>auction_id</th>\n",
       "      <th>impression_id</th>\n",
       "      <th>bid_id</th>\n",
       "      <th>auction_type</th>\n",
       "      <th>bid_floor</th>\n",
       "      <th>bid_price</th>\n",
       "      <th>loss_reason</th>\n",
       "      <th>is_win</th>\n",
       "      <th>pay_price</th>\n",
       "      <th>is_pay</th>\n",
       "      <th>view</th>\n",
       "      <th>place_number</th>\n",
       "      <th>click</th>\n",
       "      <th>ssp_user_id</th>\n",
       "      <th>creative_id</th>\n",
       "      <th>campaign_id_x</th>\n",
       "      <th>stream_id_x</th>\n",
       "      <th>link_id</th>\n",
       "      <th>format</th>\n",
       "      <th>device</th>\n",
       "      <th>OS</th>\n",
       "      <th>browser</th>\n",
       "      <th>geo_country</th>\n",
       "      <th>geo_city</th>\n",
       "      <th>ip_v4</th>\n",
       "      <th>ip_v6</th>\n",
       "      <th>site_id</th>\n",
       "      <th>tag_id</th>\n",
       "      <th>iab_category_x</th>\n",
       "      <th>ab_test</th>\n",
       "      <th>enter_utm_source</th>\n",
       "      <th>enter_utm_campaign</th>\n",
       "      <th>enter_utm_medium</th>\n",
       "      <th>enter_utm_content</th>\n",
       "      <th>enter_utm_term</th>\n",
       "      <th>event_date_time</th>\n",
       "      <th>status</th>\n",
       "      <th>is_deleted</th>\n",
       "      <th>campaign_id_y</th>\n",
       "      <th>user_id</th>\n",
       "      <th>stream_id_y</th>\n",
       "      <th>theme</th>\n",
       "      <th>second_theme</th>\n",
       "      <th>iab_category_y</th>\n",
       "      <th>image</th>\n",
       "      <th>image_extension</th>\n",
       "      <th>mime_type</th>\n",
       "      <th>image_tag</th>\n",
       "      <th>created_at</th>\n",
       "      <th>updated_at</th>\n",
       "    </tr>\n",
       "  </thead>\n",
       "  <tbody>\n",
       "    <tr>\n",
       "      <th>0</th>\n",
       "      <td>2024-01-10 15:15:34</td>\n",
       "      <td>3595129331408507136</td>\n",
       "      <td>7</td>\n",
       "      <td>cmf8kpg76rmanjkfhlh0</td>\n",
       "      <td>mobicbottomx2002_1</td>\n",
       "      <td>3Y1MGDSF4DZ45TYK3J8BXRZH</td>\n",
       "      <td>fst_price</td>\n",
       "      <td>0.01</td>\n",
       "      <td>107056393</td>\n",
       "      <td>10</td>\n",
       "      <td>1</td>\n",
       "      <td>107056</td>\n",
       "      <td>1</td>\n",
       "      <td>1</td>\n",
       "      <td>1</td>\n",
       "      <td>0</td>\n",
       "      <td>cmf8km876rmanjkfhgn0:cmf8km876rmanjkfhgmg</td>\n",
       "      <td>6b6df5b1f938</td>\n",
       "      <td>77</td>\n",
       "      <td>111</td>\n",
       "      <td>4362</td>\n",
       "      <td>native</td>\n",
       "      <td>4</td>\n",
       "      <td>Android</td>\n",
       "      <td>Chrome</td>\n",
       "      <td>RU</td>\n",
       "      <td>551487</td>\n",
       "      <td>85.249.31.254</td>\n",
       "      <td>unknown</td>\n",
       "      <td>01gm531atx</td>\n",
       "      <td>mobicbottomx2002</td>\n",
       "      <td>[]</td>\n",
       "      <td>automl</td>\n",
       "      <td>rtb_24smi</td>\n",
       "      <td>86</td>\n",
       "      <td>bidml</td>\n",
       "      <td>7f73d0f3b178</td>\n",
       "      <td>13926_25077</td>\n",
       "      <td>2024-01-10 15:15:45</td>\n",
       "      <td>active</td>\n",
       "      <td>0</td>\n",
       "      <td>77</td>\n",
       "      <td>9</td>\n",
       "      <td>111</td>\n",
       "      <td>default</td>\n",
       "      <td>default</td>\n",
       "      <td>IAB7</td>\n",
       "      <td>b22f3655f7be6cd9d37e9b44</td>\n",
       "      <td>jpg</td>\n",
       "      <td>image/jpeg</td>\n",
       "      <td>default</td>\n",
       "      <td>2023-10-11 12:32:35</td>\n",
       "      <td>2023-11-08 13:23:02</td>\n",
       "    </tr>\n",
       "    <tr>\n",
       "      <th>4</th>\n",
       "      <td>2024-01-15 17:14:51</td>\n",
       "      <td>-3336184151420619993</td>\n",
       "      <td>7</td>\n",
       "      <td>cmijrmo76rmanjm1rqd0</td>\n",
       "      <td>ou9j4n9sqtfe8400_0</td>\n",
       "      <td>3YEQAEAH9SCKP3FHT4DH38SE</td>\n",
       "      <td>fst_price</td>\n",
       "      <td>0.01</td>\n",
       "      <td>172606393</td>\n",
       "      <td>6</td>\n",
       "      <td>1</td>\n",
       "      <td>172606</td>\n",
       "      <td>1</td>\n",
       "      <td>1</td>\n",
       "      <td>0</td>\n",
       "      <td>0</td>\n",
       "      <td>cmijrkg76rmanjm1rmqg:cmijrkg76rmanjm1rmq0</td>\n",
       "      <td>6b6df5b1f938</td>\n",
       "      <td>77</td>\n",
       "      <td>111</td>\n",
       "      <td>4362</td>\n",
       "      <td>native</td>\n",
       "      <td>4</td>\n",
       "      <td>Android</td>\n",
       "      <td>Chrome</td>\n",
       "      <td>RU</td>\n",
       "      <td>524901</td>\n",
       "      <td>188.94.32.123</td>\n",
       "      <td>unknown</td>\n",
       "      <td>01gm531atx</td>\n",
       "      <td>ou9j4n9sqtfe8400</td>\n",
       "      <td>[]</td>\n",
       "      <td>automl</td>\n",
       "      <td>rtb_24smi</td>\n",
       "      <td>86</td>\n",
       "      <td>bidml</td>\n",
       "      <td>8d65123ad67e</td>\n",
       "      <td>15314_15024</td>\n",
       "      <td>2024-01-15 17:15:25</td>\n",
       "      <td>active</td>\n",
       "      <td>0</td>\n",
       "      <td>77</td>\n",
       "      <td>9</td>\n",
       "      <td>111</td>\n",
       "      <td>default</td>\n",
       "      <td>default</td>\n",
       "      <td>IAB7</td>\n",
       "      <td>b22f3655f7be6cd9d37e9b44</td>\n",
       "      <td>jpg</td>\n",
       "      <td>image/jpeg</td>\n",
       "      <td>default</td>\n",
       "      <td>2023-10-11 12:32:35</td>\n",
       "      <td>2023-11-08 13:23:02</td>\n",
       "    </tr>\n",
       "    <tr>\n",
       "      <th>8</th>\n",
       "      <td>2024-01-14 13:50:40</td>\n",
       "      <td>-4845328304293519401</td>\n",
       "      <td>7</td>\n",
       "      <td>cmhrp0076rmanjhro4cg</td>\n",
       "      <td>my0fq2bg0twts35c_3</td>\n",
       "      <td>3YBS7VCA4NRNFNQ7HXA8DC89</td>\n",
       "      <td>fst_price</td>\n",
       "      <td>0.01</td>\n",
       "      <td>55438822</td>\n",
       "      <td>2</td>\n",
       "      <td>1</td>\n",
       "      <td>55438</td>\n",
       "      <td>1</td>\n",
       "      <td>1</td>\n",
       "      <td>3</td>\n",
       "      <td>0</td>\n",
       "      <td>cmhrp0076rmanjhro45g:cmhrp0076rmanjhro450</td>\n",
       "      <td>6b6df5b1f938</td>\n",
       "      <td>77</td>\n",
       "      <td>111</td>\n",
       "      <td>4362</td>\n",
       "      <td>native</td>\n",
       "      <td>2</td>\n",
       "      <td>Win10</td>\n",
       "      <td>Yandex Browser</td>\n",
       "      <td>RU</td>\n",
       "      <td>581049</td>\n",
       "      <td>95.53.35.121</td>\n",
       "      <td>unknown</td>\n",
       "      <td>01hew0ev25</td>\n",
       "      <td>my0fq2bg0twts35c</td>\n",
       "      <td>[]</td>\n",
       "      <td>automl</td>\n",
       "      <td>rtb_24smi</td>\n",
       "      <td>86</td>\n",
       "      <td>bidml</td>\n",
       "      <td>04376a608224</td>\n",
       "      <td>30347_27769</td>\n",
       "      <td>2024-01-14 13:50:42</td>\n",
       "      <td>active</td>\n",
       "      <td>0</td>\n",
       "      <td>77</td>\n",
       "      <td>9</td>\n",
       "      <td>111</td>\n",
       "      <td>default</td>\n",
       "      <td>default</td>\n",
       "      <td>IAB7</td>\n",
       "      <td>b22f3655f7be6cd9d37e9b44</td>\n",
       "      <td>jpg</td>\n",
       "      <td>image/jpeg</td>\n",
       "      <td>default</td>\n",
       "      <td>2023-10-11 12:32:35</td>\n",
       "      <td>2023-11-08 13:23:02</td>\n",
       "    </tr>\n",
       "    <tr>\n",
       "      <th>9</th>\n",
       "      <td>2024-01-18 12:20:31</td>\n",
       "      <td>1927312752573112664</td>\n",
       "      <td>7</td>\n",
       "      <td>cmkeqno76rmanjnmjdgg</td>\n",
       "      <td>mobicbottomx2002_1</td>\n",
       "      <td>3YNXNNJC7HM8GFKZXE92T412</td>\n",
       "      <td>fst_price</td>\n",
       "      <td>0.01</td>\n",
       "      <td>76715517</td>\n",
       "      <td>10</td>\n",
       "      <td>1</td>\n",
       "      <td>76715</td>\n",
       "      <td>1</td>\n",
       "      <td>1</td>\n",
       "      <td>1</td>\n",
       "      <td>0</td>\n",
       "      <td>cmkeqi876rmanjnmj5u0:cmkeqi876rmanjnmj5tg</td>\n",
       "      <td>6b6df5b1f938</td>\n",
       "      <td>77</td>\n",
       "      <td>111</td>\n",
       "      <td>4362</td>\n",
       "      <td>native</td>\n",
       "      <td>4</td>\n",
       "      <td>Android</td>\n",
       "      <td>Chrome</td>\n",
       "      <td>RU</td>\n",
       "      <td>2022890</td>\n",
       "      <td>80.83.239.41</td>\n",
       "      <td>unknown</td>\n",
       "      <td>01gm531atx</td>\n",
       "      <td>mobicbottomx2002</td>\n",
       "      <td>[]</td>\n",
       "      <td>automl</td>\n",
       "      <td>rtb_24smi</td>\n",
       "      <td>86</td>\n",
       "      <td>bidml</td>\n",
       "      <td>7f73d0f3b178</td>\n",
       "      <td>13926_25077</td>\n",
       "      <td>2024-01-18 12:21:00</td>\n",
       "      <td>active</td>\n",
       "      <td>0</td>\n",
       "      <td>77</td>\n",
       "      <td>9</td>\n",
       "      <td>111</td>\n",
       "      <td>default</td>\n",
       "      <td>default</td>\n",
       "      <td>IAB7</td>\n",
       "      <td>b22f3655f7be6cd9d37e9b44</td>\n",
       "      <td>jpg</td>\n",
       "      <td>image/jpeg</td>\n",
       "      <td>default</td>\n",
       "      <td>2023-10-11 12:32:35</td>\n",
       "      <td>2023-11-08 13:23:02</td>\n",
       "    </tr>\n",
       "    <tr>\n",
       "      <th>10</th>\n",
       "      <td>2024-01-10 01:18:04</td>\n",
       "      <td>-4294347528276567097</td>\n",
       "      <td>7</td>\n",
       "      <td>cmesc7076rmanjikaivg</td>\n",
       "      <td>ou9j4n9sqtfe8400_1</td>\n",
       "      <td>3Y04JY55N0MZ3C2BXAES4C2W</td>\n",
       "      <td>fst_price</td>\n",
       "      <td>0.01</td>\n",
       "      <td>79799215</td>\n",
       "      <td>2</td>\n",
       "      <td>1</td>\n",
       "      <td>79799</td>\n",
       "      <td>1</td>\n",
       "      <td>1</td>\n",
       "      <td>1</td>\n",
       "      <td>1</td>\n",
       "      <td>cmesc5g76rmanjikafdg:cmesc5g76rmanjikafd0</td>\n",
       "      <td>6b6df5b1f938</td>\n",
       "      <td>77</td>\n",
       "      <td>111</td>\n",
       "      <td>4362</td>\n",
       "      <td>native</td>\n",
       "      <td>4</td>\n",
       "      <td>Android</td>\n",
       "      <td>Chrome</td>\n",
       "      <td>RU</td>\n",
       "      <td>498817</td>\n",
       "      <td>31.134.189.196</td>\n",
       "      <td>unknown</td>\n",
       "      <td>01gm531atx</td>\n",
       "      <td>ou9j4n9sqtfe8400</td>\n",
       "      <td>[]</td>\n",
       "      <td>automl</td>\n",
       "      <td>rtb_24smi</td>\n",
       "      <td>86</td>\n",
       "      <td>bidml</td>\n",
       "      <td>9b209a09a68a</td>\n",
       "      <td>13926_25077</td>\n",
       "      <td>2024-01-10 01:25:11</td>\n",
       "      <td>active</td>\n",
       "      <td>0</td>\n",
       "      <td>77</td>\n",
       "      <td>9</td>\n",
       "      <td>111</td>\n",
       "      <td>default</td>\n",
       "      <td>default</td>\n",
       "      <td>IAB7</td>\n",
       "      <td>b22f3655f7be6cd9d37e9b44</td>\n",
       "      <td>jpg</td>\n",
       "      <td>image/jpeg</td>\n",
       "      <td>default</td>\n",
       "      <td>2023-10-11 12:32:35</td>\n",
       "      <td>2023-11-08 13:23:02</td>\n",
       "    </tr>\n",
       "  </tbody>\n",
       "</table>\n",
       "</div>"
      ],
      "text/plain": [
       "      auction_date_time      impression_hash  ssp            auction_id       impression_id                    bid_id auction_type  bid_floor  bid_price  loss_reason  is_win  pay_price  is_pay  view  place_number  click                                ssp_user_id   creative_id  campaign_id_x  stream_id_x  link_id  format  device       OS         browser geo_country  geo_city           ip_v4    ip_v6     site_id            tag_id iab_category_x ab_test enter_utm_source enter_utm_campaign enter_utm_medium enter_utm_content enter_utm_term      event_date_time  status  is_deleted  campaign_id_y  user_id  stream_id_y    theme second_theme iab_category_y                     image image_extension   mime_type image_tag           created_at           updated_at\n",
       "0   2024-01-10 15:15:34  3595129331408507136    7  cmf8kpg76rmanjkfhlh0  mobicbottomx2002_1  3Y1MGDSF4DZ45TYK3J8BXRZH    fst_price       0.01  107056393           10       1     107056       1     1             1      0  cmf8km876rmanjkfhgn0:cmf8km876rmanjkfhgmg  6b6df5b1f938             77          111     4362  native       4  Android          Chrome          RU    551487   85.249.31.254  unknown  01gm531atx  mobicbottomx2002             []  automl        rtb_24smi                 86            bidml      7f73d0f3b178    13926_25077  2024-01-10 15:15:45  active           0             77        9          111  default      default           IAB7  b22f3655f7be6cd9d37e9b44             jpg  image/jpeg   default  2023-10-11 12:32:35  2023-11-08 13:23:02\n",
       "4   2024-01-15 17:14:51 -3336184151420619993    7  cmijrmo76rmanjm1rqd0  ou9j4n9sqtfe8400_0  3YEQAEAH9SCKP3FHT4DH38SE    fst_price       0.01  172606393            6       1     172606       1     1             0      0  cmijrkg76rmanjm1rmqg:cmijrkg76rmanjm1rmq0  6b6df5b1f938             77          111     4362  native       4  Android          Chrome          RU    524901   188.94.32.123  unknown  01gm531atx  ou9j4n9sqtfe8400             []  automl        rtb_24smi                 86            bidml      8d65123ad67e    15314_15024  2024-01-15 17:15:25  active           0             77        9          111  default      default           IAB7  b22f3655f7be6cd9d37e9b44             jpg  image/jpeg   default  2023-10-11 12:32:35  2023-11-08 13:23:02\n",
       "8   2024-01-14 13:50:40 -4845328304293519401    7  cmhrp0076rmanjhro4cg  my0fq2bg0twts35c_3  3YBS7VCA4NRNFNQ7HXA8DC89    fst_price       0.01   55438822            2       1      55438       1     1             3      0  cmhrp0076rmanjhro45g:cmhrp0076rmanjhro450  6b6df5b1f938             77          111     4362  native       2    Win10  Yandex Browser          RU    581049    95.53.35.121  unknown  01hew0ev25  my0fq2bg0twts35c             []  automl        rtb_24smi                 86            bidml      04376a608224    30347_27769  2024-01-14 13:50:42  active           0             77        9          111  default      default           IAB7  b22f3655f7be6cd9d37e9b44             jpg  image/jpeg   default  2023-10-11 12:32:35  2023-11-08 13:23:02\n",
       "9   2024-01-18 12:20:31  1927312752573112664    7  cmkeqno76rmanjnmjdgg  mobicbottomx2002_1  3YNXNNJC7HM8GFKZXE92T412    fst_price       0.01   76715517           10       1      76715       1     1             1      0  cmkeqi876rmanjnmj5u0:cmkeqi876rmanjnmj5tg  6b6df5b1f938             77          111     4362  native       4  Android          Chrome          RU   2022890    80.83.239.41  unknown  01gm531atx  mobicbottomx2002             []  automl        rtb_24smi                 86            bidml      7f73d0f3b178    13926_25077  2024-01-18 12:21:00  active           0             77        9          111  default      default           IAB7  b22f3655f7be6cd9d37e9b44             jpg  image/jpeg   default  2023-10-11 12:32:35  2023-11-08 13:23:02\n",
       "10  2024-01-10 01:18:04 -4294347528276567097    7  cmesc7076rmanjikaivg  ou9j4n9sqtfe8400_1  3Y04JY55N0MZ3C2BXAES4C2W    fst_price       0.01   79799215            2       1      79799       1     1             1      1  cmesc5g76rmanjikafdg:cmesc5g76rmanjikafd0  6b6df5b1f938             77          111     4362  native       4  Android          Chrome          RU    498817  31.134.189.196  unknown  01gm531atx  ou9j4n9sqtfe8400             []  automl        rtb_24smi                 86            bidml      9b209a09a68a    13926_25077  2024-01-10 01:25:11  active           0             77        9          111  default      default           IAB7  b22f3655f7be6cd9d37e9b44             jpg  image/jpeg   default  2023-10-11 12:32:35  2023-11-08 13:23:02"
      ]
     },
     "execution_count": 25,
     "metadata": {},
     "output_type": "execute_result"
    }
   ],
   "source": [
    "df.head()"
   ]
  },
  {
   "cell_type": "code",
   "execution_count": 26,
   "id": "ee01a837-ebeb-4c65-b046-94cb9cf3bbcb",
   "metadata": {},
   "outputs": [],
   "source": [
    "df_train, df_test = train_test_split(df, stratify = df['click'], test_size=0.2, random_state=RANDOM_SEED)\n",
    "\n",
    "X_train = df_train.drop('click', axis = 1)\n",
    "y_train = df_train['click']\n",
    "\n",
    "X_test = df_test.drop('click', axis = 1)\n",
    "y_test = df_test['click']"
   ]
  },
  {
   "cell_type": "code",
   "execution_count": 27,
   "id": "8cdc46e8-b745-40d2-99f6-d91f2f09c5f0",
   "metadata": {},
   "outputs": [],
   "source": [
    "X_train = df.drop('click', axis = 1)\n",
    "y_train = df['click']"
   ]
  },
  {
   "cell_type": "code",
   "execution_count": 28,
   "id": "0c8866d7-8992-48b1-b9c0-81240d2325de",
   "metadata": {},
   "outputs": [],
   "source": [
    "def column_deleting(X, y = None):\n",
    "    columns_for_drop = ['creative_id', 'auction_date_time', 'impression_hash', 'ssp', 'auction_id', 'impression_id', 'bid_id', 'auction_type', 'bid_floor', 'bid_price', 'is_win', 'pay_price', 'is_pay', 'view', 'ssp_user_id', 'campaign_id_x', 'stream_id_x', 'link_id', 'format', 'ip_v4', 'ip_v6', 'site_id', 'iab_category_x', 'ab_test', 'enter_utm_campaign', 'status', 'is_deleted', 'campaign_id_y', 'user_id', 'stream_id_y', 'image', 'created_at', 'updated_at']\n",
    "    X = X.drop(columns_for_drop, axis = 1)\n",
    "    X.reset_index(drop=True, inplace=True)\n",
    "    return X"
   ]
  },
  {
   "cell_type": "code",
   "execution_count": 29,
   "id": "cd712a67-bedb-4c81-89e7-04b6e0e1fbb8",
   "metadata": {},
   "outputs": [],
   "source": [
    "def feature_reduction(X, y = None):\n",
    "    X['browser'] = X['browser'].apply(lambda x : 'Chrome' if x == 'Google' else x)\n",
    "    X['browser'] = X['browser'].apply(lambda x : 'Yandex Browser' if x == 'Yandex' else x)\n",
    "    X.reset_index(drop=True, inplace=True)\n",
    "    return X"
   ]
  },
  {
   "cell_type": "code",
   "execution_count": 30,
   "id": "9f14e3de-fefa-45f9-9569-10824fc291ca",
   "metadata": {},
   "outputs": [],
   "source": [
    "def date_time_col_transformation(X, y = None):\n",
    "    X['req_date_time'] = pd.to_datetime(X['event_date_time'], format='%Y-%m-%d %H:%M:%S')\n",
    "    X['day'] =  X['req_date_time'].dt.day\n",
    "    X['month'] =  X['req_date_time'].dt.month\n",
    "    X['year'] =  X['req_date_time'].dt.year\n",
    "    X['hour'] =  X['req_date_time'].dt.hour\n",
    "    X['day_of_week'] = X['event_date_time'].apply(lambda x : datetime.strptime(x, \"%Y-%m-%d %H:%M:%S\").weekday())\n",
    "    X['is_holyday'] = X['day_of_week'].apply(lambda x : 1 if x in [5 , 6] else 0)\n",
    "    X['is_friday'] = X['day_of_week'].apply(lambda x : 1 if x == 4 else 0)\n",
    "    X['is_monday'] = X['day_of_week'].apply(lambda x : 1 if x == 0 else 0)\n",
    "    X['day_part'] = X['hour'].apply(lambda x : 'Night' if x >= 22 and x < 5 else ('Morning' if x >= 5 and x < 12 else ('Day' if x >= 12 and x < 17 else 'Evening')))\n",
    "    X['year_part'] = X['month'].apply(lambda x : 'Winter' if x in [12, 1, 2] else ('Spring' if x in [3, 4, 5] else ('Summer' if x in [6, 7, 8] else 'Autumn')))\n",
    "    X = X.drop(['event_date_time', 'req_date_time', 'year'], axis = 1)\n",
    "    X.reset_index(drop=True, inplace=True)\n",
    "    return X"
   ]
  },
  {
   "cell_type": "code",
   "execution_count": 31,
   "id": "511e53c1-8ca3-4f9c-b1b3-90fc3d83478f",
   "metadata": {},
   "outputs": [],
   "source": [
    "preprocessor = Pipeline(\n",
    "    steps=\n",
    "    [\n",
    "        ('column_deleting', FunctionTransformer(func=column_deleting)),\n",
    "        ('feature_reduction', FunctionTransformer(func=feature_reduction)),\n",
    "        ('date_time_col_transformation', FunctionTransformer(func=date_time_col_transformation)),\n",
    "        #('onehot', OneHotEncoder(sparse = True, handle_unknown='ignore'))\n",
    "        \n",
    "    ]\n",
    ")"
   ]
  },
  {
   "cell_type": "code",
   "execution_count": 32,
   "id": "27fdd9bf-20ff-41f3-ab7d-2944d2239a36",
   "metadata": {},
   "outputs": [
    {
     "ename": "AttributeError",
     "evalue": "'DataFrame' object has no attribute 'A'",
     "output_type": "error",
     "traceback": [
      "\u001b[1;31m---------------------------------------------------------------------------\u001b[0m",
      "\u001b[1;31mAttributeError\u001b[0m                            Traceback (most recent call last)",
      "Cell \u001b[1;32mIn[32], line 1\u001b[0m\n\u001b[1;32m----> 1\u001b[0m X_train_prep \u001b[38;5;241m=\u001b[39m \u001b[43mpreprocessor\u001b[49m\u001b[38;5;241;43m.\u001b[39;49m\u001b[43mfit_transform\u001b[49m\u001b[43m(\u001b[49m\u001b[43mX_train\u001b[49m\u001b[43m)\u001b[49m\u001b[38;5;241;43m.\u001b[39;49m\u001b[43mA\u001b[49m\n\u001b[0;32m      2\u001b[0m X_train_prep\u001b[38;5;241m.\u001b[39mshape\n",
      "File \u001b[1;32m~\\AppData\\Roaming\\Python\\Python311\\site-packages\\pandas\\core\\generic.py:5989\u001b[0m, in \u001b[0;36mNDFrame.__getattr__\u001b[1;34m(self, name)\u001b[0m\n\u001b[0;32m   5982\u001b[0m \u001b[38;5;28;01mif\u001b[39;00m (\n\u001b[0;32m   5983\u001b[0m     name \u001b[38;5;129;01mnot\u001b[39;00m \u001b[38;5;129;01min\u001b[39;00m \u001b[38;5;28mself\u001b[39m\u001b[38;5;241m.\u001b[39m_internal_names_set\n\u001b[0;32m   5984\u001b[0m     \u001b[38;5;129;01mand\u001b[39;00m name \u001b[38;5;129;01mnot\u001b[39;00m \u001b[38;5;129;01min\u001b[39;00m \u001b[38;5;28mself\u001b[39m\u001b[38;5;241m.\u001b[39m_metadata\n\u001b[0;32m   5985\u001b[0m     \u001b[38;5;129;01mand\u001b[39;00m name \u001b[38;5;129;01mnot\u001b[39;00m \u001b[38;5;129;01min\u001b[39;00m \u001b[38;5;28mself\u001b[39m\u001b[38;5;241m.\u001b[39m_accessors\n\u001b[0;32m   5986\u001b[0m     \u001b[38;5;129;01mand\u001b[39;00m \u001b[38;5;28mself\u001b[39m\u001b[38;5;241m.\u001b[39m_info_axis\u001b[38;5;241m.\u001b[39m_can_hold_identifiers_and_holds_name(name)\n\u001b[0;32m   5987\u001b[0m ):\n\u001b[0;32m   5988\u001b[0m     \u001b[38;5;28;01mreturn\u001b[39;00m \u001b[38;5;28mself\u001b[39m[name]\n\u001b[1;32m-> 5989\u001b[0m \u001b[38;5;28;01mreturn\u001b[39;00m \u001b[38;5;28;43mobject\u001b[39;49m\u001b[38;5;241;43m.\u001b[39;49m\u001b[38;5;21;43m__getattribute__\u001b[39;49m\u001b[43m(\u001b[49m\u001b[38;5;28;43mself\u001b[39;49m\u001b[43m,\u001b[49m\u001b[43m \u001b[49m\u001b[43mname\u001b[49m\u001b[43m)\u001b[49m\n",
      "\u001b[1;31mAttributeError\u001b[0m: 'DataFrame' object has no attribute 'A'"
     ]
    }
   ],
   "source": [
    "X_train_prep = preprocessor.fit_transform(X_train).A\n",
    "X_train_prep.shape"
   ]
  },
  {
   "cell_type": "code",
   "execution_count": null,
   "id": "91de8a45-e0c3-4be6-ac3a-3cade254280a",
   "metadata": {},
   "outputs": [],
   "source": [
    "X_train_prep.head()"
   ]
  },
  {
   "cell_type": "code",
   "execution_count": 25,
   "id": "e344f4b7-839d-4170-a3e9-a585b1ef52e2",
   "metadata": {},
   "outputs": [
    {
     "data": {
      "text/plain": [
       "(2793412,)"
      ]
     },
     "execution_count": 25,
     "metadata": {},
     "output_type": "execute_result"
    }
   ],
   "source": [
    "y_train.shape"
   ]
  },
  {
   "cell_type": "code",
   "execution_count": 26,
   "id": "c1396970-a9ad-4084-ae9b-d27c087ccc16",
   "metadata": {},
   "outputs": [],
   "source": [
    "prep_tools_dict['preprocessor'] = preprocessor"
   ]
  },
  {
   "cell_type": "code",
   "execution_count": 27,
   "id": "fca43893-ba2b-4496-9083-d361fab49c07",
   "metadata": {},
   "outputs": [
    {
     "ename": "NameError",
     "evalue": "name 'X_test' is not defined",
     "output_type": "error",
     "traceback": [
      "\u001b[1;31m---------------------------------------------------------------------------\u001b[0m",
      "\u001b[1;31mNameError\u001b[0m                                 Traceback (most recent call last)",
      "Cell \u001b[1;32mIn[27], line 1\u001b[0m\n\u001b[1;32m----> 1\u001b[0m X_test_prep \u001b[38;5;241m=\u001b[39m preprocessor\u001b[38;5;241m.\u001b[39mtransform(\u001b[43mX_test\u001b[49m)\u001b[38;5;241m.\u001b[39mA\n\u001b[0;32m      2\u001b[0m \u001b[38;5;66;03m#X_test_prep = preprocessor.transform(X_test)\u001b[39;00m\n\u001b[0;32m      3\u001b[0m X_test_prep\u001b[38;5;241m.\u001b[39mshape\n",
      "\u001b[1;31mNameError\u001b[0m: name 'X_test' is not defined"
     ]
    }
   ],
   "source": [
    "X_test_prep = preprocessor.transform(X_test).A\n",
    "#X_test_prep = preprocessor.transform(X_test)\n",
    "X_test_prep.shape"
   ]
  },
  {
   "cell_type": "code",
   "execution_count": 44,
   "id": "56ff9516-acde-4c94-be5c-86809f225a62",
   "metadata": {},
   "outputs": [
    {
     "data": {
      "text/plain": [
       "(558683,)"
      ]
     },
     "execution_count": 44,
     "metadata": {},
     "output_type": "execute_result"
    }
   ],
   "source": [
    "y_test.shape"
   ]
  },
  {
   "cell_type": "code",
   "execution_count": 106,
   "id": "3a5ec223-d20c-4079-8dd6-4bae8df96373",
   "metadata": {},
   "outputs": [],
   "source": [
    "class_weights = class_weight.compute_class_weight(\n",
    "    class_weight = \"balanced\",\n",
    "                                        classes = np.unique(y_train),\n",
    "                                        y = y_train  \n",
    "   )\n",
    "class_weights = dict(enumerate(class_weights))"
   ]
  },
  {
   "cell_type": "code",
   "execution_count": 29,
   "id": "83bf669e-b76f-4051-b2b5-777d3eb85812",
   "metadata": {},
   "outputs": [],
   "source": [
    "prep_tools_dict['model_metadata'] = 'Модель: tf, ROC_AUC: 0.6238609122646263'"
   ]
  },
  {
   "cell_type": "code",
   "execution_count": 30,
   "id": "c305a524-a9bb-4dcd-ad16-6ec3560ae3c7",
   "metadata": {},
   "outputs": [],
   "source": [
    "import dill"
   ]
  },
  {
   "cell_type": "code",
   "execution_count": 31,
   "id": "5d86bcd3-c93a-4e06-97c2-5d89ea65ca0d",
   "metadata": {},
   "outputs": [],
   "source": [
    "with open('../pickles/prep_tools_dict_keras.pkl', 'wb') as f:\n",
    "    dill.Pickler(f, recurse=True).dump(prep_tools_dict)"
   ]
  },
  {
   "cell_type": "code",
   "execution_count": 32,
   "id": "1388f74d-7fff-4013-b169-cff465a97ba1",
   "metadata": {},
   "outputs": [],
   "source": [
    "from tensorflow.keras.models import Sequential, model_from_yaml\n",
    "from tensorflow.keras.layers import Dense"
   ]
  },
  {
   "cell_type": "code",
   "execution_count": 33,
   "id": "e2537a14-6049-4c58-b08b-6b0496522aab",
   "metadata": {},
   "outputs": [],
   "source": [
    "n_features_in_ = 100\n",
    "X_shape_ = X_train_prep.shape\n",
    "n_classes_ = len(y_train.unique())"
   ]
  },
  {
   "cell_type": "code",
   "execution_count": 34,
   "id": "f702ed26-005c-48f9-8029-07fbf297a555",
   "metadata": {},
   "outputs": [],
   "source": [
    "model = Sequential()\n",
    "model.add(Dense(n_features_in_, input_dim=X_shape_[1], activation='relu'))\n",
    "model.add(Dense(128, activation='relu'))\n",
    "#model.add(Dense(n_classes_, activation='softmax'))\n",
    "model.add(Dense(n_classes_, activation='sigmoid'))"
   ]
  },
  {
   "cell_type": "code",
   "execution_count": 35,
   "id": "f20b0063-2be1-4771-bb3c-8b4f0e380fda",
   "metadata": {},
   "outputs": [],
   "source": [
    "loss_fn = tf.keras.losses.SparseCategoricalCrossentropy()"
   ]
  },
  {
   "cell_type": "code",
   "execution_count": 36,
   "id": "72477c5b-7c12-4ca4-bb83-69920c9944e0",
   "metadata": {},
   "outputs": [],
   "source": [
    "model.compile(loss=loss_fn, optimizer=tf.keras.optimizers.Adam(learning_rate=1e-3), metrics=['accuracy']) #tf.keras.metrics.AUC\n",
    "\n",
    "# Fit the model\n",
    "hist = model.fit(X_train_prep, y_train,  epochs=10, batch_size=1024, verbose=0) #validation_data=(X_test, y_test),"
   ]
  },
  {
   "cell_type": "code",
   "execution_count": 56,
   "id": "90b176d5-b85e-47ba-8304-09deac41faf6",
   "metadata": {},
   "outputs": [
    {
     "name": "stdout",
     "output_type": "stream",
     "text": [
      "17459/17459 [==============================] - 16s 882us/step\n"
     ]
    }
   ],
   "source": [
    "predict_prob=model.predict([X_test_prep])\n",
    "\n",
    "predict_classes=np.argmax(predict_prob, axis=1)"
   ]
  },
  {
   "cell_type": "code",
   "execution_count": 57,
   "id": "5f02809e-2d99-472c-947d-4eebd879b136",
   "metadata": {},
   "outputs": [
    {
     "data": {
      "text/plain": [
       "array([[0.8877628 , 0.06889197],\n",
       "       [0.840201  , 0.11178938],\n",
       "       [0.83560264, 0.12438573],\n",
       "       ...,\n",
       "       [0.893299  , 0.06780455],\n",
       "       [0.95242804, 0.02863356],\n",
       "       [0.90292054, 0.08608793]], dtype=float32)"
      ]
     },
     "execution_count": 57,
     "metadata": {},
     "output_type": "execute_result"
    }
   ],
   "source": [
    "predict_prob"
   ]
  },
  {
   "cell_type": "code",
   "execution_count": 28,
   "id": "e56928a5-47d2-404d-918b-55b01948d5ce",
   "metadata": {},
   "outputs": [
    {
     "data": {
      "text/plain": [
       "0.95665477"
      ]
     },
     "execution_count": 28,
     "metadata": {},
     "output_type": "execute_result"
    }
   ],
   "source": [
    "0.8877628 + 0.06889197"
   ]
  },
  {
   "cell_type": "code",
   "execution_count": 58,
   "id": "2699223f-d52f-463d-9e20-ee2cd1f3222f",
   "metadata": {},
   "outputs": [
    {
     "data": {
      "text/plain": [
       "array([0, 0, 0, ..., 0, 0, 0], dtype=int64)"
      ]
     },
     "execution_count": 58,
     "metadata": {},
     "output_type": "execute_result"
    }
   ],
   "source": [
    "predict_classes"
   ]
  },
  {
   "cell_type": "code",
   "execution_count": 59,
   "id": "57add17a-558c-461a-b295-b45ddc81c6d5",
   "metadata": {},
   "outputs": [
    {
     "data": {
      "text/plain": [
       "array([[0.88776278, 0.11223722],\n",
       "       [0.84020102, 0.15979898],\n",
       "       [0.83560264, 0.16439736],\n",
       "       ...,\n",
       "       [0.89329898, 0.10670102],\n",
       "       [0.95242804, 0.04757196],\n",
       "       [0.90292054, 0.09707946]])"
      ]
     },
     "execution_count": 59,
     "metadata": {},
     "output_type": "execute_result"
    }
   ],
   "source": [
    "def get_predict_prob(number):\n",
    "  return [number[0],1-number[0]]\n",
    "\n",
    "y_prob = np.array(list(map(get_predict_prob, predict_prob)))\n",
    "y_prob"
   ]
  },
  {
   "cell_type": "code",
   "execution_count": 146,
   "id": "120f4436-90e6-4614-bc00-ca0a676a6928",
   "metadata": {},
   "outputs": [
    {
     "name": "stdout",
     "output_type": "stream",
     "text": [
      "Модель: Sequential\n",
      "ROC_AUC: 0.6238609122646263\n",
      "\n"
     ]
    }
   ],
   "source": [
    "roc_auc_test = roc_auc_score(y_test, predict_prob[:, 1])\n",
    "        \n",
    "print(f'Модель: {type(model).__name__}\\nROC_AUC: {roc_auc_test}\\n')"
   ]
  },
  {
   "cell_type": "code",
   "execution_count": 161,
   "id": "3ab9a585-302f-48a3-aadf-a69ba679c3ff",
   "metadata": {},
   "outputs": [
    {
     "name": "stdout",
     "output_type": "stream",
     "text": [
      "Classification Report:\n",
      "               precision    recall  f1-score   support\n",
      "\n",
      "           0       0.97      1.00      0.98    542785\n",
      "           1       0.08      0.01      0.01     15898\n",
      "\n",
      "    accuracy                           0.97    558683\n",
      "   macro avg       0.53      0.50      0.50    558683\n",
      "weighted avg       0.95      0.97      0.96    558683\n",
      "\n"
     ]
    }
   ],
   "source": [
    "print(\"Classification Report:\\n\", classification_report(y_test, predict_classes))"
   ]
  },
  {
   "cell_type": "code",
   "execution_count": 128,
   "id": "8e8965ab-3239-4100-95a0-ff101704281c",
   "metadata": {},
   "outputs": [
    {
     "name": "stdout",
     "output_type": "stream",
     "text": [
      "{'loss': [0.12604697048664093, 0.1240595206618309, 0.12347030639648438, 0.12287656962871552, 0.1222110167145729, 0.12154526263475418, 0.12081686407327652, 0.12010344862937927, 0.1193896234035492, 0.11861502379179001, 0.11794382333755493, 0.11728426814079285, 0.11669963598251343, 0.11613663285970688, 0.11565133929252625, 0.11512080579996109, 0.11470918357372284, 0.11424527317285538, 0.11387033015489578, 0.11345171183347702, 0.11313983798027039, 0.1128397285938263, 0.11245504021644592, 0.11216623336076736, 0.11188262701034546, 0.11159098148345947, 0.11135032773017883, 0.1110314279794693, 0.11079353094100952, 0.11059063673019409, 0.11031700670719147, 0.11010891199111938, 0.10992804169654846, 0.10966244339942932, 0.10946425795555115, 0.10928695648908615, 0.10909567028284073, 0.1089644804596901, 0.1087542399764061, 0.10860811918973923, 0.10838786512613297, 0.10825825482606888, 0.10816805064678192, 0.10802344977855682, 0.10783310979604721, 0.10770755261182785, 0.10758669674396515, 0.10744882375001907, 0.10737732797861099, 0.10722725838422775], 'accuracy': [0.9712541699409485, 0.9715452194213867, 0.9715566635131836, 0.971563458442688, 0.9715631008148193, 0.9715681076049805, 0.9715731143951416, 0.9715884923934937, 0.971608579158783, 0.9716712236404419, 0.9717538952827454, 0.9718204736709595, 0.9719089269638062, 0.9719626307487488, 0.972043514251709, 0.9721383452415466, 0.9721866846084595, 0.9722697734832764, 0.9723302721977234, 0.9724047183990479, 0.972460925579071, 0.9724881052970886, 0.9725729823112488, 0.9726302623748779, 0.9726574420928955, 0.9727204442024231, 0.9727727174758911, 0.9728217720985413, 0.9728797674179077, 0.972906231880188, 0.9729463458061218, 0.9729882478713989, 0.9730240106582642, 0.9731067419052124, 0.9731045961380005, 0.9731575846672058, 0.973170816898346, 0.9732008576393127, 0.9732495546340942, 0.9732570648193359, 0.9733114838600159, 0.9733365774154663, 0.9733465909957886, 0.9733612537384033, 0.9734364151954651, 0.9734449982643127, 0.9734636545181274, 0.9735012054443359, 0.9734822511672974, 0.9735302329063416]}\n"
     ]
    }
   ],
   "source": [
    "print(hist.history) "
   ]
  },
  {
   "cell_type": "code",
   "execution_count": 129,
   "id": "6bff6f53-82a9-4081-92b2-c91f0c1f45b4",
   "metadata": {},
   "outputs": [
    {
     "name": "stdout",
     "output_type": "stream",
     "text": [
      "0.9735302329063416\n"
     ]
    }
   ],
   "source": [
    "best_score = max(hist.history['accuracy'])\n",
    "\n",
    "print(best_score)"
   ]
  },
  {
   "cell_type": "code",
   "execution_count": 37,
   "id": "fd17383a-e83c-468f-a8c4-482f91d9954f",
   "metadata": {},
   "outputs": [
    {
     "name": "stdout",
     "output_type": "stream",
     "text": [
      "Saved model to disk\n"
     ]
    }
   ],
   "source": [
    "# serialize model to JSON\n",
    "model_json = model.to_json()\n",
    "with open(\"../pickles/model.json\", \"w\") as json_file:\n",
    "    json_file.write(model_json)\n",
    "# serialize weights to HDF5\n",
    "model.save_weights(\"../pickles/model.h5\")\n",
    "print(\"Saved model to disk\")"
   ]
  },
  {
   "cell_type": "code",
   "execution_count": null,
   "id": "c65dda82-e9a5-4d6b-a589-64eda719744f",
   "metadata": {},
   "outputs": [],
   "source": []
  }
 ],
 "metadata": {
  "kernelspec": {
   "display_name": "Python 3 (ipykernel)",
   "language": "python",
   "name": "python3"
  },
  "language_info": {
   "codemirror_mode": {
    "name": "ipython",
    "version": 3
   },
   "file_extension": ".py",
   "mimetype": "text/x-python",
   "name": "python",
   "nbconvert_exporter": "python",
   "pygments_lexer": "ipython3",
   "version": "3.11.5"
  }
 },
 "nbformat": 4,
 "nbformat_minor": 5
}
