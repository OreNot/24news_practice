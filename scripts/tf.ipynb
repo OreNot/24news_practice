{
 "cells": [
  {
   "cell_type": "code",
   "execution_count": 3,
   "id": "ad208db8-e8c3-4c7f-a622-08ba872a1702",
   "metadata": {},
   "outputs": [
    {
     "name": "stdout",
     "output_type": "stream",
     "text": [
      "TensorFlow version: 2.12.0\n",
      "[name: \"/device:CPU:0\"\n",
      "device_type: \"CPU\"\n",
      "memory_limit: 268435456\n",
      "locality {\n",
      "}\n",
      "incarnation: 14291168666452224932\n",
      "xla_global_id: -1\n",
      "]\n"
     ]
    }
   ],
   "source": [
    "import numpy as np\n",
    "import pandas as pd\n",
    "import matplotlib as plt\n",
    "from sklearn.model_selection import train_test_split, KFold, cross_val_score\n",
    "from sklearn.utils import class_weight\n",
    "import tensorflow as tf\n",
    "from scikeras.wrappers import KerasClassifier\n",
    "from sklearn.model_selection import GridSearchCV\n",
    "from sklearn.metrics import accuracy_score, roc_auc_score, confusion_matrix \n",
    "print(\"TensorFlow version:\", tf.__version__)\n",
    "from tensorflow.python.client import device_lib\n",
    "print(device_lib.list_local_devices())\n",
    "from sklearn.preprocessing import OneHotEncoder\n",
    "from sklearn.pipeline import Pipeline\n",
    "from sklearn.preprocessing import FunctionTransformer\n",
    "from datetime import datetime\n",
    "from sklearn.metrics import accuracy_score\n",
    "import gc\n",
    "import warnings\n",
    "warnings.filterwarnings('ignore')"
   ]
  },
  {
   "cell_type": "code",
   "execution_count": 4,
   "id": "ff1c8745-2f2a-41da-acef-53386376b420",
   "metadata": {},
   "outputs": [],
   "source": [
    "RANDOM_SEED = 42"
   ]
  },
  {
   "cell_type": "code",
   "execution_count": 5,
   "id": "33874bcf-fc5e-4cb7-b64c-73e75065431c",
   "metadata": {},
   "outputs": [
    {
     "data": {
      "text/plain": [
       "False"
      ]
     },
     "execution_count": 5,
     "metadata": {},
     "output_type": "execute_result"
    }
   ],
   "source": [
    "tf.test.is_built_with_cuda()"
   ]
  },
  {
   "cell_type": "code",
   "execution_count": 6,
   "id": "4676de1c-5a2b-4aba-bb65-4a551067c429",
   "metadata": {},
   "outputs": [],
   "source": [
    "def nan_click_viewed__deleting(X, y = None):\n",
    "    X = X[X['click'].isna() == False]\n",
    "    X = X[X['view'] != 0]\n",
    "    return X "
   ]
  },
  {
   "cell_type": "code",
   "execution_count": 7,
   "id": "df2652bd-3d52-4d70-818f-27828aa11c79",
   "metadata": {},
   "outputs": [],
   "source": [
    "def dub_dropping(X, y = None):\n",
    "    X =  X.drop_duplicates()                              \n",
    "    return X"
   ]
  },
  {
   "cell_type": "code",
   "execution_count": 8,
   "id": "4584af31-4a49-4663-8080-a040963bf8de",
   "metadata": {},
   "outputs": [],
   "source": [
    "def nan_filling(X, y = None):\n",
    "    nan_cols = {}\n",
    "    for col in X.columns:\n",
    "        nan_count = X[col].isna().sum()\n",
    "        if nan_count != 0:\n",
    "            per = np.round((nan_count / df.shape[0]) * 100, 2)\n",
    "            nan_cols[col] = per\n",
    "                       \n",
    "    for col, per in nan_cols.items():\n",
    "        if per < 5:\n",
    "            X = X[X[col].isna() == False]\n",
    "        else:\n",
    "            X[col] = X[col].fillna('unknown')\n",
    "            \n",
    "    return X"
   ]
  },
  {
   "cell_type": "code",
   "execution_count": 9,
   "id": "eef37488-3993-47a3-a2aa-275cc0cab6f8",
   "metadata": {},
   "outputs": [
    {
     "data": {
      "text/plain": [
       "(5889167, 39)"
      ]
     },
     "execution_count": 9,
     "metadata": {},
     "output_type": "execute_result"
    }
   ],
   "source": [
    "df_clickhouse = pd.read_csv('../internship/clickhouse.csv')\n",
    "df_clickhouse.shape"
   ]
  },
  {
   "cell_type": "code",
   "execution_count": 10,
   "id": "84011b2b-363f-4877-8503-70068f827e51",
   "metadata": {},
   "outputs": [
    {
     "data": {
      "text/plain": [
       "(132, 15)"
      ]
     },
     "execution_count": 10,
     "metadata": {},
     "output_type": "execute_result"
    }
   ],
   "source": [
    "df_creatives = pd.read_csv('../internship/creatives.csv')\n",
    "df_creatives.shape"
   ]
  },
  {
   "cell_type": "code",
   "execution_count": 11,
   "id": "75aad077-1a96-4bdd-b22a-3bab8e2e8786",
   "metadata": {},
   "outputs": [],
   "source": [
    "df_creatives = df_creatives.rename(columns={'id': 'creative_id'})"
   ]
  },
  {
   "cell_type": "code",
   "execution_count": 12,
   "id": "304d1abb-97b5-4cd3-971a-47ea2afa9e29",
   "metadata": {},
   "outputs": [
    {
     "data": {
      "text/plain": [
       "(5889167, 53)"
      ]
     },
     "execution_count": 12,
     "metadata": {},
     "output_type": "execute_result"
    }
   ],
   "source": [
    "df = pd.merge(df_clickhouse, df_creatives, on=\"creative_id\")\n",
    "df.shape"
   ]
  },
  {
   "cell_type": "code",
   "execution_count": 13,
   "id": "67c684af-8b03-460a-9a61-8a857f76b0a0",
   "metadata": {},
   "outputs": [
    {
     "data": {
      "text/plain": [
       "63"
      ]
     },
     "execution_count": 13,
     "metadata": {},
     "output_type": "execute_result"
    }
   ],
   "source": [
    "del df_clickhouse\n",
    "del df_creatives\n",
    "gc.collect()"
   ]
  },
  {
   "cell_type": "code",
   "execution_count": 14,
   "id": "0b69ce2e-4cd1-40ce-bbec-0c6a27fa9d2a",
   "metadata": {},
   "outputs": [],
   "source": [
    "df = nan_filling(dub_dropping(nan_click_viewed__deleting(df)))"
   ]
  },
  {
   "cell_type": "code",
   "execution_count": 15,
   "id": "95521c93-ba8c-4004-90ce-fdbfa201635a",
   "metadata": {},
   "outputs": [],
   "source": [
    "df_train, df_test = train_test_split(df, stratify = df['click'], shuffle=True, test_size=0.2, random_state=RANDOM_SEED)\n",
    "\n",
    "X_train = df_train.drop('click', axis = 1)\n",
    "y_train = df_train['click']\n",
    "\n",
    "X_test = df_test.drop('click', axis = 1)\n",
    "y_test = df_test['click']"
   ]
  },
  {
   "cell_type": "code",
   "execution_count": 200,
   "id": "0eaecaed-c83c-442e-9d00-aa3d4ba18ffa",
   "metadata": {},
   "outputs": [],
   "source": [
    "# X = df.drop('click', axis = 1)\n",
    "# y = df['click']"
   ]
  },
  {
   "cell_type": "code",
   "execution_count": 16,
   "id": "8dd76a23-0f9b-4cd2-a5ac-c764d2d1e4b8",
   "metadata": {},
   "outputs": [
    {
     "data": {
      "text/plain": [
       "0"
      ]
     },
     "execution_count": 16,
     "metadata": {},
     "output_type": "execute_result"
    }
   ],
   "source": [
    "del df\n",
    "del df_train\n",
    "del df_test\n",
    "gc.collect()"
   ]
  },
  {
   "cell_type": "code",
   "execution_count": 17,
   "id": "cac8e74f-c24e-4064-bdf6-0f076acde688",
   "metadata": {},
   "outputs": [],
   "source": [
    "def column_deleting(X, y = None):\n",
    "    columns_for_drop = ['auction_date_time', 'impression_hash', 'ssp', 'is_pay',  'pay_price', 'auction_id', 'impression_id', 'bid_id', 'auction_type', 'bid_floor', 'bid_price', 'is_win', 'view', 'place_number', 'ssp_user_id', 'campaign_id_x', 'enter_utm_campaign',  'stream_id_x', 'link_id', 'format', 'ip_v4', 'ip_v6', 'tag_id', 'iab_category_x', 'ab_test', 'campaign_id_y', 'user_id', 'stream_id_y', 'is_deleted', 'image', 'created_at', 'updated_at']\n",
    "    X = X.drop(columns_for_drop, axis = 1)\n",
    "    X.reset_index(drop=True, inplace=True)\n",
    "    return X"
   ]
  },
  {
   "cell_type": "code",
   "execution_count": 18,
   "id": "317ed4a4-0b79-44a0-8130-c9a09112cfb3",
   "metadata": {},
   "outputs": [],
   "source": [
    "def feature_reduction(X, y = None):\n",
    "    X['browser'] = X['browser'].apply(lambda x : 'Chrome' if x == 'Google' else x)\n",
    "    X['browser'] = X['browser'].apply(lambda x : 'Yandex Browser' if x == 'Yandex' else x)\n",
    "    X.reset_index(drop=True, inplace=True)\n",
    "    return X"
   ]
  },
  {
   "cell_type": "code",
   "execution_count": 19,
   "id": "ac96dde8-7cb1-408c-981c-94d99c6ebe4f",
   "metadata": {},
   "outputs": [],
   "source": [
    "def date_time_col_transformation(X, y = None):\n",
    "    X['req_date_time'] = pd.to_datetime(X['event_date_time'], format='%Y-%m-%d %H:%M:%S')\n",
    "    X['day'] =  X['req_date_time'].dt.day\n",
    "    X['month'] =  X['req_date_time'].dt.month\n",
    "    X['year'] =  X['req_date_time'].dt.year\n",
    "    X['hour'] =  X['req_date_time'].dt.hour\n",
    "    X['day_of_week'] = X['event_date_time'].apply(lambda x : datetime.strptime(x, \"%Y-%m-%d %H:%M:%S\").weekday())\n",
    "    X['is_holyday'] = X['day_of_week'].apply(lambda x : 1 if x in [5 , 6] else 0)\n",
    "    X['is_friday'] = X['day_of_week'].apply(lambda x : 1 if x == 4 else 0)\n",
    "    X['is_monday'] = X['day_of_week'].apply(lambda x : 1 if x == 0 else 0)\n",
    "    X['day_part'] = X['hour'].apply(lambda x : 'Night' if x >= 22 and x < 5 else ('Morning' if x >= 5 and x < 12 else ('Day' if x >= 12 and x < 17 else 'Evening')))\n",
    "    X['year_part'] = X['month'].apply(lambda x : 'Winter' if x in [12, 1, 2] else ('Spring' if x in [3, 4, 5] else ('Summer' if x in [6, 7, 8] else 'Autumn')))\n",
    "    X = X.drop(['event_date_time', 'req_date_time', 'year'], axis = 1)\n",
    "    X.reset_index(drop=True, inplace=True)\n",
    "    return X"
   ]
  },
  {
   "cell_type": "code",
   "execution_count": 25,
   "id": "040c2ffc-954a-419a-b1ef-c7175d62beb6",
   "metadata": {},
   "outputs": [],
   "source": [
    "def type_transformation(X, y = None):\n",
    "    X['loss_reason'] = X['loss_reason'].astype('int8')\n",
    "    X['device'] = X['device'].astype('int8')\n",
    "    X['day'] = X['day'].astype('int8')\n",
    "    X['month'] = X['month'].astype('int8')\n",
    "    X['hour'] = X['hour'].astype('int8')\n",
    "    X['day_of_week'] = X['day_of_week'].astype('int8')\n",
    "    X['is_holyday'] = X['is_holyday'].astype('int8')\n",
    "    X['is_friday'] = X['is_friday'].astype('int8')\n",
    "    X['is_monday'] = X['is_monday'].astype('int8')\n",
    "    X.reset_index(drop=True, inplace=True)\n",
    "    return X"
   ]
  },
  {
   "cell_type": "code",
   "execution_count": 32,
   "id": "a727fc45-288b-4f5c-9ff5-e9e465ddef5c",
   "metadata": {},
   "outputs": [],
   "source": [
    "ohe = OneHotEncoder(sparse = False, max_categories = 50, handle_unknown = 'ignore')\n",
    "#ohe = OneHotEncoder(sparse = True, handle_unknown = 'ignore')"
   ]
  },
  {
   "cell_type": "code",
   "execution_count": 33,
   "id": "6c00cf19-99f3-43b9-9c5c-aa1b4f6adcac",
   "metadata": {},
   "outputs": [],
   "source": [
    "def cat_encoding(X, y = None):\n",
    "    cat_cols = X.columns\n",
    "    ohe.fit(X[cat_cols])\n",
    "    ft = ohe.transform(X[cat_cols])\n",
    "    df_ft = pd.DataFrame(ft, columns=ohe.get_feature_names_out())\n",
    "    X.reset_index(drop=True, inplace=True)\n",
    "    df_ft.reset_index(drop=True, inplace=True)\n",
    "    df_ft = df_ft.astype('int8')\n",
    "    X = pd.concat([X, df_ft], axis=1)\n",
    "    X.drop(cat_cols, inplace = True, axis = 1)\n",
    "    \n",
    "    return X"
   ]
  },
  {
   "cell_type": "code",
   "execution_count": 21,
   "id": "04a853d7-5f39-49e5-aea4-8b5dd25f1607",
   "metadata": {},
   "outputs": [],
   "source": [
    "def cat_encoding(X, y = None):\n",
    "    cat_cols = X.columns\n",
    "    ohe.fit(X[cat_cols])\n",
    "    ft = ohe.transform(X[cat_cols])\n",
    "    # df_ft = pd.DataFrame(ft, columns=ohe.get_feature_names_out())\n",
    "    # X.reset_index(drop=True, inplace=True)\n",
    "    # df_ft.reset_index(drop=True, inplace=True)\n",
    "    # df_ft = df_ft.astype('int8')\n",
    "    # X = pd.concat([X, df_ft], axis=1)\n",
    "    # X.drop(cat_cols, inplace = True, axis = 1)\n",
    "    X = ft\n",
    "    return X"
   ]
  },
  {
   "cell_type": "code",
   "execution_count": 34,
   "id": "51296559-a9b0-404d-8ac4-df2c68b08da4",
   "metadata": {},
   "outputs": [],
   "source": [
    "preprocessor = Pipeline(\n",
    "    steps=\n",
    "    [\n",
    "        ('column_deleting', FunctionTransformer(func=column_deleting)),\n",
    "        ('feature_reduction', FunctionTransformer(func=feature_reduction)),\n",
    "        ('date_time_col_transformation', FunctionTransformer(func=date_time_col_transformation)),\n",
    "        ('type_transformation', FunctionTransformer(func=type_transformation)),\n",
    "        ('cat_encoding', FunctionTransformer(func=cat_encoding)),\n",
    "        \n",
    "    ]\n",
    ")"
   ]
  },
  {
   "cell_type": "code",
   "execution_count": 38,
   "id": "9593e00a-a258-4f1e-88e3-e91b1f79b58e",
   "metadata": {},
   "outputs": [],
   "source": [
    "import pickle"
   ]
  },
  {
   "cell_type": "code",
   "execution_count": 210,
   "id": "9723f8f4-0ca8-40ee-892f-cae1dd74ab6d",
   "metadata": {},
   "outputs": [],
   "source": [
    "# X = preprocessor.fit_transform(X, y)\n",
    "# train_cols = X.columns\n",
    "# train_cols_dict['train_cols'] = train_cols"
   ]
  },
  {
   "cell_type": "code",
   "execution_count": 211,
   "id": "248ef4b5-bcb9-44cf-a4f3-a6cfb954b433",
   "metadata": {},
   "outputs": [],
   "source": [
    "# train_cols_dict['train_cols']"
   ]
  },
  {
   "cell_type": "code",
   "execution_count": 212,
   "id": "3c561694-0a8b-4dd2-8707-a5b5953ea0b1",
   "metadata": {},
   "outputs": [],
   "source": [
    "# with open('train_cols_dict.pkl', 'wb') as file:\n",
    "#     pickle.dump(train_cols_dict, file)"
   ]
  },
  {
   "cell_type": "code",
   "execution_count": 41,
   "id": "4d0900fd-653f-4e8a-8df1-db9604ef3649",
   "metadata": {},
   "outputs": [
    {
     "data": {
      "text/plain": [
       "Index(['loss_reason_0', 'loss_reason_1', 'loss_reason_2', 'loss_reason_4',\n",
       "       'loss_reason_5', 'loss_reason_6', 'loss_reason_9', 'loss_reason_10',\n",
       "       'loss_reason_11', 'loss_reason_12',\n",
       "       ...\n",
       "       'is_holyday_0', 'is_holyday_1', 'is_friday_0', 'is_friday_1',\n",
       "       'is_monday_0', 'is_monday_1', 'day_part_Day', 'day_part_Evening',\n",
       "       'day_part_Morning', 'year_part_Winter'],\n",
       "      dtype='object', length=380)"
      ]
     },
     "execution_count": 41,
     "metadata": {},
     "output_type": "execute_result"
    }
   ],
   "source": [
    "with open('train_cols_dict.pkl', 'rb') as f:\n",
    "        train_cols_dict = pickle.load(f)\n",
    "\n",
    "train_cols = train_cols_dict['train_cols']\n",
    "train_cols"
   ]
  },
  {
   "cell_type": "code",
   "execution_count": 46,
   "id": "285086c5-1ec2-40e1-94fd-9acb44b7e31b",
   "metadata": {},
   "outputs": [
    {
     "data": {
      "text/plain": [
       "(2392377, 380)"
      ]
     },
     "execution_count": 46,
     "metadata": {},
     "output_type": "execute_result"
    }
   ],
   "source": [
    "X_train_prep = preprocessor.fit_transform(X_train, y_train)\n",
    "X_train_prep.shape"
   ]
  },
  {
   "cell_type": "code",
   "execution_count": 43,
   "id": "861c3425-376d-4814-9adc-d1496c3caeaf",
   "metadata": {},
   "outputs": [
    {
     "data": {
      "text/plain": [
       "(2392377, 381)"
      ]
     },
     "execution_count": 43,
     "metadata": {},
     "output_type": "execute_result"
    }
   ],
   "source": [
    "# X_train_prep_ = pd.DataFrame(columns=train_cols)\n",
    "# X_train_prep_[X_train_prep.columns] = X_train_prep\n",
    "# X_train_prep_ = X_train_prep_.fillna(0)\n",
    "# X_train_prep_.shape"
   ]
  },
  {
   "cell_type": "code",
   "execution_count": 47,
   "id": "0132e99f-9410-45a3-a052-259f09ed65ce",
   "metadata": {},
   "outputs": [
    {
     "data": {
      "text/plain": [
       "(2392377,)"
      ]
     },
     "execution_count": 47,
     "metadata": {},
     "output_type": "execute_result"
    }
   ],
   "source": [
    "y_train.shape"
   ]
  },
  {
   "cell_type": "code",
   "execution_count": 45,
   "id": "45a3f43e-f291-42a4-9417-1dc594805c57",
   "metadata": {},
   "outputs": [
    {
     "data": {
      "text/plain": [
       "(2392377, 380)"
      ]
     },
     "execution_count": 45,
     "metadata": {},
     "output_type": "execute_result"
    }
   ],
   "source": [
    "# X_train_prep_.drop('enter_utm_term_30347_27771', axis = 1, inplace=True)\n",
    "# X_train_prep_.shape"
   ]
  },
  {
   "cell_type": "code",
   "execution_count": 48,
   "id": "a0672095-88b3-4606-ac3c-dbef8bcfe31f",
   "metadata": {},
   "outputs": [
    {
     "data": {
      "text/plain": [
       "(598095, 364)"
      ]
     },
     "execution_count": 48,
     "metadata": {},
     "output_type": "execute_result"
    }
   ],
   "source": [
    "X_test_prep = preprocessor.fit_transform(X_test, y_test)\n",
    "X_test_prep.shape"
   ]
  },
  {
   "cell_type": "code",
   "execution_count": 49,
   "id": "d5f55ac5-6588-491c-8d8f-4203aed564e1",
   "metadata": {},
   "outputs": [
    {
     "data": {
      "text/plain": [
       "(598095,)"
      ]
     },
     "execution_count": 49,
     "metadata": {},
     "output_type": "execute_result"
    }
   ],
   "source": [
    "y_test.shape"
   ]
  },
  {
   "cell_type": "code",
   "execution_count": 50,
   "id": "7dfb06f8-a56a-4b3f-a95f-853a89c7dc59",
   "metadata": {},
   "outputs": [
    {
     "data": {
      "text/plain": [
       "(598095, 380)"
      ]
     },
     "execution_count": 50,
     "metadata": {},
     "output_type": "execute_result"
    }
   ],
   "source": [
    "X_test_prep_ = pd.DataFrame(columns=train_cols)\n",
    "X_test_prep_[X_test_prep.columns] = X_test_prep\n",
    "X_test_prep_ = X_test_prep_.fillna(0)\n",
    "X_test_prep_.shape"
   ]
  },
  {
   "cell_type": "code",
   "execution_count": 81,
   "id": "b66a34b1-48e4-4ab9-9cf0-36bac973c0aa",
   "metadata": {},
   "outputs": [],
   "source": [
    "X_train_tensor = tf.convert_to_tensor(X_test_prep)\n",
    "y_train_tensor = tf.convert_to_tensor(y_train_)\n",
    "\n",
    "X_test_tensor = tf.convert_to_tensor(X_test_prep_)\n",
    "y_test_tensor = tf.convert_to_tensor(y_test)"
   ]
  },
  {
   "cell_type": "code",
   "execution_count": 78,
   "id": "3a5ec223-d20c-4079-8dd6-4bae8df96373",
   "metadata": {},
   "outputs": [],
   "source": [
    "import keras"
   ]
  },
  {
   "cell_type": "code",
   "execution_count": 79,
   "id": "a14413d0-af58-4ccb-a727-5cb0984962b7",
   "metadata": {},
   "outputs": [],
   "source": [
    "y_train_ = keras.utils.to_categorical(y_train, len(y_train.unique()))\n",
    "y_test_ = keras.utils.to_categorical(y_test, len(y_test.unique()))"
   ]
  },
  {
   "cell_type": "code",
   "execution_count": 67,
   "id": "2d17e320-3a22-4669-a47d-fef348ba7f47",
   "metadata": {},
   "outputs": [
    {
     "data": {
      "text/plain": [
       "TensorShape([598095, 364])"
      ]
     },
     "execution_count": 67,
     "metadata": {},
     "output_type": "execute_result"
    }
   ],
   "source": [
    "X_train_tensor.shape"
   ]
  },
  {
   "cell_type": "code",
   "execution_count": 82,
   "id": "7fd3bb72-e88c-4cee-9717-82780af08b93",
   "metadata": {},
   "outputs": [
    {
     "data": {
      "text/plain": [
       "TensorShape([2392377, 2])"
      ]
     },
     "execution_count": 82,
     "metadata": {},
     "output_type": "execute_result"
    }
   ],
   "source": [
    "y_train_tensor.shape"
   ]
  },
  {
   "cell_type": "code",
   "execution_count": 68,
   "id": "3cd5b6f8-33bb-4c80-b0a3-c7b7546d7448",
   "metadata": {},
   "outputs": [
    {
     "data": {
      "text/plain": [
       "TensorShape([598095, 380])"
      ]
     },
     "execution_count": 68,
     "metadata": {},
     "output_type": "execute_result"
    }
   ],
   "source": [
    "X_test_tensor.shape"
   ]
  },
  {
   "cell_type": "code",
   "execution_count": 64,
   "id": "9045b767-9233-49b0-962b-fae877dbbeeb",
   "metadata": {},
   "outputs": [],
   "source": [
    "kf = KFold(n_splits = 2, shuffle = True, random_state = RANDOM_SEED)"
   ]
  },
  {
   "cell_type": "code",
   "execution_count": 70,
   "id": "a64376f6-4195-4d53-8e4b-64cb3b12d9f6",
   "metadata": {},
   "outputs": [],
   "source": [
    "model = tf.keras.models.Sequential([\n",
    "  tf.keras.layers.Dense(100, input_dim = X_train_tensor.shape[1], activation='relu'),\n",
    "  tf.keras.layers.Dense(128, activation='relu'),\n",
    "  tf.keras.layers.Dropout(0.2),\n",
    "  tf.keras.layers.Dense(len(y_train.unique()))\n",
    "])"
   ]
  },
  {
   "cell_type": "code",
   "execution_count": 71,
   "id": "265a8450-c7d0-4126-a0b7-1f02dd6bc969",
   "metadata": {},
   "outputs": [],
   "source": [
    "loss_fn = tf.keras.losses.BinaryCrossentropy()"
   ]
  },
  {
   "cell_type": "code",
   "execution_count": null,
   "id": "65ec6e95-1b3c-462e-94f9-3f44fa8ffa93",
   "metadata": {},
   "outputs": [],
   "source": [
    "class_weights = class_weight.compute_class_weight(\n",
    "    class_weight = \"balanced\",\n",
    "                                        classes = np.unique(y_train),\n",
    "                                        y = y_train  \n",
    "   )\n",
    "class_weights = dict(enumerate(class_weights))"
   ]
  },
  {
   "cell_type": "code",
   "execution_count": 72,
   "id": "09b045a8-fc0c-436c-b002-a2219c9d608c",
   "metadata": {},
   "outputs": [],
   "source": [
    "model.compile(optimizer='adam',\n",
    "              loss=loss_fn,\n",
    "              metrics=['accuracy']\n",
    "             # metrics=[tf.keras.metrics.BinaryCrossentropy()]\n",
    "              #metrics = [tf.keras.metrics.AUC()]\n",
    "             )"
   ]
  },
  {
   "cell_type": "code",
   "execution_count": 75,
   "id": "62f485d8-4f86-4180-9440-fcaa7bc86163",
   "metadata": {},
   "outputs": [
    {
     "ename": "ValueError",
     "evalue": "Data cardinality is ambiguous:\n  x sizes: 598095\n  y sizes: 2392377\nMake sure all arrays contain the same number of samples.",
     "output_type": "error",
     "traceback": [
      "\u001b[1;31m---------------------------------------------------------------------------\u001b[0m",
      "\u001b[1;31mValueError\u001b[0m                                Traceback (most recent call last)",
      "Cell \u001b[1;32mIn[75], line 1\u001b[0m\n\u001b[1;32m----> 1\u001b[0m \u001b[43mmodel\u001b[49m\u001b[38;5;241;43m.\u001b[39;49m\u001b[43mfit\u001b[49m\u001b[43m(\u001b[49m\u001b[43mX_train_tensor\u001b[49m\u001b[43m,\u001b[49m\u001b[43m \u001b[49m\u001b[43my_train\u001b[49m\u001b[43m,\u001b[49m\u001b[43m \u001b[49m\u001b[43mbatch_size\u001b[49m\u001b[38;5;241;43m=\u001b[39;49m\u001b[38;5;241;43m1024\u001b[39;49m\u001b[43m,\u001b[49m\u001b[43m \u001b[49m\u001b[43mshuffle\u001b[49m\u001b[38;5;241;43m=\u001b[39;49m\u001b[38;5;28;43;01mTrue\u001b[39;49;00m\u001b[43m,\u001b[49m\u001b[43m \u001b[49m\u001b[43mepochs\u001b[49m\u001b[43m \u001b[49m\u001b[38;5;241;43m=\u001b[39;49m\u001b[43m \u001b[49m\u001b[38;5;241;43m3\u001b[39;49m\u001b[43m)\u001b[49m \u001b[38;5;66;03m#class_weight=class_weights,\u001b[39;00m\n",
      "File \u001b[1;32m~\\AppData\\Roaming\\Python\\Python311\\site-packages\\keras\\utils\\traceback_utils.py:70\u001b[0m, in \u001b[0;36mfilter_traceback.<locals>.error_handler\u001b[1;34m(*args, **kwargs)\u001b[0m\n\u001b[0;32m     67\u001b[0m     filtered_tb \u001b[38;5;241m=\u001b[39m _process_traceback_frames(e\u001b[38;5;241m.\u001b[39m__traceback__)\n\u001b[0;32m     68\u001b[0m     \u001b[38;5;66;03m# To get the full stack trace, call:\u001b[39;00m\n\u001b[0;32m     69\u001b[0m     \u001b[38;5;66;03m# `tf.debugging.disable_traceback_filtering()`\u001b[39;00m\n\u001b[1;32m---> 70\u001b[0m     \u001b[38;5;28;01mraise\u001b[39;00m e\u001b[38;5;241m.\u001b[39mwith_traceback(filtered_tb) \u001b[38;5;28;01mfrom\u001b[39;00m \u001b[38;5;28;01mNone\u001b[39;00m\n\u001b[0;32m     71\u001b[0m \u001b[38;5;28;01mfinally\u001b[39;00m:\n\u001b[0;32m     72\u001b[0m     \u001b[38;5;28;01mdel\u001b[39;00m filtered_tb\n",
      "File \u001b[1;32m~\\AppData\\Roaming\\Python\\Python311\\site-packages\\keras\\engine\\data_adapter.py:1852\u001b[0m, in \u001b[0;36m_check_data_cardinality\u001b[1;34m(data)\u001b[0m\n\u001b[0;32m   1845\u001b[0m     msg \u001b[38;5;241m+\u001b[39m\u001b[38;5;241m=\u001b[39m \u001b[38;5;124m\"\u001b[39m\u001b[38;5;124m  \u001b[39m\u001b[38;5;132;01m{}\u001b[39;00m\u001b[38;5;124m sizes: \u001b[39m\u001b[38;5;132;01m{}\u001b[39;00m\u001b[38;5;130;01m\\n\u001b[39;00m\u001b[38;5;124m\"\u001b[39m\u001b[38;5;241m.\u001b[39mformat(\n\u001b[0;32m   1846\u001b[0m         label,\n\u001b[0;32m   1847\u001b[0m         \u001b[38;5;124m\"\u001b[39m\u001b[38;5;124m, \u001b[39m\u001b[38;5;124m\"\u001b[39m\u001b[38;5;241m.\u001b[39mjoin(\n\u001b[0;32m   1848\u001b[0m             \u001b[38;5;28mstr\u001b[39m(i\u001b[38;5;241m.\u001b[39mshape[\u001b[38;5;241m0\u001b[39m]) \u001b[38;5;28;01mfor\u001b[39;00m i \u001b[38;5;129;01min\u001b[39;00m tf\u001b[38;5;241m.\u001b[39mnest\u001b[38;5;241m.\u001b[39mflatten(single_data)\n\u001b[0;32m   1849\u001b[0m         ),\n\u001b[0;32m   1850\u001b[0m     )\n\u001b[0;32m   1851\u001b[0m msg \u001b[38;5;241m+\u001b[39m\u001b[38;5;241m=\u001b[39m \u001b[38;5;124m\"\u001b[39m\u001b[38;5;124mMake sure all arrays contain the same number of samples.\u001b[39m\u001b[38;5;124m\"\u001b[39m\n\u001b[1;32m-> 1852\u001b[0m \u001b[38;5;28;01mraise\u001b[39;00m \u001b[38;5;167;01mValueError\u001b[39;00m(msg)\n",
      "\u001b[1;31mValueError\u001b[0m: Data cardinality is ambiguous:\n  x sizes: 598095\n  y sizes: 2392377\nMake sure all arrays contain the same number of samples."
     ]
    }
   ],
   "source": [
    "model.fit(X_train_tensor, y_train, batch_size=1024, shuffle=True, epochs = 3) #class_weight=class_weights,"
   ]
  },
  {
   "cell_type": "code",
   "execution_count": 57,
   "id": "d03b0adc-8fbe-4d8e-ae81-85fb4ae993ca",
   "metadata": {},
   "outputs": [],
   "source": [
    "probability_model = tf.keras.Sequential([\n",
    "  model,\n",
    "  tf.keras.layers.Softmax()\n",
    "])"
   ]
  },
  {
   "cell_type": "code",
   "execution_count": 59,
   "id": "d50b5741-9396-487a-b3bc-fabee7081ca6",
   "metadata": {},
   "outputs": [
    {
     "ename": "AttributeError",
     "evalue": "Exception encountered when calling layer 'sequential' (type Sequential).\n\n'tuple' object has no attribute 'rank'\n\nCall arguments received by layer 'sequential' (type Sequential):\n  • inputs=        loss_reason_0  loss_reason_1  loss_reason_2  loss_reason_4   \n0                   0              0              0              0  \\\n1                   0              0              0              0   \n2                   0              0              1              0   \n3                   0              0              0              0   \n4                   0              0              0              0   \n...               ...            ...            ...            ...   \n598090              0              0              0              0   \n598091              0              1              0              0   \n598092              0              0              1              0   \n598093              0              0              0              0   \n598094              0              0              0              0   \n\n        loss_reason_5  loss_reason_6  loss_reason_9  loss_reason_10   \n0                   0              0              0               0  \\\n1                   0              0              1               0   \n2                   0              0              0               0   \n3                   0              0              0               0   \n4                   0              1              0               0   \n...               ...            ...            ...             ...   \n598090              0              0              0               0   \n598091              0              0              0               0   \n598092              0              0              0               0   \n598093              0              0              0               0   \n598094              0              1              0               0   \n\n        loss_reason_11  loss_reason_12  ...  is_holyday_0  is_holyday_1   \n0                    0               0  ...             0             1  \\\n1                    0               0  ...             0             1   \n2                    0               0  ...             1             0   \n3                    0               0  ...             1             0   \n4                    0               0  ...             1             0   \n...                ...             ...  ...           ...           ...   \n598090               0               0  ...             1             0   \n598091               0               0  ...             1             0   \n598092               0               0  ...             1             0   \n598093               0               0  ...             0             1   \n598094               0               0  ...             1             0   \n\n        is_friday_0  is_friday_1  is_monday_0  is_monday_1  day_part_Day   \n0                 1            0            1            0             0  \\\n1                 1            0            1            0             0   \n2                 1            0            0            1             0   \n3                 1            0            0            1             0   \n4                 1            0            1            0             0   \n...             ...          ...          ...          ...           ...   \n598090            1            0            1            0             0   \n598091            1            0            1            0             1   \n598092            1            0            0            1             0   \n598093            1            0            1            0             1   \n598094            1            0            1            0             0   \n\n        day_part_Evening  day_part_Morning  year_part_Winter  \n0                      1                 0                 1  \n1                      1                 0                 1  \n2                      0                 1                 1  \n3                      1                 0                 1  \n4                      1                 0                 1  \n...                  ...               ...               ...  \n598090                 1                 0                 1  \n598091                 0                 0                 1  \n598092                 0                 1                 1  \n598093                 0                 0                 1  \n598094                 1                 0                 1  \n\n[598095 rows x 380 columns]\n  • training=None\n  • mask=None",
     "output_type": "error",
     "traceback": [
      "\u001b[1;31m---------------------------------------------------------------------------\u001b[0m",
      "\u001b[1;31mAttributeError\u001b[0m                            Traceback (most recent call last)",
      "Cell \u001b[1;32mIn[59], line 1\u001b[0m\n\u001b[1;32m----> 1\u001b[0m predictions \u001b[38;5;241m=\u001b[39m \u001b[43mmodel\u001b[49m\u001b[43m(\u001b[49m\u001b[43mX_test_prep_\u001b[49m\u001b[43m)\u001b[49m\n\u001b[0;32m      2\u001b[0m predictions\n",
      "File \u001b[1;32m~\\AppData\\Roaming\\Python\\Python311\\site-packages\\keras\\utils\\traceback_utils.py:70\u001b[0m, in \u001b[0;36mfilter_traceback.<locals>.error_handler\u001b[1;34m(*args, **kwargs)\u001b[0m\n\u001b[0;32m     67\u001b[0m     filtered_tb \u001b[38;5;241m=\u001b[39m _process_traceback_frames(e\u001b[38;5;241m.\u001b[39m__traceback__)\n\u001b[0;32m     68\u001b[0m     \u001b[38;5;66;03m# To get the full stack trace, call:\u001b[39;00m\n\u001b[0;32m     69\u001b[0m     \u001b[38;5;66;03m# `tf.debugging.disable_traceback_filtering()`\u001b[39;00m\n\u001b[1;32m---> 70\u001b[0m     \u001b[38;5;28;01mraise\u001b[39;00m e\u001b[38;5;241m.\u001b[39mwith_traceback(filtered_tb) \u001b[38;5;28;01mfrom\u001b[39;00m \u001b[38;5;28;01mNone\u001b[39;00m\n\u001b[0;32m     71\u001b[0m \u001b[38;5;28;01mfinally\u001b[39;00m:\n\u001b[0;32m     72\u001b[0m     \u001b[38;5;28;01mdel\u001b[39;00m filtered_tb\n",
      "File \u001b[1;32m~\\AppData\\Roaming\\Python\\Python311\\site-packages\\keras\\engine\\input_spec.py:251\u001b[0m, in \u001b[0;36massert_input_compatibility\u001b[1;34m(input_spec, inputs, layer_name)\u001b[0m\n\u001b[0;32m    244\u001b[0m         \u001b[38;5;28;01mraise\u001b[39;00m \u001b[38;5;167;01mValueError\u001b[39;00m(\n\u001b[0;32m    245\u001b[0m             \u001b[38;5;124mf\u001b[39m\u001b[38;5;124m'\u001b[39m\u001b[38;5;124mInput \u001b[39m\u001b[38;5;132;01m{\u001b[39;00minput_index\u001b[38;5;132;01m}\u001b[39;00m\u001b[38;5;124m of layer \u001b[39m\u001b[38;5;124m\"\u001b[39m\u001b[38;5;132;01m{\u001b[39;00mlayer_name\u001b[38;5;132;01m}\u001b[39;00m\u001b[38;5;124m\"\u001b[39m\u001b[38;5;124m \u001b[39m\u001b[38;5;124m'\u001b[39m\n\u001b[0;32m    246\u001b[0m             \u001b[38;5;124m\"\u001b[39m\u001b[38;5;124mis incompatible with the layer: \u001b[39m\u001b[38;5;124m\"\u001b[39m\n\u001b[0;32m    247\u001b[0m             \u001b[38;5;124mf\u001b[39m\u001b[38;5;124m\"\u001b[39m\u001b[38;5;124mexpected max_ndim=\u001b[39m\u001b[38;5;132;01m{\u001b[39;00mspec\u001b[38;5;241m.\u001b[39mmax_ndim\u001b[38;5;132;01m}\u001b[39;00m\u001b[38;5;124m, \u001b[39m\u001b[38;5;124m\"\u001b[39m\n\u001b[0;32m    248\u001b[0m             \u001b[38;5;124mf\u001b[39m\u001b[38;5;124m\"\u001b[39m\u001b[38;5;124mfound ndim=\u001b[39m\u001b[38;5;132;01m{\u001b[39;00mndim\u001b[38;5;132;01m}\u001b[39;00m\u001b[38;5;124m\"\u001b[39m\n\u001b[0;32m    249\u001b[0m         )\n\u001b[0;32m    250\u001b[0m \u001b[38;5;28;01mif\u001b[39;00m spec\u001b[38;5;241m.\u001b[39mmin_ndim \u001b[38;5;129;01mis\u001b[39;00m \u001b[38;5;129;01mnot\u001b[39;00m \u001b[38;5;28;01mNone\u001b[39;00m:\n\u001b[1;32m--> 251\u001b[0m     ndim \u001b[38;5;241m=\u001b[39m \u001b[43mx\u001b[49m\u001b[38;5;241;43m.\u001b[39;49m\u001b[43mshape\u001b[49m\u001b[38;5;241;43m.\u001b[39;49m\u001b[43mrank\u001b[49m\n\u001b[0;32m    252\u001b[0m     \u001b[38;5;28;01mif\u001b[39;00m ndim \u001b[38;5;129;01mis\u001b[39;00m \u001b[38;5;129;01mnot\u001b[39;00m \u001b[38;5;28;01mNone\u001b[39;00m \u001b[38;5;129;01mand\u001b[39;00m ndim \u001b[38;5;241m<\u001b[39m spec\u001b[38;5;241m.\u001b[39mmin_ndim:\n\u001b[0;32m    253\u001b[0m         \u001b[38;5;28;01mraise\u001b[39;00m \u001b[38;5;167;01mValueError\u001b[39;00m(\n\u001b[0;32m    254\u001b[0m             \u001b[38;5;124mf\u001b[39m\u001b[38;5;124m'\u001b[39m\u001b[38;5;124mInput \u001b[39m\u001b[38;5;132;01m{\u001b[39;00minput_index\u001b[38;5;132;01m}\u001b[39;00m\u001b[38;5;124m of layer \u001b[39m\u001b[38;5;124m\"\u001b[39m\u001b[38;5;132;01m{\u001b[39;00mlayer_name\u001b[38;5;132;01m}\u001b[39;00m\u001b[38;5;124m\"\u001b[39m\u001b[38;5;124m \u001b[39m\u001b[38;5;124m'\u001b[39m\n\u001b[0;32m    255\u001b[0m             \u001b[38;5;124m\"\u001b[39m\u001b[38;5;124mis incompatible with the layer: \u001b[39m\u001b[38;5;124m\"\u001b[39m\n\u001b[1;32m   (...)\u001b[0m\n\u001b[0;32m    258\u001b[0m             \u001b[38;5;124mf\u001b[39m\u001b[38;5;124m\"\u001b[39m\u001b[38;5;124mFull shape received: \u001b[39m\u001b[38;5;132;01m{\u001b[39;00m\u001b[38;5;28mtuple\u001b[39m(shape)\u001b[38;5;132;01m}\u001b[39;00m\u001b[38;5;124m\"\u001b[39m\n\u001b[0;32m    259\u001b[0m         )\n",
      "\u001b[1;31mAttributeError\u001b[0m: Exception encountered when calling layer 'sequential' (type Sequential).\n\n'tuple' object has no attribute 'rank'\n\nCall arguments received by layer 'sequential' (type Sequential):\n  • inputs=        loss_reason_0  loss_reason_1  loss_reason_2  loss_reason_4   \n0                   0              0              0              0  \\\n1                   0              0              0              0   \n2                   0              0              1              0   \n3                   0              0              0              0   \n4                   0              0              0              0   \n...               ...            ...            ...            ...   \n598090              0              0              0              0   \n598091              0              1              0              0   \n598092              0              0              1              0   \n598093              0              0              0              0   \n598094              0              0              0              0   \n\n        loss_reason_5  loss_reason_6  loss_reason_9  loss_reason_10   \n0                   0              0              0               0  \\\n1                   0              0              1               0   \n2                   0              0              0               0   \n3                   0              0              0               0   \n4                   0              1              0               0   \n...               ...            ...            ...             ...   \n598090              0              0              0               0   \n598091              0              0              0               0   \n598092              0              0              0               0   \n598093              0              0              0               0   \n598094              0              1              0               0   \n\n        loss_reason_11  loss_reason_12  ...  is_holyday_0  is_holyday_1   \n0                    0               0  ...             0             1  \\\n1                    0               0  ...             0             1   \n2                    0               0  ...             1             0   \n3                    0               0  ...             1             0   \n4                    0               0  ...             1             0   \n...                ...             ...  ...           ...           ...   \n598090               0               0  ...             1             0   \n598091               0               0  ...             1             0   \n598092               0               0  ...             1             0   \n598093               0               0  ...             0             1   \n598094               0               0  ...             1             0   \n\n        is_friday_0  is_friday_1  is_monday_0  is_monday_1  day_part_Day   \n0                 1            0            1            0             0  \\\n1                 1            0            1            0             0   \n2                 1            0            0            1             0   \n3                 1            0            0            1             0   \n4                 1            0            1            0             0   \n...             ...          ...          ...          ...           ...   \n598090            1            0            1            0             0   \n598091            1            0            1            0             1   \n598092            1            0            0            1             0   \n598093            1            0            1            0             1   \n598094            1            0            1            0             0   \n\n        day_part_Evening  day_part_Morning  year_part_Winter  \n0                      1                 0                 1  \n1                      1                 0                 1  \n2                      0                 1                 1  \n3                      1                 0                 1  \n4                      1                 0                 1  \n...                  ...               ...               ...  \n598090                 1                 0                 1  \n598091                 0                 0                 1  \n598092                 0                 1                 1  \n598093                 0                 0                 1  \n598094                 1                 0                 1  \n\n[598095 rows x 380 columns]\n  • training=None\n  • mask=None"
     ]
    }
   ],
   "source": [
    "predictions = model(X_test_prep_)\n",
    "predictions"
   ]
  },
  {
   "cell_type": "code",
   "execution_count": 60,
   "id": "18f105ea-f335-4aec-98c1-27603631c3f4",
   "metadata": {},
   "outputs": [
    {
     "ename": "AttributeError",
     "evalue": "Exception encountered when calling layer 'sequential' (type Sequential).\n\n'tuple' object has no attribute 'rank'\n\nCall arguments received by layer 'sequential' (type Sequential):\n  • inputs=        loss_reason_0  loss_reason_1  loss_reason_2  loss_reason_4   \n0                   0              0              0              0  \\\n1                   0              0              0              0   \n2                   0              0              1              0   \n3                   0              0              0              0   \n4                   0              0              0              0   \n...               ...            ...            ...            ...   \n598090              0              0              0              0   \n598091              0              1              0              0   \n598092              0              0              1              0   \n598093              0              0              0              0   \n598094              0              0              0              0   \n\n        loss_reason_5  loss_reason_6  loss_reason_9  loss_reason_10   \n0                   0              0              0               0  \\\n1                   0              0              1               0   \n2                   0              0              0               0   \n3                   0              0              0               0   \n4                   0              1              0               0   \n...               ...            ...            ...             ...   \n598090              0              0              0               0   \n598091              0              0              0               0   \n598092              0              0              0               0   \n598093              0              0              0               0   \n598094              0              1              0               0   \n\n        loss_reason_11  loss_reason_12  ...  is_holyday_0  is_holyday_1   \n0                    0               0  ...             0             1  \\\n1                    0               0  ...             0             1   \n2                    0               0  ...             1             0   \n3                    0               0  ...             1             0   \n4                    0               0  ...             1             0   \n...                ...             ...  ...           ...           ...   \n598090               0               0  ...             1             0   \n598091               0               0  ...             1             0   \n598092               0               0  ...             1             0   \n598093               0               0  ...             0             1   \n598094               0               0  ...             1             0   \n\n        is_friday_0  is_friday_1  is_monday_0  is_monday_1  day_part_Day   \n0                 1            0            1            0             0  \\\n1                 1            0            1            0             0   \n2                 1            0            0            1             0   \n3                 1            0            0            1             0   \n4                 1            0            1            0             0   \n...             ...          ...          ...          ...           ...   \n598090            1            0            1            0             0   \n598091            1            0            1            0             1   \n598092            1            0            0            1             0   \n598093            1            0            1            0             1   \n598094            1            0            1            0             0   \n\n        day_part_Evening  day_part_Morning  year_part_Winter  \n0                      1                 0                 1  \n1                      1                 0                 1  \n2                      0                 1                 1  \n3                      1                 0                 1  \n4                      1                 0                 1  \n...                  ...               ...               ...  \n598090                 1                 0                 1  \n598091                 0                 0                 1  \n598092                 0                 1                 1  \n598093                 0                 0                 1  \n598094                 1                 0                 1  \n\n[598095 rows x 380 columns]\n  • training=None\n  • mask=None",
     "output_type": "error",
     "traceback": [
      "\u001b[1;31m---------------------------------------------------------------------------\u001b[0m",
      "\u001b[1;31mAttributeError\u001b[0m                            Traceback (most recent call last)",
      "Cell \u001b[1;32mIn[60], line 1\u001b[0m\n\u001b[1;32m----> 1\u001b[0m probs \u001b[38;5;241m=\u001b[39m \u001b[43mprobability_model\u001b[49m\u001b[43m(\u001b[49m\u001b[43mX_test_prep_\u001b[49m\u001b[43m)\u001b[49m\n\u001b[0;32m      2\u001b[0m probs\n",
      "File \u001b[1;32m~\\AppData\\Roaming\\Python\\Python311\\site-packages\\keras\\utils\\traceback_utils.py:70\u001b[0m, in \u001b[0;36mfilter_traceback.<locals>.error_handler\u001b[1;34m(*args, **kwargs)\u001b[0m\n\u001b[0;32m     67\u001b[0m     filtered_tb \u001b[38;5;241m=\u001b[39m _process_traceback_frames(e\u001b[38;5;241m.\u001b[39m__traceback__)\n\u001b[0;32m     68\u001b[0m     \u001b[38;5;66;03m# To get the full stack trace, call:\u001b[39;00m\n\u001b[0;32m     69\u001b[0m     \u001b[38;5;66;03m# `tf.debugging.disable_traceback_filtering()`\u001b[39;00m\n\u001b[1;32m---> 70\u001b[0m     \u001b[38;5;28;01mraise\u001b[39;00m e\u001b[38;5;241m.\u001b[39mwith_traceback(filtered_tb) \u001b[38;5;28;01mfrom\u001b[39;00m \u001b[38;5;28;01mNone\u001b[39;00m\n\u001b[0;32m     71\u001b[0m \u001b[38;5;28;01mfinally\u001b[39;00m:\n\u001b[0;32m     72\u001b[0m     \u001b[38;5;28;01mdel\u001b[39;00m filtered_tb\n",
      "File \u001b[1;32m~\\AppData\\Roaming\\Python\\Python311\\site-packages\\keras\\engine\\input_spec.py:251\u001b[0m, in \u001b[0;36massert_input_compatibility\u001b[1;34m(input_spec, inputs, layer_name)\u001b[0m\n\u001b[0;32m    244\u001b[0m         \u001b[38;5;28;01mraise\u001b[39;00m \u001b[38;5;167;01mValueError\u001b[39;00m(\n\u001b[0;32m    245\u001b[0m             \u001b[38;5;124mf\u001b[39m\u001b[38;5;124m'\u001b[39m\u001b[38;5;124mInput \u001b[39m\u001b[38;5;132;01m{\u001b[39;00minput_index\u001b[38;5;132;01m}\u001b[39;00m\u001b[38;5;124m of layer \u001b[39m\u001b[38;5;124m\"\u001b[39m\u001b[38;5;132;01m{\u001b[39;00mlayer_name\u001b[38;5;132;01m}\u001b[39;00m\u001b[38;5;124m\"\u001b[39m\u001b[38;5;124m \u001b[39m\u001b[38;5;124m'\u001b[39m\n\u001b[0;32m    246\u001b[0m             \u001b[38;5;124m\"\u001b[39m\u001b[38;5;124mis incompatible with the layer: \u001b[39m\u001b[38;5;124m\"\u001b[39m\n\u001b[0;32m    247\u001b[0m             \u001b[38;5;124mf\u001b[39m\u001b[38;5;124m\"\u001b[39m\u001b[38;5;124mexpected max_ndim=\u001b[39m\u001b[38;5;132;01m{\u001b[39;00mspec\u001b[38;5;241m.\u001b[39mmax_ndim\u001b[38;5;132;01m}\u001b[39;00m\u001b[38;5;124m, \u001b[39m\u001b[38;5;124m\"\u001b[39m\n\u001b[0;32m    248\u001b[0m             \u001b[38;5;124mf\u001b[39m\u001b[38;5;124m\"\u001b[39m\u001b[38;5;124mfound ndim=\u001b[39m\u001b[38;5;132;01m{\u001b[39;00mndim\u001b[38;5;132;01m}\u001b[39;00m\u001b[38;5;124m\"\u001b[39m\n\u001b[0;32m    249\u001b[0m         )\n\u001b[0;32m    250\u001b[0m \u001b[38;5;28;01mif\u001b[39;00m spec\u001b[38;5;241m.\u001b[39mmin_ndim \u001b[38;5;129;01mis\u001b[39;00m \u001b[38;5;129;01mnot\u001b[39;00m \u001b[38;5;28;01mNone\u001b[39;00m:\n\u001b[1;32m--> 251\u001b[0m     ndim \u001b[38;5;241m=\u001b[39m \u001b[43mx\u001b[49m\u001b[38;5;241;43m.\u001b[39;49m\u001b[43mshape\u001b[49m\u001b[38;5;241;43m.\u001b[39;49m\u001b[43mrank\u001b[49m\n\u001b[0;32m    252\u001b[0m     \u001b[38;5;28;01mif\u001b[39;00m ndim \u001b[38;5;129;01mis\u001b[39;00m \u001b[38;5;129;01mnot\u001b[39;00m \u001b[38;5;28;01mNone\u001b[39;00m \u001b[38;5;129;01mand\u001b[39;00m ndim \u001b[38;5;241m<\u001b[39m spec\u001b[38;5;241m.\u001b[39mmin_ndim:\n\u001b[0;32m    253\u001b[0m         \u001b[38;5;28;01mraise\u001b[39;00m \u001b[38;5;167;01mValueError\u001b[39;00m(\n\u001b[0;32m    254\u001b[0m             \u001b[38;5;124mf\u001b[39m\u001b[38;5;124m'\u001b[39m\u001b[38;5;124mInput \u001b[39m\u001b[38;5;132;01m{\u001b[39;00minput_index\u001b[38;5;132;01m}\u001b[39;00m\u001b[38;5;124m of layer \u001b[39m\u001b[38;5;124m\"\u001b[39m\u001b[38;5;132;01m{\u001b[39;00mlayer_name\u001b[38;5;132;01m}\u001b[39;00m\u001b[38;5;124m\"\u001b[39m\u001b[38;5;124m \u001b[39m\u001b[38;5;124m'\u001b[39m\n\u001b[0;32m    255\u001b[0m             \u001b[38;5;124m\"\u001b[39m\u001b[38;5;124mis incompatible with the layer: \u001b[39m\u001b[38;5;124m\"\u001b[39m\n\u001b[1;32m   (...)\u001b[0m\n\u001b[0;32m    258\u001b[0m             \u001b[38;5;124mf\u001b[39m\u001b[38;5;124m\"\u001b[39m\u001b[38;5;124mFull shape received: \u001b[39m\u001b[38;5;132;01m{\u001b[39;00m\u001b[38;5;28mtuple\u001b[39m(shape)\u001b[38;5;132;01m}\u001b[39;00m\u001b[38;5;124m\"\u001b[39m\n\u001b[0;32m    259\u001b[0m         )\n",
      "\u001b[1;31mAttributeError\u001b[0m: Exception encountered when calling layer 'sequential' (type Sequential).\n\n'tuple' object has no attribute 'rank'\n\nCall arguments received by layer 'sequential' (type Sequential):\n  • inputs=        loss_reason_0  loss_reason_1  loss_reason_2  loss_reason_4   \n0                   0              0              0              0  \\\n1                   0              0              0              0   \n2                   0              0              1              0   \n3                   0              0              0              0   \n4                   0              0              0              0   \n...               ...            ...            ...            ...   \n598090              0              0              0              0   \n598091              0              1              0              0   \n598092              0              0              1              0   \n598093              0              0              0              0   \n598094              0              0              0              0   \n\n        loss_reason_5  loss_reason_6  loss_reason_9  loss_reason_10   \n0                   0              0              0               0  \\\n1                   0              0              1               0   \n2                   0              0              0               0   \n3                   0              0              0               0   \n4                   0              1              0               0   \n...               ...            ...            ...             ...   \n598090              0              0              0               0   \n598091              0              0              0               0   \n598092              0              0              0               0   \n598093              0              0              0               0   \n598094              0              1              0               0   \n\n        loss_reason_11  loss_reason_12  ...  is_holyday_0  is_holyday_1   \n0                    0               0  ...             0             1  \\\n1                    0               0  ...             0             1   \n2                    0               0  ...             1             0   \n3                    0               0  ...             1             0   \n4                    0               0  ...             1             0   \n...                ...             ...  ...           ...           ...   \n598090               0               0  ...             1             0   \n598091               0               0  ...             1             0   \n598092               0               0  ...             1             0   \n598093               0               0  ...             0             1   \n598094               0               0  ...             1             0   \n\n        is_friday_0  is_friday_1  is_monday_0  is_monday_1  day_part_Day   \n0                 1            0            1            0             0  \\\n1                 1            0            1            0             0   \n2                 1            0            0            1             0   \n3                 1            0            0            1             0   \n4                 1            0            1            0             0   \n...             ...          ...          ...          ...           ...   \n598090            1            0            1            0             0   \n598091            1            0            1            0             1   \n598092            1            0            0            1             0   \n598093            1            0            1            0             1   \n598094            1            0            1            0             0   \n\n        day_part_Evening  day_part_Morning  year_part_Winter  \n0                      1                 0                 1  \n1                      1                 0                 1  \n2                      0                 1                 1  \n3                      1                 0                 1  \n4                      1                 0                 1  \n...                  ...               ...               ...  \n598090                 1                 0                 1  \n598091                 0                 0                 1  \n598092                 0                 1                 1  \n598093                 0                 0                 1  \n598094                 1                 0                 1  \n\n[598095 rows x 380 columns]\n  • training=None\n  • mask=None"
     ]
    }
   ],
   "source": [
    "probs = probability_model(X_test_prep_)\n",
    "probs"
   ]
  },
  {
   "cell_type": "code",
   "execution_count": null,
   "id": "dfa5d36a-3b4a-4ff4-bee5-d76495725f58",
   "metadata": {},
   "outputs": [],
   "source": [
    "roc_auc_score(y_test, probs)"
   ]
  },
  {
   "cell_type": "code",
   "execution_count": 266,
   "id": "991d64e2-72d5-424b-9bde-cb9d5c4e8e99",
   "metadata": {},
   "outputs": [],
   "source": [
    "def baseline_model(hidden_layer_dim):\n",
    "\n",
    "    n_features_in_ = 100\n",
    "    X_shape_ = X_train_tensor.shape\n",
    "    n_classes_ = len(y_train.unique())\n",
    "    \n",
    "    model = tf.keras.models.Sequential([\n",
    "    tf.keras.layers.Dense(n_features_in_, input_dim = X_shape_[1], activation='relu'),\n",
    "    tf.keras.layers.Dense(hidden_layer_dim, activation='relu'),\n",
    "    tf.keras.layers.Dropout(0.2),\n",
    "    #tf.keras.layers.Dense(n_classes_, activation='softmax'),\n",
    "    ])\n",
    "    model.compile(optimizer=tf.keras.optimizers.Adam(learning_rate=1e-3),\n",
    "              loss=loss_fn,\n",
    "              #metrics=[tf.keras.metrics.Accuracy()],\n",
    "              metrics=['accuracy'],\n",
    "              #weighted_metrics=class_weights,\n",
    "             )\n",
    "    return model\n"
   ]
  },
  {
   "cell_type": "code",
   "execution_count": 267,
   "id": "3b577bec-7c9b-4faf-8b45-18b3b65baca5",
   "metadata": {},
   "outputs": [],
   "source": [
    "estimator = KerasClassifier(baseline_model, loss = loss_fn, hidden_layer_dim=128, verbose=0)"
   ]
  },
  {
   "cell_type": "code",
   "execution_count": 268,
   "id": "83bf94e9-2766-4531-9905-0fac6d415141",
   "metadata": {},
   "outputs": [
    {
     "data": {
      "text/plain": [
       "dict_keys(['model', 'build_fn', 'warm_start', 'random_state', 'optimizer', 'loss', 'metrics', 'batch_size', 'validation_batch_size', 'verbose', 'callbacks', 'validation_split', 'shuffle', 'run_eagerly', 'epochs', 'hidden_layer_dim', 'class_weight'])"
      ]
     },
     "execution_count": 268,
     "metadata": {},
     "output_type": "execute_result"
    }
   ],
   "source": [
    "estimator.get_params().keys()"
   ]
  },
  {
   "cell_type": "code",
   "execution_count": 272,
   "id": "02cae86f-54c2-4c04-a55c-0bcbe7be07fb",
   "metadata": {},
   "outputs": [
    {
     "data": {
      "text/html": [
       "<style>#sk-container-id-2 {color: black;}#sk-container-id-2 pre{padding: 0;}#sk-container-id-2 div.sk-toggleable {background-color: white;}#sk-container-id-2 label.sk-toggleable__label {cursor: pointer;display: block;width: 100%;margin-bottom: 0;padding: 0.3em;box-sizing: border-box;text-align: center;}#sk-container-id-2 label.sk-toggleable__label-arrow:before {content: \"▸\";float: left;margin-right: 0.25em;color: #696969;}#sk-container-id-2 label.sk-toggleable__label-arrow:hover:before {color: black;}#sk-container-id-2 div.sk-estimator:hover label.sk-toggleable__label-arrow:before {color: black;}#sk-container-id-2 div.sk-toggleable__content {max-height: 0;max-width: 0;overflow: hidden;text-align: left;background-color: #f0f8ff;}#sk-container-id-2 div.sk-toggleable__content pre {margin: 0.2em;color: black;border-radius: 0.25em;background-color: #f0f8ff;}#sk-container-id-2 input.sk-toggleable__control:checked~div.sk-toggleable__content {max-height: 200px;max-width: 100%;overflow: auto;}#sk-container-id-2 input.sk-toggleable__control:checked~label.sk-toggleable__label-arrow:before {content: \"▾\";}#sk-container-id-2 div.sk-estimator input.sk-toggleable__control:checked~label.sk-toggleable__label {background-color: #d4ebff;}#sk-container-id-2 div.sk-label input.sk-toggleable__control:checked~label.sk-toggleable__label {background-color: #d4ebff;}#sk-container-id-2 input.sk-hidden--visually {border: 0;clip: rect(1px 1px 1px 1px);clip: rect(1px, 1px, 1px, 1px);height: 1px;margin: -1px;overflow: hidden;padding: 0;position: absolute;width: 1px;}#sk-container-id-2 div.sk-estimator {font-family: monospace;background-color: #f0f8ff;border: 1px dotted black;border-radius: 0.25em;box-sizing: border-box;margin-bottom: 0.5em;}#sk-container-id-2 div.sk-estimator:hover {background-color: #d4ebff;}#sk-container-id-2 div.sk-parallel-item::after {content: \"\";width: 100%;border-bottom: 1px solid gray;flex-grow: 1;}#sk-container-id-2 div.sk-label:hover label.sk-toggleable__label {background-color: #d4ebff;}#sk-container-id-2 div.sk-serial::before {content: \"\";position: absolute;border-left: 1px solid gray;box-sizing: border-box;top: 0;bottom: 0;left: 50%;z-index: 0;}#sk-container-id-2 div.sk-serial {display: flex;flex-direction: column;align-items: center;background-color: white;padding-right: 0.2em;padding-left: 0.2em;position: relative;}#sk-container-id-2 div.sk-item {position: relative;z-index: 1;}#sk-container-id-2 div.sk-parallel {display: flex;align-items: stretch;justify-content: center;background-color: white;position: relative;}#sk-container-id-2 div.sk-item::before, #sk-container-id-2 div.sk-parallel-item::before {content: \"\";position: absolute;border-left: 1px solid gray;box-sizing: border-box;top: 0;bottom: 0;left: 50%;z-index: -1;}#sk-container-id-2 div.sk-parallel-item {display: flex;flex-direction: column;z-index: 1;position: relative;background-color: white;}#sk-container-id-2 div.sk-parallel-item:first-child::after {align-self: flex-end;width: 50%;}#sk-container-id-2 div.sk-parallel-item:last-child::after {align-self: flex-start;width: 50%;}#sk-container-id-2 div.sk-parallel-item:only-child::after {width: 0;}#sk-container-id-2 div.sk-dashed-wrapped {border: 1px dashed gray;margin: 0 0.4em 0.5em 0.4em;box-sizing: border-box;padding-bottom: 0.4em;background-color: white;}#sk-container-id-2 div.sk-label label {font-family: monospace;font-weight: bold;display: inline-block;line-height: 1.2em;}#sk-container-id-2 div.sk-label-container {text-align: center;}#sk-container-id-2 div.sk-container {/* jupyter's `normalize.less` sets `[hidden] { display: none; }` but bootstrap.min.css set `[hidden] { display: none !important; }` so we also need the `!important` here to be able to override the default hidden behavior on the sphinx rendered scikit-learn.org. See: https://github.com/scikit-learn/scikit-learn/issues/21755 */display: inline-block !important;position: relative;}#sk-container-id-2 div.sk-text-repr-fallback {display: none;}</style><div id=\"sk-container-id-2\" class=\"sk-top-container\"><div class=\"sk-text-repr-fallback\"><pre>KerasClassifier(\n",
       "\tmodel=&lt;function baseline_model at 0x0000025C9AE0A200&gt;\n",
       "\tbuild_fn=None\n",
       "\twarm_start=False\n",
       "\trandom_state=None\n",
       "\toptimizer=rmsprop\n",
       "\tloss=&lt;keras.losses.BinaryCrossentropy object at 0x0000025BA607F6D0&gt;\n",
       "\tmetrics=None\n",
       "\tbatch_size=None\n",
       "\tvalidation_batch_size=None\n",
       "\tverbose=0\n",
       "\tcallbacks=None\n",
       "\tvalidation_split=0.0\n",
       "\tshuffle=True\n",
       "\trun_eagerly=False\n",
       "\tepochs=1\n",
       "\thidden_layer_dim=128\n",
       "\tclass_weight=None\n",
       ")</pre><b>In a Jupyter environment, please rerun this cell to show the HTML representation or trust the notebook. <br />On GitHub, the HTML representation is unable to render, please try loading this page with nbviewer.org.</b></div><div class=\"sk-container\" hidden><div class=\"sk-item\"><div class=\"sk-estimator sk-toggleable\"><input class=\"sk-toggleable__control sk-hidden--visually\" id=\"sk-estimator-id-2\" type=\"checkbox\" checked><label for=\"sk-estimator-id-2\" class=\"sk-toggleable__label sk-toggleable__label-arrow\">KerasClassifier</label><div class=\"sk-toggleable__content\"><pre>KerasClassifier(\n",
       "\tmodel=&lt;function baseline_model at 0x0000025C9AE0A200&gt;\n",
       "\tbuild_fn=None\n",
       "\twarm_start=False\n",
       "\trandom_state=None\n",
       "\toptimizer=rmsprop\n",
       "\tloss=&lt;keras.losses.BinaryCrossentropy object at 0x0000025BA607F6D0&gt;\n",
       "\tmetrics=None\n",
       "\tbatch_size=None\n",
       "\tvalidation_batch_size=None\n",
       "\tverbose=0\n",
       "\tcallbacks=None\n",
       "\tvalidation_split=0.0\n",
       "\tshuffle=True\n",
       "\trun_eagerly=False\n",
       "\tepochs=1\n",
       "\thidden_layer_dim=128\n",
       "\tclass_weight=None\n",
       ")</pre></div></div></div></div></div>"
      ],
      "text/plain": [
       "KerasClassifier(\n",
       "\tmodel=<function baseline_model at 0x0000025C9AE0A200>\n",
       "\tbuild_fn=None\n",
       "\twarm_start=False\n",
       "\trandom_state=None\n",
       "\toptimizer=rmsprop\n",
       "\tloss=<keras.losses.BinaryCrossentropy object at 0x0000025BA607F6D0>\n",
       "\tmetrics=None\n",
       "\tbatch_size=None\n",
       "\tvalidation_batch_size=None\n",
       "\tverbose=0\n",
       "\tcallbacks=None\n",
       "\tvalidation_split=0.0\n",
       "\tshuffle=True\n",
       "\trun_eagerly=False\n",
       "\tepochs=1\n",
       "\thidden_layer_dim=128\n",
       "\tclass_weight=None\n",
       ")"
      ]
     },
     "execution_count": 272,
     "metadata": {},
     "output_type": "execute_result"
    }
   ],
   "source": [
    "estimator.fit(X_train_tensor, y_train,\n",
    "             batch_size=1024,\n",
    "             epochs=3,\n",
    "             #class_weight=class_weights,\n",
    "             shuffle=True\n",
    "             )"
   ]
  },
  {
   "cell_type": "code",
   "execution_count": 276,
   "id": "9d546d4b-2e57-44b2-8e57-314ab8ccd931",
   "metadata": {},
   "outputs": [],
   "source": [
    "model = baseline_model(hidden_layer_dim=128)\n",
    "probability_model = tf.keras.Sequential([\n",
    "  model,\n",
    "  tf.keras.layers.Softmax()\n",
    "])"
   ]
  },
  {
   "cell_type": "code",
   "execution_count": 278,
   "id": "238b6873-16fd-4f45-aa4f-c3b9bebb6333",
   "metadata": {},
   "outputs": [],
   "source": [
    "estimator = KerasClassifier(probability_model, loss = loss_fn, verbose=0)"
   ]
  },
  {
   "cell_type": "code",
   "execution_count": 281,
   "id": "172ce335-f56d-472c-9121-c2a6e11fffc2",
   "metadata": {},
   "outputs": [
    {
     "data": {
      "text/html": [
       "<style>#sk-container-id-3 {color: black;}#sk-container-id-3 pre{padding: 0;}#sk-container-id-3 div.sk-toggleable {background-color: white;}#sk-container-id-3 label.sk-toggleable__label {cursor: pointer;display: block;width: 100%;margin-bottom: 0;padding: 0.3em;box-sizing: border-box;text-align: center;}#sk-container-id-3 label.sk-toggleable__label-arrow:before {content: \"▸\";float: left;margin-right: 0.25em;color: #696969;}#sk-container-id-3 label.sk-toggleable__label-arrow:hover:before {color: black;}#sk-container-id-3 div.sk-estimator:hover label.sk-toggleable__label-arrow:before {color: black;}#sk-container-id-3 div.sk-toggleable__content {max-height: 0;max-width: 0;overflow: hidden;text-align: left;background-color: #f0f8ff;}#sk-container-id-3 div.sk-toggleable__content pre {margin: 0.2em;color: black;border-radius: 0.25em;background-color: #f0f8ff;}#sk-container-id-3 input.sk-toggleable__control:checked~div.sk-toggleable__content {max-height: 200px;max-width: 100%;overflow: auto;}#sk-container-id-3 input.sk-toggleable__control:checked~label.sk-toggleable__label-arrow:before {content: \"▾\";}#sk-container-id-3 div.sk-estimator input.sk-toggleable__control:checked~label.sk-toggleable__label {background-color: #d4ebff;}#sk-container-id-3 div.sk-label input.sk-toggleable__control:checked~label.sk-toggleable__label {background-color: #d4ebff;}#sk-container-id-3 input.sk-hidden--visually {border: 0;clip: rect(1px 1px 1px 1px);clip: rect(1px, 1px, 1px, 1px);height: 1px;margin: -1px;overflow: hidden;padding: 0;position: absolute;width: 1px;}#sk-container-id-3 div.sk-estimator {font-family: monospace;background-color: #f0f8ff;border: 1px dotted black;border-radius: 0.25em;box-sizing: border-box;margin-bottom: 0.5em;}#sk-container-id-3 div.sk-estimator:hover {background-color: #d4ebff;}#sk-container-id-3 div.sk-parallel-item::after {content: \"\";width: 100%;border-bottom: 1px solid gray;flex-grow: 1;}#sk-container-id-3 div.sk-label:hover label.sk-toggleable__label {background-color: #d4ebff;}#sk-container-id-3 div.sk-serial::before {content: \"\";position: absolute;border-left: 1px solid gray;box-sizing: border-box;top: 0;bottom: 0;left: 50%;z-index: 0;}#sk-container-id-3 div.sk-serial {display: flex;flex-direction: column;align-items: center;background-color: white;padding-right: 0.2em;padding-left: 0.2em;position: relative;}#sk-container-id-3 div.sk-item {position: relative;z-index: 1;}#sk-container-id-3 div.sk-parallel {display: flex;align-items: stretch;justify-content: center;background-color: white;position: relative;}#sk-container-id-3 div.sk-item::before, #sk-container-id-3 div.sk-parallel-item::before {content: \"\";position: absolute;border-left: 1px solid gray;box-sizing: border-box;top: 0;bottom: 0;left: 50%;z-index: -1;}#sk-container-id-3 div.sk-parallel-item {display: flex;flex-direction: column;z-index: 1;position: relative;background-color: white;}#sk-container-id-3 div.sk-parallel-item:first-child::after {align-self: flex-end;width: 50%;}#sk-container-id-3 div.sk-parallel-item:last-child::after {align-self: flex-start;width: 50%;}#sk-container-id-3 div.sk-parallel-item:only-child::after {width: 0;}#sk-container-id-3 div.sk-dashed-wrapped {border: 1px dashed gray;margin: 0 0.4em 0.5em 0.4em;box-sizing: border-box;padding-bottom: 0.4em;background-color: white;}#sk-container-id-3 div.sk-label label {font-family: monospace;font-weight: bold;display: inline-block;line-height: 1.2em;}#sk-container-id-3 div.sk-label-container {text-align: center;}#sk-container-id-3 div.sk-container {/* jupyter's `normalize.less` sets `[hidden] { display: none; }` but bootstrap.min.css set `[hidden] { display: none !important; }` so we also need the `!important` here to be able to override the default hidden behavior on the sphinx rendered scikit-learn.org. See: https://github.com/scikit-learn/scikit-learn/issues/21755 */display: inline-block !important;position: relative;}#sk-container-id-3 div.sk-text-repr-fallback {display: none;}</style><div id=\"sk-container-id-3\" class=\"sk-top-container\"><div class=\"sk-text-repr-fallback\"><pre>KerasClassifier(\n",
       "\tmodel=&lt;keras.engine.sequential.Sequential object at 0x0000025AFAB92450&gt;\n",
       "\tbuild_fn=None\n",
       "\twarm_start=False\n",
       "\trandom_state=None\n",
       "\toptimizer=rmsprop\n",
       "\tloss=&lt;keras.losses.BinaryCrossentropy object at 0x0000025BA607F6D0&gt;\n",
       "\tmetrics=None\n",
       "\tbatch_size=None\n",
       "\tvalidation_batch_size=None\n",
       "\tverbose=0\n",
       "\tcallbacks=None\n",
       "\tvalidation_split=0.0\n",
       "\tshuffle=True\n",
       "\trun_eagerly=False\n",
       "\tepochs=1\n",
       "\tclass_weight=None\n",
       ")</pre><b>In a Jupyter environment, please rerun this cell to show the HTML representation or trust the notebook. <br />On GitHub, the HTML representation is unable to render, please try loading this page with nbviewer.org.</b></div><div class=\"sk-container\" hidden><div class=\"sk-item\"><div class=\"sk-estimator sk-toggleable\"><input class=\"sk-toggleable__control sk-hidden--visually\" id=\"sk-estimator-id-3\" type=\"checkbox\" checked><label for=\"sk-estimator-id-3\" class=\"sk-toggleable__label sk-toggleable__label-arrow\">KerasClassifier</label><div class=\"sk-toggleable__content\"><pre>KerasClassifier(\n",
       "\tmodel=&lt;keras.engine.sequential.Sequential object at 0x0000025AFAB92450&gt;\n",
       "\tbuild_fn=None\n",
       "\twarm_start=False\n",
       "\trandom_state=None\n",
       "\toptimizer=rmsprop\n",
       "\tloss=&lt;keras.losses.BinaryCrossentropy object at 0x0000025BA607F6D0&gt;\n",
       "\tmetrics=None\n",
       "\tbatch_size=None\n",
       "\tvalidation_batch_size=None\n",
       "\tverbose=0\n",
       "\tcallbacks=None\n",
       "\tvalidation_split=0.0\n",
       "\tshuffle=True\n",
       "\trun_eagerly=False\n",
       "\tepochs=1\n",
       "\tclass_weight=None\n",
       ")</pre></div></div></div></div></div>"
      ],
      "text/plain": [
       "KerasClassifier(\n",
       "\tmodel=<keras.engine.sequential.Sequential object at 0x0000025AFAB92450>\n",
       "\tbuild_fn=None\n",
       "\twarm_start=False\n",
       "\trandom_state=None\n",
       "\toptimizer=rmsprop\n",
       "\tloss=<keras.losses.BinaryCrossentropy object at 0x0000025BA607F6D0>\n",
       "\tmetrics=None\n",
       "\tbatch_size=None\n",
       "\tvalidation_batch_size=None\n",
       "\tverbose=0\n",
       "\tcallbacks=None\n",
       "\tvalidation_split=0.0\n",
       "\tshuffle=True\n",
       "\trun_eagerly=False\n",
       "\tepochs=1\n",
       "\tclass_weight=None\n",
       ")"
      ]
     },
     "execution_count": 281,
     "metadata": {},
     "output_type": "execute_result"
    }
   ],
   "source": [
    "estimator.fit(X_train_tensor, y_train,\n",
    "             batch_size=1024,\n",
    "             epochs=3,\n",
    "             #class_weight=class_weights,\n",
    "             shuffle=True\n",
    "             )"
   ]
  },
  {
   "cell_type": "code",
   "execution_count": 280,
   "id": "34de9d20-39d2-436e-b64a-9c37882fa122",
   "metadata": {},
   "outputs": [
    {
     "ename": "NotFittedError",
     "evalue": "Estimator needs to be fit before `predict` can be called",
     "output_type": "error",
     "traceback": [
      "\u001b[1;31m---------------------------------------------------------------------------\u001b[0m",
      "\u001b[1;31mNotFittedError\u001b[0m                            Traceback (most recent call last)",
      "Cell \u001b[1;32mIn[280], line 1\u001b[0m\n\u001b[1;32m----> 1\u001b[0m y_proba \u001b[38;5;241m=\u001b[39m \u001b[43mestimator\u001b[49m\u001b[38;5;241;43m.\u001b[39;49m\u001b[43mpredict\u001b[49m\u001b[43m(\u001b[49m\u001b[43mX_test_tensor\u001b[49m\u001b[43m)\u001b[49m\n\u001b[0;32m      2\u001b[0m y_proba\n",
      "File \u001b[1;32m~\\AppData\\Roaming\\Python\\Python311\\site-packages\\scikeras\\wrappers.py:1048\u001b[0m, in \u001b[0;36mBaseWrapper.predict\u001b[1;34m(self, X, **kwargs)\u001b[0m\n\u001b[0;32m   1024\u001b[0m \u001b[38;5;250m\u001b[39m\u001b[38;5;124;03m\"\"\"Returns predictions for the given test data.\u001b[39;00m\n\u001b[0;32m   1025\u001b[0m \n\u001b[0;32m   1026\u001b[0m \u001b[38;5;124;03mParameters\u001b[39;00m\n\u001b[1;32m   (...)\u001b[0m\n\u001b[0;32m   1045\u001b[0m \u001b[38;5;124;03m    Predictions, of shape shape (n_samples,) or (n_samples, n_outputs).\u001b[39;00m\n\u001b[0;32m   1046\u001b[0m \u001b[38;5;124;03m\"\"\"\u001b[39;00m\n\u001b[0;32m   1047\u001b[0m \u001b[38;5;66;03m# predict with Keras model\u001b[39;00m\n\u001b[1;32m-> 1048\u001b[0m y_pred \u001b[38;5;241m=\u001b[39m \u001b[38;5;28;43mself\u001b[39;49m\u001b[38;5;241;43m.\u001b[39;49m\u001b[43m_predict_raw\u001b[49m\u001b[43m(\u001b[49m\u001b[43mX\u001b[49m\u001b[38;5;241;43m=\u001b[39;49m\u001b[43mX\u001b[49m\u001b[43m,\u001b[49m\u001b[43m \u001b[49m\u001b[38;5;241;43m*\u001b[39;49m\u001b[38;5;241;43m*\u001b[39;49m\u001b[43mkwargs\u001b[49m\u001b[43m)\u001b[49m\n\u001b[0;32m   1050\u001b[0m \u001b[38;5;66;03m# post process y\u001b[39;00m\n\u001b[0;32m   1051\u001b[0m y_pred \u001b[38;5;241m=\u001b[39m \u001b[38;5;28mself\u001b[39m\u001b[38;5;241m.\u001b[39mtarget_encoder_\u001b[38;5;241m.\u001b[39minverse_transform(y_pred)\n",
      "File \u001b[1;32m~\\AppData\\Roaming\\Python\\Python311\\site-packages\\scikeras\\wrappers.py:990\u001b[0m, in \u001b[0;36mBaseWrapper._predict_raw\u001b[1;34m(self, X, **kwargs)\u001b[0m\n\u001b[0;32m    988\u001b[0m \u001b[38;5;66;03m# check if fitted\u001b[39;00m\n\u001b[0;32m    989\u001b[0m \u001b[38;5;28;01mif\u001b[39;00m \u001b[38;5;129;01mnot\u001b[39;00m \u001b[38;5;28mself\u001b[39m\u001b[38;5;241m.\u001b[39minitialized_:\n\u001b[1;32m--> 990\u001b[0m     \u001b[38;5;28;01mraise\u001b[39;00m NotFittedError(\n\u001b[0;32m    991\u001b[0m         \u001b[38;5;124m\"\u001b[39m\u001b[38;5;124mEstimator needs to be fit before `predict` \u001b[39m\u001b[38;5;124m\"\u001b[39m \u001b[38;5;124m\"\u001b[39m\u001b[38;5;124mcan be called\u001b[39m\u001b[38;5;124m\"\u001b[39m\n\u001b[0;32m    992\u001b[0m     )\n\u001b[0;32m    993\u001b[0m \u001b[38;5;66;03m# basic input checks\u001b[39;00m\n\u001b[0;32m    994\u001b[0m X, _ \u001b[38;5;241m=\u001b[39m \u001b[38;5;28mself\u001b[39m\u001b[38;5;241m.\u001b[39m_validate_data(X\u001b[38;5;241m=\u001b[39mX, y\u001b[38;5;241m=\u001b[39m\u001b[38;5;28;01mNone\u001b[39;00m)\n",
      "\u001b[1;31mNotFittedError\u001b[0m: Estimator needs to be fit before `predict` can be called"
     ]
    }
   ],
   "source": [
    "y_proba = estimator.predict(X_test_tensor)\n",
    "y_proba"
   ]
  },
  {
   "cell_type": "code",
   "execution_count": null,
   "id": "f262a6e6-3e2f-4b30-b42e-8b3a25439d6b",
   "metadata": {},
   "outputs": [],
   "source": []
  }
 ],
 "metadata": {
  "kernelspec": {
   "display_name": "Python 3 (ipykernel)",
   "language": "python",
   "name": "python3"
  },
  "language_info": {
   "codemirror_mode": {
    "name": "ipython",
    "version": 3
   },
   "file_extension": ".py",
   "mimetype": "text/x-python",
   "name": "python",
   "nbconvert_exporter": "python",
   "pygments_lexer": "ipython3",
   "version": "3.11.5"
  }
 },
 "nbformat": 4,
 "nbformat_minor": 5
}
