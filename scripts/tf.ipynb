{
 "cells": [
  {
   "cell_type": "code",
   "execution_count": 164,
   "id": "ad208db8-e8c3-4c7f-a622-08ba872a1702",
   "metadata": {},
   "outputs": [
    {
     "name": "stdout",
     "output_type": "stream",
     "text": [
      "TensorFlow version: 2.12.0\n",
      "[name: \"/device:CPU:0\"\n",
      "device_type: \"CPU\"\n",
      "memory_limit: 268435456\n",
      "locality {\n",
      "}\n",
      "incarnation: 15227683719947374622\n",
      "xla_global_id: -1\n",
      "]\n"
     ]
    }
   ],
   "source": [
    "import numpy as np\n",
    "import pandas as pd\n",
    "import matplotlib as plt\n",
    "from sklearn.model_selection import train_test_split, KFold, cross_val_score\n",
    "from sklearn.utils import class_weight\n",
    "import tensorflow as tf\n",
    "from scikeras.wrappers import KerasClassifier\n",
    "from sklearn.model_selection import GridSearchCV\n",
    "from sklearn.metrics import accuracy_score, roc_auc_score, confusion_matrix \n",
    "print(\"TensorFlow version:\", tf.__version__)\n",
    "from tensorflow.python.client import device_lib\n",
    "print(device_lib.list_local_devices())\n",
    "from sklearn.preprocessing import OneHotEncoder\n",
    "from sklearn.pipeline import Pipeline\n",
    "from sklearn.preprocessing import FunctionTransformer\n",
    "from datetime import datetime\n",
    "from sklearn.metrics import accuracy_score\n",
    "import gc\n",
    "import warnings\n",
    "warnings.filterwarnings('ignore')"
   ]
  },
  {
   "cell_type": "code",
   "execution_count": 8,
   "id": "ff1c8745-2f2a-41da-acef-53386376b420",
   "metadata": {},
   "outputs": [],
   "source": [
    "RANDOM_SEED = 42"
   ]
  },
  {
   "cell_type": "code",
   "execution_count": 9,
   "id": "33874bcf-fc5e-4cb7-b64c-73e75065431c",
   "metadata": {},
   "outputs": [
    {
     "data": {
      "text/plain": [
       "False"
      ]
     },
     "execution_count": 9,
     "metadata": {},
     "output_type": "execute_result"
    }
   ],
   "source": [
    "tf.test.is_built_with_cuda()"
   ]
  },
  {
   "cell_type": "code",
   "execution_count": 10,
   "id": "4676de1c-5a2b-4aba-bb65-4a551067c429",
   "metadata": {},
   "outputs": [],
   "source": [
    "def nan_click_viewed__deleting(X, y = None):\n",
    "    X = X[X['click'].isna() == False]\n",
    "    X = X[X['view'] != 0]\n",
    "    return X "
   ]
  },
  {
   "cell_type": "code",
   "execution_count": 11,
   "id": "df2652bd-3d52-4d70-818f-27828aa11c79",
   "metadata": {},
   "outputs": [],
   "source": [
    "def dub_dropping(X, y = None):\n",
    "    X =  X.drop_duplicates()                              \n",
    "    return X"
   ]
  },
  {
   "cell_type": "code",
   "execution_count": 12,
   "id": "4584af31-4a49-4663-8080-a040963bf8de",
   "metadata": {},
   "outputs": [],
   "source": [
    "def nan_filling(X, y = None):\n",
    "    nan_cols = {}\n",
    "    for col in X.columns:\n",
    "        nan_count = X[col].isna().sum()\n",
    "        if nan_count != 0:\n",
    "            per = np.round((nan_count / df.shape[0]) * 100, 2)\n",
    "            nan_cols[col] = per\n",
    "                       \n",
    "    for col, per in nan_cols.items():\n",
    "        if per < 5:\n",
    "            X = X[X[col].isna() == False]\n",
    "        else:\n",
    "            X[col] = X[col].fillna('unknown')\n",
    "            \n",
    "    return X"
   ]
  },
  {
   "cell_type": "code",
   "execution_count": 100,
   "id": "eef37488-3993-47a3-a2aa-275cc0cab6f8",
   "metadata": {},
   "outputs": [
    {
     "data": {
      "text/plain": [
       "(5889167, 39)"
      ]
     },
     "execution_count": 100,
     "metadata": {},
     "output_type": "execute_result"
    }
   ],
   "source": [
    "df_clickhouse = pd.read_csv('../internship/clickhouse.csv')\n",
    "df_clickhouse.shape"
   ]
  },
  {
   "cell_type": "code",
   "execution_count": 101,
   "id": "84011b2b-363f-4877-8503-70068f827e51",
   "metadata": {},
   "outputs": [
    {
     "data": {
      "text/plain": [
       "(132, 15)"
      ]
     },
     "execution_count": 101,
     "metadata": {},
     "output_type": "execute_result"
    }
   ],
   "source": [
    "df_creatives = pd.read_csv('../internship/creatives.csv')\n",
    "df_creatives.shape"
   ]
  },
  {
   "cell_type": "code",
   "execution_count": 102,
   "id": "75aad077-1a96-4bdd-b22a-3bab8e2e8786",
   "metadata": {},
   "outputs": [],
   "source": [
    "df_creatives = df_creatives.rename(columns={'id': 'creative_id'})"
   ]
  },
  {
   "cell_type": "code",
   "execution_count": 103,
   "id": "304d1abb-97b5-4cd3-971a-47ea2afa9e29",
   "metadata": {},
   "outputs": [
    {
     "data": {
      "text/plain": [
       "(5889167, 53)"
      ]
     },
     "execution_count": 103,
     "metadata": {},
     "output_type": "execute_result"
    }
   ],
   "source": [
    "df = pd.merge(df_clickhouse, df_creatives, on=\"creative_id\")\n",
    "df.shape"
   ]
  },
  {
   "cell_type": "code",
   "execution_count": 104,
   "id": "67c684af-8b03-460a-9a61-8a857f76b0a0",
   "metadata": {},
   "outputs": [
    {
     "data": {
      "text/plain": [
       "623"
      ]
     },
     "execution_count": 104,
     "metadata": {},
     "output_type": "execute_result"
    }
   ],
   "source": [
    "del df_clickhouse\n",
    "del df_creatives\n",
    "gc.collect()"
   ]
  },
  {
   "cell_type": "code",
   "execution_count": 105,
   "id": "0b69ce2e-4cd1-40ce-bbec-0c6a27fa9d2a",
   "metadata": {},
   "outputs": [],
   "source": [
    "df = nan_filling(dub_dropping(nan_click_viewed__deleting(df)))"
   ]
  },
  {
   "cell_type": "code",
   "execution_count": 106,
   "id": "95521c93-ba8c-4004-90ce-fdbfa201635a",
   "metadata": {},
   "outputs": [],
   "source": [
    "df_train, df_test = train_test_split(df, stratify = df['click'], shuffle=True, test_size=0.2, random_state=RANDOM_SEED)\n",
    "\n",
    "X_train = df_train.drop('click', axis = 1)\n",
    "y_train = df_train['click']\n",
    "\n",
    "X_test = df_test.drop('click', axis = 1)\n",
    "y_test = df_test['click']"
   ]
  },
  {
   "cell_type": "code",
   "execution_count": 107,
   "id": "8dd76a23-0f9b-4cd2-a5ac-c764d2d1e4b8",
   "metadata": {},
   "outputs": [
    {
     "data": {
      "text/plain": [
       "0"
      ]
     },
     "execution_count": 107,
     "metadata": {},
     "output_type": "execute_result"
    }
   ],
   "source": [
    "del df\n",
    "del df_train\n",
    "del df_test\n",
    "gc.collect()"
   ]
  },
  {
   "cell_type": "code",
   "execution_count": 108,
   "id": "cac8e74f-c24e-4064-bdf6-0f076acde688",
   "metadata": {},
   "outputs": [],
   "source": [
    "def column_deleting(X, y = None):\n",
    "    columns_for_drop = ['auction_date_time', 'impression_hash', 'ssp', 'is_pay',  'pay_price', 'auction_id', 'impression_id', 'bid_id', 'auction_type', 'bid_floor', 'bid_price', 'is_win', 'view', 'place_number', 'ssp_user_id', 'campaign_id_x', 'enter_utm_campaign',  'stream_id_x', 'link_id', 'format', 'ip_v4', 'ip_v6', 'tag_id', 'iab_category_x', 'ab_test', 'campaign_id_y', 'user_id', 'stream_id_y', 'is_deleted', 'image', 'created_at', 'updated_at']\n",
    "    X = X.drop(columns_for_drop, axis = 1)\n",
    "    X.reset_index(drop=True, inplace=True)\n",
    "    return X"
   ]
  },
  {
   "cell_type": "code",
   "execution_count": 109,
   "id": "317ed4a4-0b79-44a0-8130-c9a09112cfb3",
   "metadata": {},
   "outputs": [],
   "source": [
    "def feature_reduction(X, y = None):\n",
    "    X['browser'] = X['browser'].apply(lambda x : 'Chrome' if x == 'Google' else x)\n",
    "    X['browser'] = X['browser'].apply(lambda x : 'Yandex Browser' if x == 'Yandex' else x)\n",
    "    X.reset_index(drop=True, inplace=True)\n",
    "    return X"
   ]
  },
  {
   "cell_type": "code",
   "execution_count": 110,
   "id": "ac96dde8-7cb1-408c-981c-94d99c6ebe4f",
   "metadata": {},
   "outputs": [],
   "source": [
    "def date_time_col_transformation(X, y = None):\n",
    "    X['req_date_time'] = pd.to_datetime(X['event_date_time'], format='%Y-%m-%d %H:%M:%S')\n",
    "    X['day'] =  X['req_date_time'].dt.day\n",
    "    X['month'] =  X['req_date_time'].dt.month\n",
    "    X['year'] =  X['req_date_time'].dt.year\n",
    "    X['hour'] =  X['req_date_time'].dt.hour\n",
    "    X['day_of_week'] = X['event_date_time'].apply(lambda x : datetime.strptime(x, \"%Y-%m-%d %H:%M:%S\").weekday())\n",
    "    X['is_holyday'] = X['day_of_week'].apply(lambda x : 1 if x in [5 , 6] else 0)\n",
    "    X['is_friday'] = X['day_of_week'].apply(lambda x : 1 if x == 4 else 0)\n",
    "    X['is_monday'] = X['day_of_week'].apply(lambda x : 1 if x == 0 else 0)\n",
    "    X['day_part'] = X['hour'].apply(lambda x : 'Night' if x >= 22 and x < 5 else ('Morning' if x >= 5 and x < 12 else ('Day' if x >= 12 and x < 17 else 'Evening')))\n",
    "    X['year_part'] = X['month'].apply(lambda x : 'Winter' if x in [12, 1, 2] else ('Spring' if x in [3, 4, 5] else ('Summer' if x in [6, 7, 8] else 'Autumn')))\n",
    "    X = X.drop(['event_date_time', 'req_date_time', 'year'], axis = 1)\n",
    "    X.reset_index(drop=True, inplace=True)\n",
    "    return X"
   ]
  },
  {
   "cell_type": "code",
   "execution_count": 111,
   "id": "040c2ffc-954a-419a-b1ef-c7175d62beb6",
   "metadata": {},
   "outputs": [],
   "source": [
    "def type_transformation(X, y = None):\n",
    "    X['loss_reason'] = X['loss_reason'].astype('int8')\n",
    "    X['device'] = X['device'].astype('int8')\n",
    "    X['day'] = X['day'].astype('int8')\n",
    "    X['month'] = X['month'].astype('int8')\n",
    "    X['hour'] = X['hour'].astype('int8')\n",
    "    X['day_of_week'] = X['day_of_week'].astype('int8')\n",
    "    X['is_holyday'] = X['is_holyday'].astype('int8')\n",
    "    X['is_friday'] = X['is_friday'].astype('int8')\n",
    "    X['is_monday'] = X['is_monday'].astype('int8')\n",
    "    X.reset_index(drop=True, inplace=True)\n",
    "    return X"
   ]
  },
  {
   "cell_type": "code",
   "execution_count": 112,
   "id": "a727fc45-288b-4f5c-9ff5-e9e465ddef5c",
   "metadata": {},
   "outputs": [],
   "source": [
    "ohe = OneHotEncoder(sparse = False, max_categories = 500, handle_unknown = 'ignore')\n",
    "#ohe = OneHotEncoder(sparse = True, handle_unknown = 'ignore')"
   ]
  },
  {
   "cell_type": "code",
   "execution_count": 113,
   "id": "6c00cf19-99f3-43b9-9c5c-aa1b4f6adcac",
   "metadata": {},
   "outputs": [],
   "source": [
    "def cat_encoding(X, y = None):\n",
    "    cat_cols = X.columns\n",
    "    ohe.fit(X[cat_cols])\n",
    "    ft = ohe.transform(X[cat_cols])\n",
    "    df_ft = pd.DataFrame(ft, columns=ohe.get_feature_names_out())\n",
    "    X.reset_index(drop=True, inplace=True)\n",
    "    df_ft.reset_index(drop=True, inplace=True)\n",
    "    df_ft = df_ft.astype('uint8')\n",
    "    X = pd.concat([X, df_ft], axis=1)\n",
    "    X.drop(cat_cols, inplace = True, axis = 1)\n",
    "    \n",
    "    return X"
   ]
  },
  {
   "cell_type": "code",
   "execution_count": 114,
   "id": "51296559-a9b0-404d-8ac4-df2c68b08da4",
   "metadata": {},
   "outputs": [],
   "source": [
    "preprocessor = Pipeline(\n",
    "    steps=\n",
    "    [\n",
    "        ('column_deleting', FunctionTransformer(func=column_deleting)),\n",
    "        ('feature_reduction', FunctionTransformer(func=feature_reduction)),\n",
    "        ('date_time_col_transformation', FunctionTransformer(func=date_time_col_transformation)),\n",
    "        ('type_transformation', FunctionTransformer(func=type_transformation)),\n",
    "        ('cat_encoding', FunctionTransformer(func=cat_encoding)),\n",
    "        \n",
    "    ]\n",
    ")"
   ]
  },
  {
   "cell_type": "code",
   "execution_count": 115,
   "id": "285086c5-1ec2-40e1-94fd-9acb44b7e31b",
   "metadata": {},
   "outputs": [
    {
     "data": {
      "text/plain": [
       "(2392377, 929)"
      ]
     },
     "execution_count": 115,
     "metadata": {},
     "output_type": "execute_result"
    }
   ],
   "source": [
    "X_train_prep = preprocessor.fit_transform(X_train, y_train)\n",
    "X_train_prep.shape"
   ]
  },
  {
   "cell_type": "code",
   "execution_count": 116,
   "id": "581cbad6-3840-4a44-b8f6-a37acc037007",
   "metadata": {},
   "outputs": [
    {
     "data": {
      "text/html": [
       "<div>\n",
       "<style scoped>\n",
       "    .dataframe tbody tr th:only-of-type {\n",
       "        vertical-align: middle;\n",
       "    }\n",
       "\n",
       "    .dataframe tbody tr th {\n",
       "        vertical-align: top;\n",
       "    }\n",
       "\n",
       "    .dataframe thead th {\n",
       "        text-align: right;\n",
       "    }\n",
       "</style>\n",
       "<table border=\"1\" class=\"dataframe\">\n",
       "  <thead>\n",
       "    <tr style=\"text-align: right;\">\n",
       "      <th></th>\n",
       "      <th>loss_reason_0</th>\n",
       "      <th>loss_reason_1</th>\n",
       "      <th>loss_reason_2</th>\n",
       "      <th>loss_reason_4</th>\n",
       "      <th>loss_reason_5</th>\n",
       "      <th>loss_reason_6</th>\n",
       "      <th>loss_reason_9</th>\n",
       "      <th>loss_reason_10</th>\n",
       "      <th>loss_reason_11</th>\n",
       "      <th>loss_reason_12</th>\n",
       "      <th>...</th>\n",
       "      <th>is_holyday_0</th>\n",
       "      <th>is_holyday_1</th>\n",
       "      <th>is_friday_0</th>\n",
       "      <th>is_friday_1</th>\n",
       "      <th>is_monday_0</th>\n",
       "      <th>is_monday_1</th>\n",
       "      <th>day_part_Day</th>\n",
       "      <th>day_part_Evening</th>\n",
       "      <th>day_part_Morning</th>\n",
       "      <th>year_part_Winter</th>\n",
       "    </tr>\n",
       "  </thead>\n",
       "  <tbody>\n",
       "    <tr>\n",
       "      <th>0</th>\n",
       "      <td>0.0</td>\n",
       "      <td>0.0</td>\n",
       "      <td>0.0</td>\n",
       "      <td>0.0</td>\n",
       "      <td>0.0</td>\n",
       "      <td>0.0</td>\n",
       "      <td>0.0</td>\n",
       "      <td>1.0</td>\n",
       "      <td>0.0</td>\n",
       "      <td>0.0</td>\n",
       "      <td>...</td>\n",
       "      <td>1.0</td>\n",
       "      <td>0.0</td>\n",
       "      <td>1.0</td>\n",
       "      <td>0.0</td>\n",
       "      <td>1.0</td>\n",
       "      <td>0.0</td>\n",
       "      <td>0.0</td>\n",
       "      <td>1.0</td>\n",
       "      <td>0.0</td>\n",
       "      <td>1.0</td>\n",
       "    </tr>\n",
       "    <tr>\n",
       "      <th>1</th>\n",
       "      <td>0.0</td>\n",
       "      <td>0.0</td>\n",
       "      <td>0.0</td>\n",
       "      <td>0.0</td>\n",
       "      <td>0.0</td>\n",
       "      <td>0.0</td>\n",
       "      <td>0.0</td>\n",
       "      <td>0.0</td>\n",
       "      <td>0.0</td>\n",
       "      <td>0.0</td>\n",
       "      <td>...</td>\n",
       "      <td>1.0</td>\n",
       "      <td>0.0</td>\n",
       "      <td>1.0</td>\n",
       "      <td>0.0</td>\n",
       "      <td>1.0</td>\n",
       "      <td>0.0</td>\n",
       "      <td>0.0</td>\n",
       "      <td>0.0</td>\n",
       "      <td>1.0</td>\n",
       "      <td>1.0</td>\n",
       "    </tr>\n",
       "    <tr>\n",
       "      <th>2</th>\n",
       "      <td>0.0</td>\n",
       "      <td>0.0</td>\n",
       "      <td>0.0</td>\n",
       "      <td>0.0</td>\n",
       "      <td>0.0</td>\n",
       "      <td>1.0</td>\n",
       "      <td>0.0</td>\n",
       "      <td>0.0</td>\n",
       "      <td>0.0</td>\n",
       "      <td>0.0</td>\n",
       "      <td>...</td>\n",
       "      <td>0.0</td>\n",
       "      <td>1.0</td>\n",
       "      <td>1.0</td>\n",
       "      <td>0.0</td>\n",
       "      <td>1.0</td>\n",
       "      <td>0.0</td>\n",
       "      <td>1.0</td>\n",
       "      <td>0.0</td>\n",
       "      <td>0.0</td>\n",
       "      <td>1.0</td>\n",
       "    </tr>\n",
       "    <tr>\n",
       "      <th>3</th>\n",
       "      <td>0.0</td>\n",
       "      <td>0.0</td>\n",
       "      <td>0.0</td>\n",
       "      <td>0.0</td>\n",
       "      <td>0.0</td>\n",
       "      <td>0.0</td>\n",
       "      <td>0.0</td>\n",
       "      <td>1.0</td>\n",
       "      <td>0.0</td>\n",
       "      <td>0.0</td>\n",
       "      <td>...</td>\n",
       "      <td>1.0</td>\n",
       "      <td>0.0</td>\n",
       "      <td>1.0</td>\n",
       "      <td>0.0</td>\n",
       "      <td>1.0</td>\n",
       "      <td>0.0</td>\n",
       "      <td>0.0</td>\n",
       "      <td>0.0</td>\n",
       "      <td>1.0</td>\n",
       "      <td>1.0</td>\n",
       "    </tr>\n",
       "    <tr>\n",
       "      <th>4</th>\n",
       "      <td>0.0</td>\n",
       "      <td>0.0</td>\n",
       "      <td>0.0</td>\n",
       "      <td>0.0</td>\n",
       "      <td>0.0</td>\n",
       "      <td>0.0</td>\n",
       "      <td>0.0</td>\n",
       "      <td>0.0</td>\n",
       "      <td>0.0</td>\n",
       "      <td>0.0</td>\n",
       "      <td>...</td>\n",
       "      <td>1.0</td>\n",
       "      <td>0.0</td>\n",
       "      <td>1.0</td>\n",
       "      <td>0.0</td>\n",
       "      <td>1.0</td>\n",
       "      <td>0.0</td>\n",
       "      <td>1.0</td>\n",
       "      <td>0.0</td>\n",
       "      <td>0.0</td>\n",
       "      <td>1.0</td>\n",
       "    </tr>\n",
       "  </tbody>\n",
       "</table>\n",
       "<p>5 rows × 929 columns</p>\n",
       "</div>"
      ],
      "text/plain": [
       "   loss_reason_0  loss_reason_1  loss_reason_2  loss_reason_4  loss_reason_5   \n",
       "0            0.0            0.0            0.0            0.0            0.0  \\\n",
       "1            0.0            0.0            0.0            0.0            0.0   \n",
       "2            0.0            0.0            0.0            0.0            0.0   \n",
       "3            0.0            0.0            0.0            0.0            0.0   \n",
       "4            0.0            0.0            0.0            0.0            0.0   \n",
       "\n",
       "   loss_reason_6  loss_reason_9  loss_reason_10  loss_reason_11   \n",
       "0            0.0            0.0             1.0             0.0  \\\n",
       "1            0.0            0.0             0.0             0.0   \n",
       "2            1.0            0.0             0.0             0.0   \n",
       "3            0.0            0.0             1.0             0.0   \n",
       "4            0.0            0.0             0.0             0.0   \n",
       "\n",
       "   loss_reason_12  ...  is_holyday_0  is_holyday_1  is_friday_0  is_friday_1   \n",
       "0             0.0  ...           1.0           0.0          1.0          0.0  \\\n",
       "1             0.0  ...           1.0           0.0          1.0          0.0   \n",
       "2             0.0  ...           0.0           1.0          1.0          0.0   \n",
       "3             0.0  ...           1.0           0.0          1.0          0.0   \n",
       "4             0.0  ...           1.0           0.0          1.0          0.0   \n",
       "\n",
       "   is_monday_0  is_monday_1  day_part_Day  day_part_Evening  day_part_Morning   \n",
       "0          1.0          0.0           0.0               1.0               0.0  \\\n",
       "1          1.0          0.0           0.0               0.0               1.0   \n",
       "2          1.0          0.0           1.0               0.0               0.0   \n",
       "3          1.0          0.0           0.0               0.0               1.0   \n",
       "4          1.0          0.0           1.0               0.0               0.0   \n",
       "\n",
       "   year_part_Winter  \n",
       "0               1.0  \n",
       "1               1.0  \n",
       "2               1.0  \n",
       "3               1.0  \n",
       "4               1.0  \n",
       "\n",
       "[5 rows x 929 columns]"
      ]
     },
     "execution_count": 116,
     "metadata": {},
     "output_type": "execute_result"
    }
   ],
   "source": [
    "X_train_prep.head()"
   ]
  },
  {
   "cell_type": "code",
   "execution_count": 117,
   "id": "a0672095-88b3-4606-ac3c-dbef8bcfe31f",
   "metadata": {},
   "outputs": [
    {
     "data": {
      "text/plain": [
       "(598095, 905)"
      ]
     },
     "execution_count": 117,
     "metadata": {},
     "output_type": "execute_result"
    }
   ],
   "source": [
    "X_test_prep = preprocessor.fit_transform(X_test, y_test)\n",
    "X_test_prep.shape"
   ]
  },
  {
   "cell_type": "code",
   "execution_count": 118,
   "id": "dd98285a-5eeb-4058-8923-74de0e101218",
   "metadata": {},
   "outputs": [
    {
     "data": {
      "text/html": [
       "<div>\n",
       "<style scoped>\n",
       "    .dataframe tbody tr th:only-of-type {\n",
       "        vertical-align: middle;\n",
       "    }\n",
       "\n",
       "    .dataframe tbody tr th {\n",
       "        vertical-align: top;\n",
       "    }\n",
       "\n",
       "    .dataframe thead th {\n",
       "        text-align: right;\n",
       "    }\n",
       "</style>\n",
       "<table border=\"1\" class=\"dataframe\">\n",
       "  <thead>\n",
       "    <tr style=\"text-align: right;\">\n",
       "      <th></th>\n",
       "      <th>loss_reason_0</th>\n",
       "      <th>loss_reason_1</th>\n",
       "      <th>loss_reason_2</th>\n",
       "      <th>loss_reason_4</th>\n",
       "      <th>loss_reason_5</th>\n",
       "      <th>loss_reason_6</th>\n",
       "      <th>loss_reason_9</th>\n",
       "      <th>loss_reason_10</th>\n",
       "      <th>loss_reason_11</th>\n",
       "      <th>loss_reason_12</th>\n",
       "      <th>...</th>\n",
       "      <th>is_holyday_0</th>\n",
       "      <th>is_holyday_1</th>\n",
       "      <th>is_friday_0</th>\n",
       "      <th>is_friday_1</th>\n",
       "      <th>is_monday_0</th>\n",
       "      <th>is_monday_1</th>\n",
       "      <th>day_part_Day</th>\n",
       "      <th>day_part_Evening</th>\n",
       "      <th>day_part_Morning</th>\n",
       "      <th>year_part_Winter</th>\n",
       "    </tr>\n",
       "  </thead>\n",
       "  <tbody>\n",
       "    <tr>\n",
       "      <th>0</th>\n",
       "      <td>0.0</td>\n",
       "      <td>0.0</td>\n",
       "      <td>0.0</td>\n",
       "      <td>0.0</td>\n",
       "      <td>0.0</td>\n",
       "      <td>0.0</td>\n",
       "      <td>0.0</td>\n",
       "      <td>0.0</td>\n",
       "      <td>0.0</td>\n",
       "      <td>0.0</td>\n",
       "      <td>...</td>\n",
       "      <td>0.0</td>\n",
       "      <td>1.0</td>\n",
       "      <td>1.0</td>\n",
       "      <td>0.0</td>\n",
       "      <td>1.0</td>\n",
       "      <td>0.0</td>\n",
       "      <td>0.0</td>\n",
       "      <td>1.0</td>\n",
       "      <td>0.0</td>\n",
       "      <td>1.0</td>\n",
       "    </tr>\n",
       "    <tr>\n",
       "      <th>1</th>\n",
       "      <td>0.0</td>\n",
       "      <td>0.0</td>\n",
       "      <td>0.0</td>\n",
       "      <td>0.0</td>\n",
       "      <td>0.0</td>\n",
       "      <td>0.0</td>\n",
       "      <td>1.0</td>\n",
       "      <td>0.0</td>\n",
       "      <td>0.0</td>\n",
       "      <td>0.0</td>\n",
       "      <td>...</td>\n",
       "      <td>0.0</td>\n",
       "      <td>1.0</td>\n",
       "      <td>1.0</td>\n",
       "      <td>0.0</td>\n",
       "      <td>1.0</td>\n",
       "      <td>0.0</td>\n",
       "      <td>0.0</td>\n",
       "      <td>1.0</td>\n",
       "      <td>0.0</td>\n",
       "      <td>1.0</td>\n",
       "    </tr>\n",
       "    <tr>\n",
       "      <th>2</th>\n",
       "      <td>0.0</td>\n",
       "      <td>0.0</td>\n",
       "      <td>1.0</td>\n",
       "      <td>0.0</td>\n",
       "      <td>0.0</td>\n",
       "      <td>0.0</td>\n",
       "      <td>0.0</td>\n",
       "      <td>0.0</td>\n",
       "      <td>0.0</td>\n",
       "      <td>0.0</td>\n",
       "      <td>...</td>\n",
       "      <td>1.0</td>\n",
       "      <td>0.0</td>\n",
       "      <td>1.0</td>\n",
       "      <td>0.0</td>\n",
       "      <td>0.0</td>\n",
       "      <td>1.0</td>\n",
       "      <td>0.0</td>\n",
       "      <td>0.0</td>\n",
       "      <td>1.0</td>\n",
       "      <td>1.0</td>\n",
       "    </tr>\n",
       "    <tr>\n",
       "      <th>3</th>\n",
       "      <td>0.0</td>\n",
       "      <td>0.0</td>\n",
       "      <td>0.0</td>\n",
       "      <td>0.0</td>\n",
       "      <td>0.0</td>\n",
       "      <td>0.0</td>\n",
       "      <td>0.0</td>\n",
       "      <td>0.0</td>\n",
       "      <td>0.0</td>\n",
       "      <td>0.0</td>\n",
       "      <td>...</td>\n",
       "      <td>1.0</td>\n",
       "      <td>0.0</td>\n",
       "      <td>1.0</td>\n",
       "      <td>0.0</td>\n",
       "      <td>0.0</td>\n",
       "      <td>1.0</td>\n",
       "      <td>0.0</td>\n",
       "      <td>1.0</td>\n",
       "      <td>0.0</td>\n",
       "      <td>1.0</td>\n",
       "    </tr>\n",
       "    <tr>\n",
       "      <th>4</th>\n",
       "      <td>0.0</td>\n",
       "      <td>0.0</td>\n",
       "      <td>0.0</td>\n",
       "      <td>0.0</td>\n",
       "      <td>0.0</td>\n",
       "      <td>1.0</td>\n",
       "      <td>0.0</td>\n",
       "      <td>0.0</td>\n",
       "      <td>0.0</td>\n",
       "      <td>0.0</td>\n",
       "      <td>...</td>\n",
       "      <td>1.0</td>\n",
       "      <td>0.0</td>\n",
       "      <td>1.0</td>\n",
       "      <td>0.0</td>\n",
       "      <td>1.0</td>\n",
       "      <td>0.0</td>\n",
       "      <td>0.0</td>\n",
       "      <td>1.0</td>\n",
       "      <td>0.0</td>\n",
       "      <td>1.0</td>\n",
       "    </tr>\n",
       "  </tbody>\n",
       "</table>\n",
       "<p>5 rows × 905 columns</p>\n",
       "</div>"
      ],
      "text/plain": [
       "   loss_reason_0  loss_reason_1  loss_reason_2  loss_reason_4  loss_reason_5   \n",
       "0            0.0            0.0            0.0            0.0            0.0  \\\n",
       "1            0.0            0.0            0.0            0.0            0.0   \n",
       "2            0.0            0.0            1.0            0.0            0.0   \n",
       "3            0.0            0.0            0.0            0.0            0.0   \n",
       "4            0.0            0.0            0.0            0.0            0.0   \n",
       "\n",
       "   loss_reason_6  loss_reason_9  loss_reason_10  loss_reason_11   \n",
       "0            0.0            0.0             0.0             0.0  \\\n",
       "1            0.0            1.0             0.0             0.0   \n",
       "2            0.0            0.0             0.0             0.0   \n",
       "3            0.0            0.0             0.0             0.0   \n",
       "4            1.0            0.0             0.0             0.0   \n",
       "\n",
       "   loss_reason_12  ...  is_holyday_0  is_holyday_1  is_friday_0  is_friday_1   \n",
       "0             0.0  ...           0.0           1.0          1.0          0.0  \\\n",
       "1             0.0  ...           0.0           1.0          1.0          0.0   \n",
       "2             0.0  ...           1.0           0.0          1.0          0.0   \n",
       "3             0.0  ...           1.0           0.0          1.0          0.0   \n",
       "4             0.0  ...           1.0           0.0          1.0          0.0   \n",
       "\n",
       "   is_monday_0  is_monday_1  day_part_Day  day_part_Evening  day_part_Morning   \n",
       "0          1.0          0.0           0.0               1.0               0.0  \\\n",
       "1          1.0          0.0           0.0               1.0               0.0   \n",
       "2          0.0          1.0           0.0               0.0               1.0   \n",
       "3          0.0          1.0           0.0               1.0               0.0   \n",
       "4          1.0          0.0           0.0               1.0               0.0   \n",
       "\n",
       "   year_part_Winter  \n",
       "0               1.0  \n",
       "1               1.0  \n",
       "2               1.0  \n",
       "3               1.0  \n",
       "4               1.0  \n",
       "\n",
       "[5 rows x 905 columns]"
      ]
     },
     "execution_count": 118,
     "metadata": {},
     "output_type": "execute_result"
    }
   ],
   "source": [
    "X_test_prep.head()"
   ]
  },
  {
   "cell_type": "code",
   "execution_count": 150,
   "id": "5920f0ba-1df9-4a85-90b5-edecbcf8400e",
   "metadata": {},
   "outputs": [],
   "source": [
    "X_train_tensor = tf.convert_to_tensor(X_train_prep)\n",
    "y_train_tensor = tf.convert_to_tensor(y_train)\n",
    "\n",
    "X_test_tensor = tf.convert_to_tensor(X_test_prep)\n",
    "y_test_tensor = tf.convert_to_tensor(y_test)"
   ]
  },
  {
   "cell_type": "code",
   "execution_count": 120,
   "id": "9045b767-9233-49b0-962b-fae877dbbeeb",
   "metadata": {},
   "outputs": [],
   "source": [
    "kf = KFold(n_splits = 5, shuffle = True, random_state = RANDOM_SEED)"
   ]
  },
  {
   "cell_type": "code",
   "execution_count": 131,
   "id": "a64376f6-4195-4d53-8e4b-64cb3b12d9f6",
   "metadata": {},
   "outputs": [],
   "source": [
    "model = tf.keras.models.Sequential([\n",
    "  tf.keras.layers.Dense(100, input_dim = X_train_prep.shape[1], activation='sigmoid'),\n",
    "  tf.keras.layers.Dense(128, activation='sigmoid'),\n",
    "  tf.keras.layers.Dropout(0.2),\n",
    "  tf.keras.layers.Dense(len(y_train.unique()))\n",
    "])"
   ]
  },
  {
   "cell_type": "code",
   "execution_count": 159,
   "id": "265a8450-c7d0-4126-a0b7-1f02dd6bc969",
   "metadata": {},
   "outputs": [],
   "source": [
    "loss_fn = tf.keras.losses.BinaryCrossentropy()"
   ]
  },
  {
   "cell_type": "code",
   "execution_count": 162,
   "id": "09b045a8-fc0c-436c-b002-a2219c9d608c",
   "metadata": {},
   "outputs": [],
   "source": [
    "model.compile(optimizer='adam',\n",
    "              loss=loss_fn,\n",
    "              #metrics=['accuracy']\n",
    "              metrics=[tf.keras.metrics.BinaryCrossentropy()]\n",
    "              #metrics = [tf.keras.metrics.AUC()]\n",
    "             )"
   ]
  },
  {
   "cell_type": "code",
   "execution_count": 163,
   "id": "62f485d8-4f86-4180-9440-fcaa7bc86163",
   "metadata": {},
   "outputs": [
    {
     "name": "stdout",
     "output_type": "stream",
     "text": [
      "Epoch 1/5\n",
      "74762/74762 [==============================] - 101s 1ms/step - loss: 0.4246 - binary_crossentropy: 0.4246\n",
      "Epoch 2/5\n",
      "74762/74762 [==============================] - 102s 1ms/step - loss: 0.4246 - binary_crossentropy: 0.4246\n",
      "Epoch 3/5\n",
      "74762/74762 [==============================] - 102s 1ms/step - loss: 0.4246 - binary_crossentropy: 0.4246\n",
      "Epoch 4/5\n",
      "74762/74762 [==============================] - 100s 1ms/step - loss: 0.4246 - binary_crossentropy: 0.4246\n",
      "Epoch 5/5\n",
      "74762/74762 [==============================] - 102s 1ms/step - loss: 0.4246 - binary_crossentropy: 0.4246\n"
     ]
    },
    {
     "data": {
      "text/plain": [
       "<keras.callbacks.History at 0x297ee02bf10>"
      ]
     },
     "execution_count": 163,
     "metadata": {},
     "output_type": "execute_result"
    }
   ],
   "source": [
    "model.fit(X_train_tensor, y_train, epochs=5)"
   ]
  },
  {
   "cell_type": "code",
   "execution_count": 169,
   "id": "d03b0adc-8fbe-4d8e-ae81-85fb4ae993ca",
   "metadata": {},
   "outputs": [],
   "source": [
    "probability_model = tf.keras.Sequential([\n",
    "  model,\n",
    "  tf.keras.layers.Softmax()\n",
    "])"
   ]
  },
  {
   "cell_type": "code",
   "execution_count": 170,
   "id": "d50b5741-9396-487a-b3bc-fabee7081ca6",
   "metadata": {},
   "outputs": [
    {
     "ename": "ValueError",
     "evalue": "Input 0 of layer \"sequential_3\" is incompatible with the layer: expected shape=(None, 929), found shape=(598095, 905)",
     "output_type": "error",
     "traceback": [
      "\u001b[1;31m---------------------------------------------------------------------------\u001b[0m",
      "\u001b[1;31mValueError\u001b[0m                                Traceback (most recent call last)",
      "Cell \u001b[1;32mIn[170], line 1\u001b[0m\n\u001b[1;32m----> 1\u001b[0m predictions \u001b[38;5;241m=\u001b[39m \u001b[43mmodel\u001b[49m\u001b[43m(\u001b[49m\u001b[43mX_test_tensor\u001b[49m\u001b[43m)\u001b[49m\n\u001b[0;32m      2\u001b[0m predictions\n",
      "File \u001b[1;32m~\\AppData\\Roaming\\Python\\Python311\\site-packages\\keras\\utils\\traceback_utils.py:70\u001b[0m, in \u001b[0;36mfilter_traceback.<locals>.error_handler\u001b[1;34m(*args, **kwargs)\u001b[0m\n\u001b[0;32m     67\u001b[0m     filtered_tb \u001b[38;5;241m=\u001b[39m _process_traceback_frames(e\u001b[38;5;241m.\u001b[39m__traceback__)\n\u001b[0;32m     68\u001b[0m     \u001b[38;5;66;03m# To get the full stack trace, call:\u001b[39;00m\n\u001b[0;32m     69\u001b[0m     \u001b[38;5;66;03m# `tf.debugging.disable_traceback_filtering()`\u001b[39;00m\n\u001b[1;32m---> 70\u001b[0m     \u001b[38;5;28;01mraise\u001b[39;00m e\u001b[38;5;241m.\u001b[39mwith_traceback(filtered_tb) \u001b[38;5;28;01mfrom\u001b[39;00m \u001b[38;5;28;01mNone\u001b[39;00m\n\u001b[0;32m     71\u001b[0m \u001b[38;5;28;01mfinally\u001b[39;00m:\n\u001b[0;32m     72\u001b[0m     \u001b[38;5;28;01mdel\u001b[39;00m filtered_tb\n",
      "File \u001b[1;32m~\\AppData\\Roaming\\Python\\Python311\\site-packages\\keras\\engine\\input_spec.py:298\u001b[0m, in \u001b[0;36massert_input_compatibility\u001b[1;34m(input_spec, inputs, layer_name)\u001b[0m\n\u001b[0;32m    296\u001b[0m \u001b[38;5;28;01mif\u001b[39;00m spec_dim \u001b[38;5;129;01mis\u001b[39;00m \u001b[38;5;129;01mnot\u001b[39;00m \u001b[38;5;28;01mNone\u001b[39;00m \u001b[38;5;129;01mand\u001b[39;00m dim \u001b[38;5;129;01mis\u001b[39;00m \u001b[38;5;129;01mnot\u001b[39;00m \u001b[38;5;28;01mNone\u001b[39;00m:\n\u001b[0;32m    297\u001b[0m     \u001b[38;5;28;01mif\u001b[39;00m spec_dim \u001b[38;5;241m!=\u001b[39m dim:\n\u001b[1;32m--> 298\u001b[0m         \u001b[38;5;28;01mraise\u001b[39;00m \u001b[38;5;167;01mValueError\u001b[39;00m(\n\u001b[0;32m    299\u001b[0m             \u001b[38;5;124mf\u001b[39m\u001b[38;5;124m'\u001b[39m\u001b[38;5;124mInput \u001b[39m\u001b[38;5;132;01m{\u001b[39;00minput_index\u001b[38;5;132;01m}\u001b[39;00m\u001b[38;5;124m of layer \u001b[39m\u001b[38;5;124m\"\u001b[39m\u001b[38;5;132;01m{\u001b[39;00mlayer_name\u001b[38;5;132;01m}\u001b[39;00m\u001b[38;5;124m\"\u001b[39m\u001b[38;5;124m is \u001b[39m\u001b[38;5;124m'\u001b[39m\n\u001b[0;32m    300\u001b[0m             \u001b[38;5;124m\"\u001b[39m\u001b[38;5;124mincompatible with the layer: \u001b[39m\u001b[38;5;124m\"\u001b[39m\n\u001b[0;32m    301\u001b[0m             \u001b[38;5;124mf\u001b[39m\u001b[38;5;124m\"\u001b[39m\u001b[38;5;124mexpected shape=\u001b[39m\u001b[38;5;132;01m{\u001b[39;00mspec\u001b[38;5;241m.\u001b[39mshape\u001b[38;5;132;01m}\u001b[39;00m\u001b[38;5;124m, \u001b[39m\u001b[38;5;124m\"\u001b[39m\n\u001b[0;32m    302\u001b[0m             \u001b[38;5;124mf\u001b[39m\u001b[38;5;124m\"\u001b[39m\u001b[38;5;124mfound shape=\u001b[39m\u001b[38;5;132;01m{\u001b[39;00mdisplay_shape(x\u001b[38;5;241m.\u001b[39mshape)\u001b[38;5;132;01m}\u001b[39;00m\u001b[38;5;124m\"\u001b[39m\n\u001b[0;32m    303\u001b[0m         )\n",
      "\u001b[1;31mValueError\u001b[0m: Input 0 of layer \"sequential_3\" is incompatible with the layer: expected shape=(None, 929), found shape=(598095, 905)"
     ]
    }
   ],
   "source": [
    "predictions = model(X_test_tensor)\n",
    "predictions"
   ]
  },
  {
   "cell_type": "code",
   "execution_count": 171,
   "id": "18f105ea-f335-4aec-98c1-27603631c3f4",
   "metadata": {},
   "outputs": [
    {
     "ename": "ValueError",
     "evalue": "Input 0 of layer \"sequential_6\" is incompatible with the layer: expected shape=(None, 929), found shape=(598095, 905)",
     "output_type": "error",
     "traceback": [
      "\u001b[1;31m---------------------------------------------------------------------------\u001b[0m",
      "\u001b[1;31mValueError\u001b[0m                                Traceback (most recent call last)",
      "Cell \u001b[1;32mIn[171], line 1\u001b[0m\n\u001b[1;32m----> 1\u001b[0m probs \u001b[38;5;241m=\u001b[39m \u001b[43mprobability_model\u001b[49m\u001b[43m(\u001b[49m\u001b[43mX_test_tensor\u001b[49m\u001b[43m)\u001b[49m\n\u001b[0;32m      2\u001b[0m probs\n",
      "File \u001b[1;32m~\\AppData\\Roaming\\Python\\Python311\\site-packages\\keras\\utils\\traceback_utils.py:70\u001b[0m, in \u001b[0;36mfilter_traceback.<locals>.error_handler\u001b[1;34m(*args, **kwargs)\u001b[0m\n\u001b[0;32m     67\u001b[0m     filtered_tb \u001b[38;5;241m=\u001b[39m _process_traceback_frames(e\u001b[38;5;241m.\u001b[39m__traceback__)\n\u001b[0;32m     68\u001b[0m     \u001b[38;5;66;03m# To get the full stack trace, call:\u001b[39;00m\n\u001b[0;32m     69\u001b[0m     \u001b[38;5;66;03m# `tf.debugging.disable_traceback_filtering()`\u001b[39;00m\n\u001b[1;32m---> 70\u001b[0m     \u001b[38;5;28;01mraise\u001b[39;00m e\u001b[38;5;241m.\u001b[39mwith_traceback(filtered_tb) \u001b[38;5;28;01mfrom\u001b[39;00m \u001b[38;5;28;01mNone\u001b[39;00m\n\u001b[0;32m     71\u001b[0m \u001b[38;5;28;01mfinally\u001b[39;00m:\n\u001b[0;32m     72\u001b[0m     \u001b[38;5;28;01mdel\u001b[39;00m filtered_tb\n",
      "File \u001b[1;32m~\\AppData\\Roaming\\Python\\Python311\\site-packages\\keras\\engine\\input_spec.py:298\u001b[0m, in \u001b[0;36massert_input_compatibility\u001b[1;34m(input_spec, inputs, layer_name)\u001b[0m\n\u001b[0;32m    296\u001b[0m \u001b[38;5;28;01mif\u001b[39;00m spec_dim \u001b[38;5;129;01mis\u001b[39;00m \u001b[38;5;129;01mnot\u001b[39;00m \u001b[38;5;28;01mNone\u001b[39;00m \u001b[38;5;129;01mand\u001b[39;00m dim \u001b[38;5;129;01mis\u001b[39;00m \u001b[38;5;129;01mnot\u001b[39;00m \u001b[38;5;28;01mNone\u001b[39;00m:\n\u001b[0;32m    297\u001b[0m     \u001b[38;5;28;01mif\u001b[39;00m spec_dim \u001b[38;5;241m!=\u001b[39m dim:\n\u001b[1;32m--> 298\u001b[0m         \u001b[38;5;28;01mraise\u001b[39;00m \u001b[38;5;167;01mValueError\u001b[39;00m(\n\u001b[0;32m    299\u001b[0m             \u001b[38;5;124mf\u001b[39m\u001b[38;5;124m'\u001b[39m\u001b[38;5;124mInput \u001b[39m\u001b[38;5;132;01m{\u001b[39;00minput_index\u001b[38;5;132;01m}\u001b[39;00m\u001b[38;5;124m of layer \u001b[39m\u001b[38;5;124m\"\u001b[39m\u001b[38;5;132;01m{\u001b[39;00mlayer_name\u001b[38;5;132;01m}\u001b[39;00m\u001b[38;5;124m\"\u001b[39m\u001b[38;5;124m is \u001b[39m\u001b[38;5;124m'\u001b[39m\n\u001b[0;32m    300\u001b[0m             \u001b[38;5;124m\"\u001b[39m\u001b[38;5;124mincompatible with the layer: \u001b[39m\u001b[38;5;124m\"\u001b[39m\n\u001b[0;32m    301\u001b[0m             \u001b[38;5;124mf\u001b[39m\u001b[38;5;124m\"\u001b[39m\u001b[38;5;124mexpected shape=\u001b[39m\u001b[38;5;132;01m{\u001b[39;00mspec\u001b[38;5;241m.\u001b[39mshape\u001b[38;5;132;01m}\u001b[39;00m\u001b[38;5;124m, \u001b[39m\u001b[38;5;124m\"\u001b[39m\n\u001b[0;32m    302\u001b[0m             \u001b[38;5;124mf\u001b[39m\u001b[38;5;124m\"\u001b[39m\u001b[38;5;124mfound shape=\u001b[39m\u001b[38;5;132;01m{\u001b[39;00mdisplay_shape(x\u001b[38;5;241m.\u001b[39mshape)\u001b[38;5;132;01m}\u001b[39;00m\u001b[38;5;124m\"\u001b[39m\n\u001b[0;32m    303\u001b[0m         )\n",
      "\u001b[1;31mValueError\u001b[0m: Input 0 of layer \"sequential_6\" is incompatible with the layer: expected shape=(None, 929), found shape=(598095, 905)"
     ]
    }
   ],
   "source": [
    "probs = probability_model(X_test_tensor)\n",
    "probs"
   ]
  },
  {
   "cell_type": "code",
   "execution_count": null,
   "id": "dfa5d36a-3b4a-4ff4-bee5-d76495725f58",
   "metadata": {},
   "outputs": [],
   "source": [
    "roc_auc_score(y_test, probs)"
   ]
  }
 ],
 "metadata": {
  "kernelspec": {
   "display_name": "Python 3 (ipykernel)",
   "language": "python",
   "name": "python3"
  },
  "language_info": {
   "codemirror_mode": {
    "name": "ipython",
    "version": 3
   },
   "file_extension": ".py",
   "mimetype": "text/x-python",
   "name": "python",
   "nbconvert_exporter": "python",
   "pygments_lexer": "ipython3",
   "version": "3.11.5"
  }
 },
 "nbformat": 4,
 "nbformat_minor": 5
}
